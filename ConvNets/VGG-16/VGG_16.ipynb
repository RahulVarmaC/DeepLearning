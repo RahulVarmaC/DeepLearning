{
  "nbformat": 4,
  "nbformat_minor": 0,
  "metadata": {
    "colab": {
      "name": "VGG-16.ipynb",
      "provenance": [],
      "collapsed_sections": [],
      "machine_shape": "hm"
    },
    "kernelspec": {
      "name": "python3",
      "display_name": "Python 3"
    },
    "language_info": {
      "name": "python"
    },
    "accelerator": "GPU"
  },
  "cells": [
    {
      "cell_type": "code",
      "source": [
        "from google.colab import drive\n",
        "drive.mount('/content/drive/')"
      ],
      "metadata": {
        "colab": {
          "base_uri": "https://localhost:8080/"
        },
        "id": "-JF8qSgEKPju",
        "outputId": "2e4ea889-8c1f-455d-a986-3ff5c155ea0e"
      },
      "execution_count": null,
      "outputs": [
        {
          "output_type": "stream",
          "name": "stdout",
          "text": [
            "Mounted at /content/drive/\n"
          ]
        }
      ]
    },
    {
      "cell_type": "code",
      "execution_count": null,
      "metadata": {
        "id": "_D0f8QDiJgco"
      },
      "outputs": [],
      "source": [
        "import numpy as np\n",
        "import pandas as pd\n",
        "import matplotlib.pyplot as plt"
      ]
    },
    {
      "cell_type": "code",
      "source": [
        "import os\n",
        "import shutil\n",
        "classes=[\"volleyball\",\"baseball\",\"boxing\",\"basketball\",\"football\"]\n",
        "folder = r\"/content/drive/My Drive/Colab Notebooks/Datasets/sports-video-data/sports-video-data/train_images\"\n",
        "subfolders = [f.path for f in os.scandir(folder) if f.is_dir()]\n",
        "data=pd.DataFrame(columns=[\"image_path\",\"class\"])\n",
        "print(subfolders)\n",
        "for sub in subfolders:\n",
        "    for f in os.listdir(sub):\n",
        "      if sub=='/content/drive/My Drive/Colab Notebooks/Datasets/sports-video-data/sports-video-data/train_images/volleyball':\n",
        "        f1='/content/drive/My Drive/Colab Notebooks/Datasets/sports-video-data/sports-video-data/train_images/volleyball'+'/'+f\n",
        "        df1=pd.DataFrame([[f1,'volleyball']],columns=[\"image_path\",\"class\"])\n",
        "        data=data.append(df1)\n",
        "\n",
        "      elif sub=='/content/drive/My Drive/Colab Notebooks/Datasets/sports-video-data/sports-video-data/train_images/basketball':\n",
        "        f2='/content/drive/My Drive/Colab Notebooks/Datasets/sports-video-data/sports-video-data/train_images/basketball'+'/'+f\n",
        "        df1=pd.DataFrame([[f2,'basketball']],columns=[\"image_path\",\"class\"])\n",
        "        data=data.append(df1)\n",
        "\n",
        "      elif sub=='/content/drive/My Drive/Colab Notebooks/Datasets/sports-video-data/sports-video-data/train_images/baseball':\n",
        "        f3='/content/drive/My Drive/Colab Notebooks/Datasets/sports-video-data/sports-video-data/train_images/baseball'+'/'+f\n",
        "        df1=pd.DataFrame([[f3,'baseball']],columns=[\"image_path\",\"class\"])\n",
        "        data=data.append(df1)\n",
        "        \n",
        "      elif sub=='/content/drive/My Drive/Colab Notebooks/Datasets/sports-video-data/sports-video-data/train_images/football':\n",
        "        f4= '/content/drive/My Drive/Colab Notebooks/Datasets/sports-video-data/sports-video-data/train_images/football'+'/'+f\n",
        "        df1=pd.DataFrame([[f4,'football']],columns=[\"image_path\",\"class\"])\n",
        "        data=data.append(df1)\n",
        "\n",
        "      elif sub=='/content/drive/My Drive/Colab Notebooks/Datasets/sports-video-data/sports-video-data/train_images/boxing':\n",
        "        f5='/content/drive/My Drive/Colab Notebooks/Datasets/sports-video-data/sports-video-data/train_images/boxing'+'/'+f\n",
        "        df1=pd.DataFrame([[f5,'boxing']],columns=[\"image_path\",\"class\"])\n",
        "        data=data.append(df1)\n",
        "      \n",
        "        #print(df1)\n",
        "        \n",
        "        # src = os.path.join(sub, f)\n",
        "        # dst = os.path.join(folder, f)\n",
        "        # shutil.move(src, dst)"
      ],
      "metadata": {
        "colab": {
          "base_uri": "https://localhost:8080/"
        },
        "id": "bQVol4Q7Tvea",
        "outputId": "71491f41-52a6-4459-a7bb-27f981a3ea82"
      },
      "execution_count": null,
      "outputs": [
        {
          "output_type": "stream",
          "name": "stdout",
          "text": [
            "['/content/drive/My Drive/Colab Notebooks/Datasets/sports-video-data/sports-video-data/train_images/volleyball', '/content/drive/My Drive/Colab Notebooks/Datasets/sports-video-data/sports-video-data/train_images/boxing', '/content/drive/My Drive/Colab Notebooks/Datasets/sports-video-data/sports-video-data/train_images/baseball', '/content/drive/My Drive/Colab Notebooks/Datasets/sports-video-data/sports-video-data/train_images/basketball', '/content/drive/My Drive/Colab Notebooks/Datasets/sports-video-data/sports-video-data/train_images/football', '/content/drive/My Drive/Colab Notebooks/Datasets/sports-video-data/sports-video-data/train_images/models']\n"
          ]
        }
      ]
    },
    {
      "cell_type": "code",
      "source": [
        "from sklearn.utils import shuffle\n",
        "data = shuffle(data)\n",
        "data.head()"
      ],
      "metadata": {
        "colab": {
          "base_uri": "https://localhost:8080/",
          "height": 206
        },
        "id": "Pj3U_E4PVYKC",
        "outputId": "541820f2-c10c-4f7b-e4fd-4c15e07cccfc"
      },
      "execution_count": null,
      "outputs": [
        {
          "output_type": "execute_result",
          "data": {
            "text/plain": [
              "                                          image_path       class\n",
              "0  /content/drive/My Drive/Colab Notebooks/Datase...  volleyball\n",
              "0  /content/drive/My Drive/Colab Notebooks/Datase...  basketball\n",
              "0  /content/drive/My Drive/Colab Notebooks/Datase...  volleyball\n",
              "0  /content/drive/My Drive/Colab Notebooks/Datase...      boxing\n",
              "0  /content/drive/My Drive/Colab Notebooks/Datase...  volleyball"
            ],
            "text/html": [
              "\n",
              "  <div id=\"df-67504476-1602-48a1-bb9e-5b5fd4d66d28\">\n",
              "    <div class=\"colab-df-container\">\n",
              "      <div>\n",
              "<style scoped>\n",
              "    .dataframe tbody tr th:only-of-type {\n",
              "        vertical-align: middle;\n",
              "    }\n",
              "\n",
              "    .dataframe tbody tr th {\n",
              "        vertical-align: top;\n",
              "    }\n",
              "\n",
              "    .dataframe thead th {\n",
              "        text-align: right;\n",
              "    }\n",
              "</style>\n",
              "<table border=\"1\" class=\"dataframe\">\n",
              "  <thead>\n",
              "    <tr style=\"text-align: right;\">\n",
              "      <th></th>\n",
              "      <th>image_path</th>\n",
              "      <th>class</th>\n",
              "    </tr>\n",
              "  </thead>\n",
              "  <tbody>\n",
              "    <tr>\n",
              "      <th>0</th>\n",
              "      <td>/content/drive/My Drive/Colab Notebooks/Datase...</td>\n",
              "      <td>volleyball</td>\n",
              "    </tr>\n",
              "    <tr>\n",
              "      <th>0</th>\n",
              "      <td>/content/drive/My Drive/Colab Notebooks/Datase...</td>\n",
              "      <td>basketball</td>\n",
              "    </tr>\n",
              "    <tr>\n",
              "      <th>0</th>\n",
              "      <td>/content/drive/My Drive/Colab Notebooks/Datase...</td>\n",
              "      <td>volleyball</td>\n",
              "    </tr>\n",
              "    <tr>\n",
              "      <th>0</th>\n",
              "      <td>/content/drive/My Drive/Colab Notebooks/Datase...</td>\n",
              "      <td>boxing</td>\n",
              "    </tr>\n",
              "    <tr>\n",
              "      <th>0</th>\n",
              "      <td>/content/drive/My Drive/Colab Notebooks/Datase...</td>\n",
              "      <td>volleyball</td>\n",
              "    </tr>\n",
              "  </tbody>\n",
              "</table>\n",
              "</div>\n",
              "      <button class=\"colab-df-convert\" onclick=\"convertToInteractive('df-67504476-1602-48a1-bb9e-5b5fd4d66d28')\"\n",
              "              title=\"Convert this dataframe to an interactive table.\"\n",
              "              style=\"display:none;\">\n",
              "        \n",
              "  <svg xmlns=\"http://www.w3.org/2000/svg\" height=\"24px\"viewBox=\"0 0 24 24\"\n",
              "       width=\"24px\">\n",
              "    <path d=\"M0 0h24v24H0V0z\" fill=\"none\"/>\n",
              "    <path d=\"M18.56 5.44l.94 2.06.94-2.06 2.06-.94-2.06-.94-.94-2.06-.94 2.06-2.06.94zm-11 1L8.5 8.5l.94-2.06 2.06-.94-2.06-.94L8.5 2.5l-.94 2.06-2.06.94zm10 10l.94 2.06.94-2.06 2.06-.94-2.06-.94-.94-2.06-.94 2.06-2.06.94z\"/><path d=\"M17.41 7.96l-1.37-1.37c-.4-.4-.92-.59-1.43-.59-.52 0-1.04.2-1.43.59L10.3 9.45l-7.72 7.72c-.78.78-.78 2.05 0 2.83L4 21.41c.39.39.9.59 1.41.59.51 0 1.02-.2 1.41-.59l7.78-7.78 2.81-2.81c.8-.78.8-2.07 0-2.86zM5.41 20L4 18.59l7.72-7.72 1.47 1.35L5.41 20z\"/>\n",
              "  </svg>\n",
              "      </button>\n",
              "      \n",
              "  <style>\n",
              "    .colab-df-container {\n",
              "      display:flex;\n",
              "      flex-wrap:wrap;\n",
              "      gap: 12px;\n",
              "    }\n",
              "\n",
              "    .colab-df-convert {\n",
              "      background-color: #E8F0FE;\n",
              "      border: none;\n",
              "      border-radius: 50%;\n",
              "      cursor: pointer;\n",
              "      display: none;\n",
              "      fill: #1967D2;\n",
              "      height: 32px;\n",
              "      padding: 0 0 0 0;\n",
              "      width: 32px;\n",
              "    }\n",
              "\n",
              "    .colab-df-convert:hover {\n",
              "      background-color: #E2EBFA;\n",
              "      box-shadow: 0px 1px 2px rgba(60, 64, 67, 0.3), 0px 1px 3px 1px rgba(60, 64, 67, 0.15);\n",
              "      fill: #174EA6;\n",
              "    }\n",
              "\n",
              "    [theme=dark] .colab-df-convert {\n",
              "      background-color: #3B4455;\n",
              "      fill: #D2E3FC;\n",
              "    }\n",
              "\n",
              "    [theme=dark] .colab-df-convert:hover {\n",
              "      background-color: #434B5C;\n",
              "      box-shadow: 0px 1px 3px 1px rgba(0, 0, 0, 0.15);\n",
              "      filter: drop-shadow(0px 1px 2px rgba(0, 0, 0, 0.3));\n",
              "      fill: #FFFFFF;\n",
              "    }\n",
              "  </style>\n",
              "\n",
              "      <script>\n",
              "        const buttonEl =\n",
              "          document.querySelector('#df-67504476-1602-48a1-bb9e-5b5fd4d66d28 button.colab-df-convert');\n",
              "        buttonEl.style.display =\n",
              "          google.colab.kernel.accessAllowed ? 'block' : 'none';\n",
              "\n",
              "        async function convertToInteractive(key) {\n",
              "          const element = document.querySelector('#df-67504476-1602-48a1-bb9e-5b5fd4d66d28');\n",
              "          const dataTable =\n",
              "            await google.colab.kernel.invokeFunction('convertToInteractive',\n",
              "                                                     [key], {});\n",
              "          if (!dataTable) return;\n",
              "\n",
              "          const docLinkHtml = 'Like what you see? Visit the ' +\n",
              "            '<a target=\"_blank\" href=https://colab.research.google.com/notebooks/data_table.ipynb>data table notebook</a>'\n",
              "            + ' to learn more about interactive tables.';\n",
              "          element.innerHTML = '';\n",
              "          dataTable['output_type'] = 'display_data';\n",
              "          await google.colab.output.renderOutput(dataTable, element);\n",
              "          const docLink = document.createElement('div');\n",
              "          docLink.innerHTML = docLinkHtml;\n",
              "          element.appendChild(docLink);\n",
              "        }\n",
              "      </script>\n",
              "    </div>\n",
              "  </div>\n",
              "  "
            ]
          },
          "metadata": {},
          "execution_count": 80
        }
      ]
    },
    {
      "cell_type": "code",
      "source": [
        "data['class'].replace(['volleyball', 'basketball','baseball','football','boxing'],\n",
        "                        [0, 1,2,3,4], inplace=True)\n",
        "data.head()"
      ],
      "metadata": {
        "colab": {
          "base_uri": "https://localhost:8080/",
          "height": 206
        },
        "id": "6fGcXxn7XoQC",
        "outputId": "30390701-5c2d-4ae2-c130-bdfebb6313ff"
      },
      "execution_count": null,
      "outputs": [
        {
          "output_type": "execute_result",
          "data": {
            "text/plain": [
              "                                          image_path  class\n",
              "0  /content/drive/My Drive/Colab Notebooks/Datase...      0\n",
              "0  /content/drive/My Drive/Colab Notebooks/Datase...      1\n",
              "0  /content/drive/My Drive/Colab Notebooks/Datase...      0\n",
              "0  /content/drive/My Drive/Colab Notebooks/Datase...      4\n",
              "0  /content/drive/My Drive/Colab Notebooks/Datase...      0"
            ],
            "text/html": [
              "\n",
              "  <div id=\"df-8048f03d-4e90-4470-b922-5dbeed8917d1\">\n",
              "    <div class=\"colab-df-container\">\n",
              "      <div>\n",
              "<style scoped>\n",
              "    .dataframe tbody tr th:only-of-type {\n",
              "        vertical-align: middle;\n",
              "    }\n",
              "\n",
              "    .dataframe tbody tr th {\n",
              "        vertical-align: top;\n",
              "    }\n",
              "\n",
              "    .dataframe thead th {\n",
              "        text-align: right;\n",
              "    }\n",
              "</style>\n",
              "<table border=\"1\" class=\"dataframe\">\n",
              "  <thead>\n",
              "    <tr style=\"text-align: right;\">\n",
              "      <th></th>\n",
              "      <th>image_path</th>\n",
              "      <th>class</th>\n",
              "    </tr>\n",
              "  </thead>\n",
              "  <tbody>\n",
              "    <tr>\n",
              "      <th>0</th>\n",
              "      <td>/content/drive/My Drive/Colab Notebooks/Datase...</td>\n",
              "      <td>0</td>\n",
              "    </tr>\n",
              "    <tr>\n",
              "      <th>0</th>\n",
              "      <td>/content/drive/My Drive/Colab Notebooks/Datase...</td>\n",
              "      <td>1</td>\n",
              "    </tr>\n",
              "    <tr>\n",
              "      <th>0</th>\n",
              "      <td>/content/drive/My Drive/Colab Notebooks/Datase...</td>\n",
              "      <td>0</td>\n",
              "    </tr>\n",
              "    <tr>\n",
              "      <th>0</th>\n",
              "      <td>/content/drive/My Drive/Colab Notebooks/Datase...</td>\n",
              "      <td>4</td>\n",
              "    </tr>\n",
              "    <tr>\n",
              "      <th>0</th>\n",
              "      <td>/content/drive/My Drive/Colab Notebooks/Datase...</td>\n",
              "      <td>0</td>\n",
              "    </tr>\n",
              "  </tbody>\n",
              "</table>\n",
              "</div>\n",
              "      <button class=\"colab-df-convert\" onclick=\"convertToInteractive('df-8048f03d-4e90-4470-b922-5dbeed8917d1')\"\n",
              "              title=\"Convert this dataframe to an interactive table.\"\n",
              "              style=\"display:none;\">\n",
              "        \n",
              "  <svg xmlns=\"http://www.w3.org/2000/svg\" height=\"24px\"viewBox=\"0 0 24 24\"\n",
              "       width=\"24px\">\n",
              "    <path d=\"M0 0h24v24H0V0z\" fill=\"none\"/>\n",
              "    <path d=\"M18.56 5.44l.94 2.06.94-2.06 2.06-.94-2.06-.94-.94-2.06-.94 2.06-2.06.94zm-11 1L8.5 8.5l.94-2.06 2.06-.94-2.06-.94L8.5 2.5l-.94 2.06-2.06.94zm10 10l.94 2.06.94-2.06 2.06-.94-2.06-.94-.94-2.06-.94 2.06-2.06.94z\"/><path d=\"M17.41 7.96l-1.37-1.37c-.4-.4-.92-.59-1.43-.59-.52 0-1.04.2-1.43.59L10.3 9.45l-7.72 7.72c-.78.78-.78 2.05 0 2.83L4 21.41c.39.39.9.59 1.41.59.51 0 1.02-.2 1.41-.59l7.78-7.78 2.81-2.81c.8-.78.8-2.07 0-2.86zM5.41 20L4 18.59l7.72-7.72 1.47 1.35L5.41 20z\"/>\n",
              "  </svg>\n",
              "      </button>\n",
              "      \n",
              "  <style>\n",
              "    .colab-df-container {\n",
              "      display:flex;\n",
              "      flex-wrap:wrap;\n",
              "      gap: 12px;\n",
              "    }\n",
              "\n",
              "    .colab-df-convert {\n",
              "      background-color: #E8F0FE;\n",
              "      border: none;\n",
              "      border-radius: 50%;\n",
              "      cursor: pointer;\n",
              "      display: none;\n",
              "      fill: #1967D2;\n",
              "      height: 32px;\n",
              "      padding: 0 0 0 0;\n",
              "      width: 32px;\n",
              "    }\n",
              "\n",
              "    .colab-df-convert:hover {\n",
              "      background-color: #E2EBFA;\n",
              "      box-shadow: 0px 1px 2px rgba(60, 64, 67, 0.3), 0px 1px 3px 1px rgba(60, 64, 67, 0.15);\n",
              "      fill: #174EA6;\n",
              "    }\n",
              "\n",
              "    [theme=dark] .colab-df-convert {\n",
              "      background-color: #3B4455;\n",
              "      fill: #D2E3FC;\n",
              "    }\n",
              "\n",
              "    [theme=dark] .colab-df-convert:hover {\n",
              "      background-color: #434B5C;\n",
              "      box-shadow: 0px 1px 3px 1px rgba(0, 0, 0, 0.15);\n",
              "      filter: drop-shadow(0px 1px 2px rgba(0, 0, 0, 0.3));\n",
              "      fill: #FFFFFF;\n",
              "    }\n",
              "  </style>\n",
              "\n",
              "      <script>\n",
              "        const buttonEl =\n",
              "          document.querySelector('#df-8048f03d-4e90-4470-b922-5dbeed8917d1 button.colab-df-convert');\n",
              "        buttonEl.style.display =\n",
              "          google.colab.kernel.accessAllowed ? 'block' : 'none';\n",
              "\n",
              "        async function convertToInteractive(key) {\n",
              "          const element = document.querySelector('#df-8048f03d-4e90-4470-b922-5dbeed8917d1');\n",
              "          const dataTable =\n",
              "            await google.colab.kernel.invokeFunction('convertToInteractive',\n",
              "                                                     [key], {});\n",
              "          if (!dataTable) return;\n",
              "\n",
              "          const docLinkHtml = 'Like what you see? Visit the ' +\n",
              "            '<a target=\"_blank\" href=https://colab.research.google.com/notebooks/data_table.ipynb>data table notebook</a>'\n",
              "            + ' to learn more about interactive tables.';\n",
              "          element.innerHTML = '';\n",
              "          dataTable['output_type'] = 'display_data';\n",
              "          await google.colab.output.renderOutput(dataTable, element);\n",
              "          const docLink = document.createElement('div');\n",
              "          docLink.innerHTML = docLinkHtml;\n",
              "          element.appendChild(docLink);\n",
              "        }\n",
              "      </script>\n",
              "    </div>\n",
              "  </div>\n",
              "  "
            ]
          },
          "metadata": {},
          "execution_count": 81
        }
      ]
    },
    {
      "cell_type": "code",
      "source": [
        "data['class'].unique()"
      ],
      "metadata": {
        "colab": {
          "base_uri": "https://localhost:8080/"
        },
        "id": "fP0xOsHzYENB",
        "outputId": "5a878f77-085e-4c42-9935-a55180ecdc20"
      },
      "execution_count": null,
      "outputs": [
        {
          "output_type": "execute_result",
          "data": {
            "text/plain": [
              "array([0, 1, 4, 2, 3])"
            ]
          },
          "metadata": {},
          "execution_count": 82
        }
      ]
    },
    {
      "cell_type": "code",
      "source": [
        "train_imgs = data['image_path'].tolist()\n",
        "train_labels = data['class'].tolist()"
      ],
      "metadata": {
        "id": "kJ4dbddxL_3e"
      },
      "execution_count": null,
      "outputs": []
    },
    {
      "cell_type": "code",
      "source": [
        "train_imgs[0]"
      ],
      "metadata": {
        "colab": {
          "base_uri": "https://localhost:8080/",
          "height": 36
        },
        "id": "v8-jpPG_aod5",
        "outputId": "6672cce6-4b40-4121-9175-7aa93e977fbd"
      },
      "execution_count": null,
      "outputs": [
        {
          "output_type": "execute_result",
          "data": {
            "text/plain": [
              "'/content/drive/My Drive/Colab Notebooks/Datasets/sports-video-data/sports-video-data/train_images/volleyball/1010060___d1c58c4a1dd74d8eab7fa2ab452f8688_frame57.jpg'"
            ],
            "application/vnd.google.colaboratory.intrinsic+json": {
              "type": "string"
            }
          },
          "metadata": {},
          "execution_count": 84
        }
      ]
    },
    {
      "cell_type": "code",
      "source": [
        "import cv2\n",
        "def read_and_process_image(list_of_images, list_of_labels, numclasses=5):\n",
        "  \"\"\"\n",
        "  X = array of images\n",
        "  Y = array of labels\n",
        "  \"\"\"\n",
        "\n",
        "  X = []\n",
        "  Y = []\n",
        "\n",
        "  # X filling\n",
        "  counter = 0\n",
        "  for image in list_of_images:\n",
        "    X.append(cv2.resize( cv2.imread(image, cv2.IMREAD_COLOR), (64,64), interpolation=cv2.INTER_CUBIC ))\n",
        "    if counter %1000 ==0:\n",
        "      print(counter)\n",
        "    counter +=1\n",
        "\n",
        "\n",
        "  # Y filling\n",
        "  for label in list_of_labels:\n",
        "  \n",
        "    # each row will have a list of length= 5 with 1 or 0 in each position depending on label value\n",
        "    temp_labels = []\n",
        "    for i in range(5):\n",
        "\n",
        "        if label == i:\n",
        "            temp_labels.append(1)\n",
        "\n",
        "        else:\n",
        "            temp_labels.append(0)\n",
        "    \n",
        "    Y.append(temp_labels)\n",
        "\n",
        "  return X, Y"
      ],
      "metadata": {
        "id": "w8klB5tjYZv5"
      },
      "execution_count": null,
      "outputs": []
    },
    {
      "cell_type": "code",
      "source": [
        "X, Y = read_and_process_image(train_imgs, train_labels)\n",
        "\n",
        "X = np.array(X)\n",
        "Y = np.array(Y)\n",
        "\n",
        "print('Shape of image is: {}'.format(X.shape))\n",
        "print('Shape of labels is: {}'.format(Y.shape))\n",
        "\n"
      ],
      "metadata": {
        "colab": {
          "base_uri": "https://localhost:8080/"
        },
        "id": "RKL9AJ9pYaP6",
        "outputId": "d5585f2c-7180-4a7d-9f7b-b63994ac0232"
      },
      "execution_count": null,
      "outputs": [
        {
          "output_type": "stream",
          "name": "stdout",
          "text": [
            "0\n",
            "1000\n",
            "2000\n",
            "3000\n",
            "4000\n",
            "5000\n",
            "6000\n",
            "7000\n",
            "8000\n",
            "9000\n",
            "10000\n",
            "Shape of image is: (10843, 64, 64, 3)\n",
            "Shape of labels is: (10843, 5)\n"
          ]
        }
      ]
    },
    {
      "cell_type": "code",
      "source": [
        "from sklearn.model_selection import train_test_split\n",
        "X_train, X_s, Y_train, Y_s = train_test_split( X, Y, test_size=0.3, random_state=11)\n",
        "X_test, X_val, Y_test, Y_val = train_test_split( X_s, Y_s, test_size=0.5, random_state=11)"
      ],
      "metadata": {
        "id": "TA6Nb0OPcFQw"
      },
      "execution_count": null,
      "outputs": []
    },
    {
      "cell_type": "code",
      "source": [
        "print('Shape of train set: {}'.format(X_train.shape))\n",
        "print('Shape of test set: {}'.format(X_test.shape))\n",
        "print('Shape of validation set: {}'.format(X_val.shape))\n",
        "print('Shape of train labels set: {}'.format(Y_train.shape))\n",
        "print('Shape of test labels set: {}'.format(Y_test.shape))\n",
        "print('Shape of validation labels set: {}'.format(Y_val.shape))"
      ],
      "metadata": {
        "colab": {
          "base_uri": "https://localhost:8080/"
        },
        "id": "mD1BN1PWcVGh",
        "outputId": "1cfd7190-c554-4011-c2b9-1d185d312234"
      },
      "execution_count": null,
      "outputs": [
        {
          "output_type": "stream",
          "name": "stdout",
          "text": [
            "Shape of train set: (7590, 64, 64, 3)\n",
            "Shape of test set: (1626, 64, 64, 3)\n",
            "Shape of validation set: (1627, 64, 64, 3)\n",
            "Shape of train labels set: (7590, 5)\n",
            "Shape of test labels set: (1626, 5)\n",
            "Shape of validation labels set: (1627, 5)\n"
          ]
        }
      ]
    },
    {
      "cell_type": "code",
      "source": [
        "train_length = X_train.shape[0]\n",
        "validation_length = X_val.shape[0]"
      ],
      "metadata": {
        "id": "kVjqe3gndrgP"
      },
      "execution_count": null,
      "outputs": []
    },
    {
      "cell_type": "code",
      "source": [
        "import tensorflow as tf\n",
        "from tensorflow import keras\n",
        "from keras import layers\n",
        "from keras import models\n",
        "from keras import optimizers\n",
        "from keras.preprocessing.image import ImageDataGenerator\n",
        "from keras.preprocessing.image import img_to_array, load_img\n",
        "import seaborn as sns"
      ],
      "metadata": {
        "id": "lgdj6krwd5ZB"
      },
      "execution_count": null,
      "outputs": []
    },
    {
      "cell_type": "code",
      "source": [
        "model = models.Sequential()\n",
        "model.add(layers.Conv2D(32, (3,3), activation='relu', input_shape=(64,64,3)))\n",
        "model.add(layers.MaxPooling2D((2, 2)))\n",
        "model.add(layers.Conv2D(64, (3,3), activation='relu'))\n",
        "model.add(layers.MaxPooling2D((2, 2)))\n",
        "model.add(layers.Conv2D(128, (3,3), activation='relu'))\n",
        "model.add(layers.MaxPooling2D((2, 2)))\n",
        "model.add(layers.Conv2D(128, (3,3), activation='relu'))\n",
        "model.add(layers.MaxPooling2D((2, 2)))\n",
        "\n",
        "model.add(layers.Flatten())\n",
        "model.add(layers.Dropout(0.5))  #for normalization\n",
        "model.add(layers.Dense(512, activation='relu'))\n",
        "model.add(layers.Dense(5, activation='softmax'))"
      ],
      "metadata": {
        "id": "ZLC1pO3gdsEI"
      },
      "execution_count": null,
      "outputs": []
    },
    {
      "cell_type": "code",
      "source": [
        "\n",
        "model.compile(loss='categorical_crossentropy', optimizer='sgd', metrics=['acc'])"
      ],
      "metadata": {
        "id": "ohxd5HcOeiuP"
      },
      "execution_count": null,
      "outputs": []
    },
    {
      "cell_type": "code",
      "source": [
        "train_datagen = ImageDataGenerator(rescale=1./255,          #Scale the image between 0 and 1\n",
        "\n",
        "                                    #Data Augmentation, applied as random transformations\n",
        "                                    rotation_range=40,      \n",
        "                                    width_shift_range=0.2,\n",
        "                                    height_shift_range=0.2,\n",
        "                                    shear_range=0.2,\n",
        "                                    zoom_range=0.2,\n",
        "                                    horizontal_flip=True,)\n",
        "val_datagen = ImageDataGenerator(rescale=1./255)            #Not applying data augmentation to the validation data"
      ],
      "metadata": {
        "id": "06WIA-GPes7f"
      },
      "execution_count": null,
      "outputs": []
    },
    {
      "cell_type": "code",
      "source": [
        "train_generator = train_datagen.flow(X_train, Y_train, batch_size=64)\n",
        "val_generator = val_datagen.flow(X_val, Y_val, batch_size=64)"
      ],
      "metadata": {
        "id": "ChGQXgILevRH"
      },
      "execution_count": null,
      "outputs": []
    },
    {
      "cell_type": "code",
      "source": [
        "history = model.fit(train_generator,\n",
        "                    steps_per_epoch = train_length//64,       #how many images will be processed before gradient\n",
        "                    epochs = 300,                                  #full-pass through data\n",
        "                    validation_data = val_generator,                  \n",
        "                    validation_steps = validation_length//64)"
      ],
      "metadata": {
        "colab": {
          "base_uri": "https://localhost:8080/"
        },
        "id": "Bd9mRO71e7q3",
        "outputId": "b51afc65-bc7e-4712-892d-2462c5048444"
      },
      "execution_count": null,
      "outputs": [
        {
          "output_type": "stream",
          "name": "stdout",
          "text": [
            "Epoch 1/300\n",
            "118/118 [==============================] - 9s 74ms/step - loss: 1.4149 - acc: 0.4070 - val_loss: 1.3250 - val_acc: 0.4769\n",
            "Epoch 2/300\n",
            "118/118 [==============================] - 9s 74ms/step - loss: 1.3591 - acc: 0.4573 - val_loss: 1.4204 - val_acc: 0.4281\n",
            "Epoch 3/300\n",
            "118/118 [==============================] - 9s 75ms/step - loss: 1.3051 - acc: 0.4904 - val_loss: 1.1946 - val_acc: 0.5075\n",
            "Epoch 4/300\n",
            "118/118 [==============================] - 9s 75ms/step - loss: 1.2618 - acc: 0.5076 - val_loss: 1.2391 - val_acc: 0.5256\n",
            "Epoch 5/300\n",
            "118/118 [==============================] - 9s 76ms/step - loss: 1.2285 - acc: 0.5202 - val_loss: 1.0859 - val_acc: 0.6231\n",
            "Epoch 6/300\n",
            "118/118 [==============================] - 9s 75ms/step - loss: 1.1837 - acc: 0.5364 - val_loss: 1.0589 - val_acc: 0.6263\n",
            "Epoch 7/300\n",
            "118/118 [==============================] - 9s 73ms/step - loss: 1.1522 - acc: 0.5543 - val_loss: 0.9974 - val_acc: 0.6194\n",
            "Epoch 8/300\n",
            "118/118 [==============================] - 9s 74ms/step - loss: 1.1215 - acc: 0.5619 - val_loss: 0.9673 - val_acc: 0.6519\n",
            "Epoch 9/300\n",
            "118/118 [==============================] - 9s 73ms/step - loss: 1.0909 - acc: 0.5733 - val_loss: 0.9430 - val_acc: 0.6406\n",
            "Epoch 10/300\n",
            "118/118 [==============================] - 9s 73ms/step - loss: 1.0618 - acc: 0.5896 - val_loss: 0.9218 - val_acc: 0.6725\n",
            "Epoch 11/300\n",
            "118/118 [==============================] - 9s 74ms/step - loss: 1.0484 - acc: 0.5941 - val_loss: 0.9261 - val_acc: 0.6406\n",
            "Epoch 12/300\n",
            "118/118 [==============================] - 9s 74ms/step - loss: 0.9985 - acc: 0.6229 - val_loss: 0.8609 - val_acc: 0.6850\n",
            "Epoch 13/300\n",
            "118/118 [==============================] - 9s 74ms/step - loss: 0.9734 - acc: 0.6258 - val_loss: 0.8252 - val_acc: 0.6950\n",
            "Epoch 14/300\n",
            "118/118 [==============================] - 9s 74ms/step - loss: 0.9536 - acc: 0.6342 - val_loss: 0.8150 - val_acc: 0.7081\n",
            "Epoch 15/300\n",
            "118/118 [==============================] - 9s 75ms/step - loss: 0.9384 - acc: 0.6462 - val_loss: 0.9572 - val_acc: 0.6288\n",
            "Epoch 16/300\n",
            "118/118 [==============================] - 9s 76ms/step - loss: 0.9241 - acc: 0.6442 - val_loss: 0.7772 - val_acc: 0.7025\n",
            "Epoch 17/300\n",
            "118/118 [==============================] - 9s 75ms/step - loss: 0.9016 - acc: 0.6560 - val_loss: 0.7869 - val_acc: 0.7069\n",
            "Epoch 18/300\n",
            "118/118 [==============================] - 9s 73ms/step - loss: 0.8826 - acc: 0.6672 - val_loss: 0.7378 - val_acc: 0.7250\n",
            "Epoch 19/300\n",
            "118/118 [==============================] - 9s 73ms/step - loss: 0.8725 - acc: 0.6707 - val_loss: 0.7202 - val_acc: 0.7331\n",
            "Epoch 20/300\n",
            "118/118 [==============================] - 9s 74ms/step - loss: 0.8525 - acc: 0.6754 - val_loss: 0.7281 - val_acc: 0.7419\n",
            "Epoch 21/300\n",
            "118/118 [==============================] - 9s 75ms/step - loss: 0.8444 - acc: 0.6780 - val_loss: 0.7709 - val_acc: 0.7212\n",
            "Epoch 22/300\n",
            "118/118 [==============================] - 9s 76ms/step - loss: 0.8230 - acc: 0.6928 - val_loss: 0.6890 - val_acc: 0.7525\n",
            "Epoch 23/300\n",
            "118/118 [==============================] - 9s 75ms/step - loss: 0.8087 - acc: 0.6941 - val_loss: 0.7014 - val_acc: 0.7387\n",
            "Epoch 24/300\n",
            "118/118 [==============================] - 9s 75ms/step - loss: 0.7988 - acc: 0.6997 - val_loss: 0.6567 - val_acc: 0.7656\n",
            "Epoch 25/300\n",
            "118/118 [==============================] - 9s 75ms/step - loss: 0.7914 - acc: 0.7001 - val_loss: 0.6648 - val_acc: 0.7575\n",
            "Epoch 26/300\n",
            "118/118 [==============================] - 9s 75ms/step - loss: 0.7666 - acc: 0.7053 - val_loss: 0.6267 - val_acc: 0.7656\n",
            "Epoch 27/300\n",
            "118/118 [==============================] - 9s 74ms/step - loss: 0.7713 - acc: 0.7077 - val_loss: 0.6153 - val_acc: 0.7725\n",
            "Epoch 28/300\n",
            "118/118 [==============================] - 9s 73ms/step - loss: 0.7498 - acc: 0.7131 - val_loss: 0.6293 - val_acc: 0.7600\n",
            "Epoch 29/300\n",
            "118/118 [==============================] - 9s 74ms/step - loss: 0.7541 - acc: 0.7091 - val_loss: 0.5893 - val_acc: 0.7800\n",
            "Epoch 30/300\n",
            "118/118 [==============================] - 9s 75ms/step - loss: 0.7330 - acc: 0.7172 - val_loss: 0.5855 - val_acc: 0.7731\n",
            "Epoch 31/300\n",
            "118/118 [==============================] - 9s 76ms/step - loss: 0.7178 - acc: 0.7255 - val_loss: 0.6038 - val_acc: 0.7738\n",
            "Epoch 32/300\n",
            "118/118 [==============================] - 9s 75ms/step - loss: 0.7124 - acc: 0.7312 - val_loss: 0.5620 - val_acc: 0.7856\n",
            "Epoch 33/300\n",
            "118/118 [==============================] - 9s 76ms/step - loss: 0.7097 - acc: 0.7295 - val_loss: 0.5599 - val_acc: 0.7819\n",
            "Epoch 34/300\n",
            "118/118 [==============================] - 9s 75ms/step - loss: 0.6854 - acc: 0.7370 - val_loss: 0.5449 - val_acc: 0.8044\n",
            "Epoch 35/300\n",
            "118/118 [==============================] - 9s 76ms/step - loss: 0.6965 - acc: 0.7328 - val_loss: 0.5478 - val_acc: 0.8019\n",
            "Epoch 36/300\n",
            "118/118 [==============================] - 9s 75ms/step - loss: 0.6767 - acc: 0.7433 - val_loss: 0.5199 - val_acc: 0.8069\n",
            "Epoch 37/300\n",
            "118/118 [==============================] - 9s 74ms/step - loss: 0.6699 - acc: 0.7385 - val_loss: 0.5669 - val_acc: 0.8062\n",
            "Epoch 38/300\n",
            "118/118 [==============================] - 9s 76ms/step - loss: 0.6640 - acc: 0.7465 - val_loss: 0.5445 - val_acc: 0.8025\n",
            "Epoch 39/300\n",
            "118/118 [==============================] - 9s 74ms/step - loss: 0.6560 - acc: 0.7491 - val_loss: 0.5047 - val_acc: 0.8256\n",
            "Epoch 40/300\n",
            "118/118 [==============================] - 9s 75ms/step - loss: 0.6556 - acc: 0.7513 - val_loss: 0.5244 - val_acc: 0.8075\n",
            "Epoch 41/300\n",
            "118/118 [==============================] - 9s 76ms/step - loss: 0.6499 - acc: 0.7558 - val_loss: 0.5417 - val_acc: 0.7956\n",
            "Epoch 42/300\n",
            "118/118 [==============================] - 9s 75ms/step - loss: 0.6428 - acc: 0.7530 - val_loss: 0.5732 - val_acc: 0.7819\n",
            "Epoch 43/300\n",
            "118/118 [==============================] - 9s 76ms/step - loss: 0.6362 - acc: 0.7579 - val_loss: 0.4840 - val_acc: 0.8281\n",
            "Epoch 44/300\n",
            "118/118 [==============================] - 9s 76ms/step - loss: 0.6234 - acc: 0.7644 - val_loss: 0.4760 - val_acc: 0.8256\n",
            "Epoch 45/300\n",
            "118/118 [==============================] - 9s 74ms/step - loss: 0.6213 - acc: 0.7623 - val_loss: 0.4841 - val_acc: 0.8244\n",
            "Epoch 46/300\n",
            "118/118 [==============================] - 9s 74ms/step - loss: 0.6236 - acc: 0.7672 - val_loss: 0.4681 - val_acc: 0.8325\n",
            "Epoch 47/300\n",
            "118/118 [==============================] - 9s 76ms/step - loss: 0.5993 - acc: 0.7717 - val_loss: 0.4728 - val_acc: 0.8219\n",
            "Epoch 48/300\n",
            "118/118 [==============================] - 9s 76ms/step - loss: 0.6068 - acc: 0.7716 - val_loss: 0.4596 - val_acc: 0.8200\n",
            "Epoch 49/300\n",
            "118/118 [==============================] - 9s 76ms/step - loss: 0.5874 - acc: 0.7788 - val_loss: 0.4677 - val_acc: 0.8250\n",
            "Epoch 50/300\n",
            "118/118 [==============================] - 9s 75ms/step - loss: 0.5797 - acc: 0.7790 - val_loss: 0.4553 - val_acc: 0.8438\n",
            "Epoch 51/300\n",
            "118/118 [==============================] - 9s 75ms/step - loss: 0.5754 - acc: 0.7814 - val_loss: 0.5121 - val_acc: 0.7869\n",
            "Epoch 52/300\n",
            "118/118 [==============================] - 9s 77ms/step - loss: 0.5873 - acc: 0.7785 - val_loss: 0.4827 - val_acc: 0.8131\n",
            "Epoch 53/300\n",
            "118/118 [==============================] - 9s 76ms/step - loss: 0.5734 - acc: 0.7821 - val_loss: 0.4797 - val_acc: 0.8106\n",
            "Epoch 54/300\n",
            "118/118 [==============================] - 9s 75ms/step - loss: 0.5685 - acc: 0.7846 - val_loss: 0.4215 - val_acc: 0.8406\n",
            "Epoch 55/300\n",
            "118/118 [==============================] - 9s 74ms/step - loss: 0.5638 - acc: 0.7867 - val_loss: 0.4476 - val_acc: 0.8213\n",
            "Epoch 56/300\n",
            "118/118 [==============================] - 9s 75ms/step - loss: 0.5456 - acc: 0.7925 - val_loss: 0.5016 - val_acc: 0.8144\n",
            "Epoch 57/300\n",
            "118/118 [==============================] - 9s 76ms/step - loss: 0.5484 - acc: 0.7917 - val_loss: 0.3990 - val_acc: 0.8519\n",
            "Epoch 58/300\n",
            "118/118 [==============================] - 9s 76ms/step - loss: 0.5413 - acc: 0.8014 - val_loss: 0.4606 - val_acc: 0.8244\n",
            "Epoch 59/300\n",
            "118/118 [==============================] - 9s 74ms/step - loss: 0.5373 - acc: 0.7974 - val_loss: 0.4345 - val_acc: 0.8313\n",
            "Epoch 60/300\n",
            "118/118 [==============================] - 9s 75ms/step - loss: 0.5249 - acc: 0.8029 - val_loss: 0.3969 - val_acc: 0.8494\n",
            "Epoch 61/300\n",
            "118/118 [==============================] - 9s 75ms/step - loss: 0.5135 - acc: 0.8068 - val_loss: 0.3619 - val_acc: 0.8644\n",
            "Epoch 62/300\n",
            "118/118 [==============================] - 9s 76ms/step - loss: 0.5059 - acc: 0.8051 - val_loss: 0.4212 - val_acc: 0.8525\n",
            "Epoch 63/300\n",
            "118/118 [==============================] - 9s 76ms/step - loss: 0.5109 - acc: 0.8080 - val_loss: 0.3961 - val_acc: 0.8537\n",
            "Epoch 64/300\n",
            "118/118 [==============================] - 9s 74ms/step - loss: 0.5069 - acc: 0.8088 - val_loss: 0.4661 - val_acc: 0.8269\n",
            "Epoch 65/300\n",
            "118/118 [==============================] - 9s 76ms/step - loss: 0.5030 - acc: 0.8146 - val_loss: 0.3504 - val_acc: 0.8687\n",
            "Epoch 66/300\n",
            "118/118 [==============================] - 9s 75ms/step - loss: 0.4990 - acc: 0.8136 - val_loss: 0.3655 - val_acc: 0.8700\n",
            "Epoch 67/300\n",
            "118/118 [==============================] - 9s 75ms/step - loss: 0.4821 - acc: 0.8184 - val_loss: 0.3572 - val_acc: 0.8719\n",
            "Epoch 68/300\n",
            "118/118 [==============================] - 9s 75ms/step - loss: 0.4801 - acc: 0.8221 - val_loss: 0.3312 - val_acc: 0.8800\n",
            "Epoch 69/300\n",
            "118/118 [==============================] - 9s 75ms/step - loss: 0.4824 - acc: 0.8169 - val_loss: 0.3598 - val_acc: 0.8712\n",
            "Epoch 70/300\n",
            "118/118 [==============================] - 9s 75ms/step - loss: 0.4903 - acc: 0.8198 - val_loss: 0.3919 - val_acc: 0.8444\n",
            "Epoch 71/300\n",
            "118/118 [==============================] - 9s 75ms/step - loss: 0.4577 - acc: 0.8286 - val_loss: 0.3381 - val_acc: 0.8775\n",
            "Epoch 72/300\n",
            "118/118 [==============================] - 9s 76ms/step - loss: 0.4672 - acc: 0.8220 - val_loss: 0.3472 - val_acc: 0.8781\n",
            "Epoch 73/300\n",
            "118/118 [==============================] - 9s 74ms/step - loss: 0.4669 - acc: 0.8200 - val_loss: 0.3499 - val_acc: 0.8781\n",
            "Epoch 74/300\n",
            "118/118 [==============================] - 9s 76ms/step - loss: 0.4497 - acc: 0.8338 - val_loss: 0.2923 - val_acc: 0.8919\n",
            "Epoch 75/300\n",
            "118/118 [==============================] - 9s 77ms/step - loss: 0.4534 - acc: 0.8307 - val_loss: 0.2992 - val_acc: 0.8856\n",
            "Epoch 76/300\n",
            "118/118 [==============================] - 9s 75ms/step - loss: 0.4538 - acc: 0.8336 - val_loss: 0.4548 - val_acc: 0.8431\n",
            "Epoch 77/300\n",
            "118/118 [==============================] - 9s 76ms/step - loss: 0.4495 - acc: 0.8374 - val_loss: 0.3033 - val_acc: 0.8950\n",
            "Epoch 78/300\n",
            "118/118 [==============================] - 9s 76ms/step - loss: 0.4309 - acc: 0.8421 - val_loss: 0.3490 - val_acc: 0.8756\n",
            "Epoch 79/300\n",
            "118/118 [==============================] - 9s 76ms/step - loss: 0.4241 - acc: 0.8473 - val_loss: 0.2737 - val_acc: 0.9062\n",
            "Epoch 80/300\n",
            "118/118 [==============================] - 9s 75ms/step - loss: 0.4237 - acc: 0.8416 - val_loss: 0.2973 - val_acc: 0.8975\n",
            "Epoch 81/300\n",
            "118/118 [==============================] - 9s 75ms/step - loss: 0.4249 - acc: 0.8433 - val_loss: 0.2821 - val_acc: 0.8919\n",
            "Epoch 82/300\n",
            "118/118 [==============================] - 9s 75ms/step - loss: 0.4236 - acc: 0.8391 - val_loss: 0.2766 - val_acc: 0.9056\n",
            "Epoch 83/300\n",
            "118/118 [==============================] - 9s 76ms/step - loss: 0.4198 - acc: 0.8464 - val_loss: 0.2537 - val_acc: 0.9137\n",
            "Epoch 84/300\n",
            "118/118 [==============================] - 9s 76ms/step - loss: 0.4146 - acc: 0.8465 - val_loss: 0.2854 - val_acc: 0.9044\n",
            "Epoch 85/300\n",
            "118/118 [==============================] - 9s 75ms/step - loss: 0.4067 - acc: 0.8517 - val_loss: 0.2787 - val_acc: 0.9056\n",
            "Epoch 86/300\n",
            "118/118 [==============================] - 9s 75ms/step - loss: 0.4033 - acc: 0.8501 - val_loss: 0.2811 - val_acc: 0.9056\n",
            "Epoch 87/300\n",
            "118/118 [==============================] - 9s 75ms/step - loss: 0.3937 - acc: 0.8572 - val_loss: 0.2440 - val_acc: 0.9175\n",
            "Epoch 88/300\n",
            "118/118 [==============================] - 9s 76ms/step - loss: 0.4003 - acc: 0.8485 - val_loss: 0.2698 - val_acc: 0.9187\n",
            "Epoch 89/300\n",
            "118/118 [==============================] - 9s 77ms/step - loss: 0.3902 - acc: 0.8569 - val_loss: 0.3176 - val_acc: 0.8913\n",
            "Epoch 90/300\n",
            "118/118 [==============================] - 9s 75ms/step - loss: 0.3883 - acc: 0.8554 - val_loss: 0.2456 - val_acc: 0.9194\n",
            "Epoch 91/300\n",
            "118/118 [==============================] - 9s 74ms/step - loss: 0.3800 - acc: 0.8635 - val_loss: 0.2539 - val_acc: 0.9069\n",
            "Epoch 92/300\n",
            "118/118 [==============================] - 9s 76ms/step - loss: 0.3792 - acc: 0.8596 - val_loss: 0.2402 - val_acc: 0.9200\n",
            "Epoch 93/300\n",
            "118/118 [==============================] - 9s 76ms/step - loss: 0.3704 - acc: 0.8635 - val_loss: 0.2484 - val_acc: 0.9100\n",
            "Epoch 94/300\n",
            "118/118 [==============================] - 9s 75ms/step - loss: 0.3817 - acc: 0.8604 - val_loss: 0.2270 - val_acc: 0.9231\n",
            "Epoch 95/300\n",
            "118/118 [==============================] - 9s 75ms/step - loss: 0.3629 - acc: 0.8690 - val_loss: 0.2453 - val_acc: 0.9013\n",
            "Epoch 96/300\n",
            "118/118 [==============================] - 9s 76ms/step - loss: 0.3687 - acc: 0.8693 - val_loss: 0.2364 - val_acc: 0.9225\n",
            "Epoch 97/300\n",
            "118/118 [==============================] - 9s 77ms/step - loss: 0.3614 - acc: 0.8669 - val_loss: 0.2115 - val_acc: 0.9281\n",
            "Epoch 98/300\n",
            "118/118 [==============================] - 9s 78ms/step - loss: 0.3508 - acc: 0.8735 - val_loss: 0.2195 - val_acc: 0.9294\n",
            "Epoch 99/300\n",
            "118/118 [==============================] - 9s 77ms/step - loss: 0.3452 - acc: 0.8718 - val_loss: 0.3020 - val_acc: 0.9050\n",
            "Epoch 100/300\n",
            "118/118 [==============================] - 9s 77ms/step - loss: 0.3607 - acc: 0.8701 - val_loss: 0.2032 - val_acc: 0.9337\n",
            "Epoch 101/300\n",
            "118/118 [==============================] - 9s 78ms/step - loss: 0.3558 - acc: 0.8689 - val_loss: 0.2384 - val_acc: 0.9212\n",
            "Epoch 102/300\n",
            "118/118 [==============================] - 9s 78ms/step - loss: 0.3362 - acc: 0.8787 - val_loss: 0.2550 - val_acc: 0.9125\n",
            "Epoch 103/300\n",
            "118/118 [==============================] - 9s 79ms/step - loss: 0.3317 - acc: 0.8769 - val_loss: 0.2424 - val_acc: 0.9175\n",
            "Epoch 104/300\n",
            "118/118 [==============================] - 9s 78ms/step - loss: 0.3374 - acc: 0.8751 - val_loss: 0.2985 - val_acc: 0.8944\n",
            "Epoch 105/300\n",
            "118/118 [==============================] - 9s 78ms/step - loss: 0.3371 - acc: 0.8782 - val_loss: 0.2080 - val_acc: 0.9319\n",
            "Epoch 106/300\n",
            "118/118 [==============================] - 9s 79ms/step - loss: 0.3259 - acc: 0.8832 - val_loss: 0.2114 - val_acc: 0.9319\n",
            "Epoch 107/300\n",
            "118/118 [==============================] - 9s 78ms/step - loss: 0.3391 - acc: 0.8756 - val_loss: 0.2181 - val_acc: 0.9175\n",
            "Epoch 108/300\n",
            "118/118 [==============================] - 9s 77ms/step - loss: 0.3261 - acc: 0.8801 - val_loss: 0.1880 - val_acc: 0.9375\n",
            "Epoch 109/300\n",
            "118/118 [==============================] - 9s 78ms/step - loss: 0.3100 - acc: 0.8865 - val_loss: 0.2432 - val_acc: 0.9125\n",
            "Epoch 110/300\n",
            "118/118 [==============================] - 9s 78ms/step - loss: 0.3172 - acc: 0.8811 - val_loss: 0.2063 - val_acc: 0.9269\n",
            "Epoch 111/300\n",
            "118/118 [==============================] - 9s 77ms/step - loss: 0.3186 - acc: 0.8851 - val_loss: 0.1934 - val_acc: 0.9369\n",
            "Epoch 112/300\n",
            "118/118 [==============================] - 9s 77ms/step - loss: 0.3028 - acc: 0.8884 - val_loss: 0.1700 - val_acc: 0.9463\n",
            "Epoch 113/300\n",
            "118/118 [==============================] - 9s 78ms/step - loss: 0.3035 - acc: 0.8893 - val_loss: 0.2230 - val_acc: 0.9244\n",
            "Epoch 114/300\n",
            "118/118 [==============================] - 9s 78ms/step - loss: 0.3058 - acc: 0.8900 - val_loss: 0.2083 - val_acc: 0.9244\n",
            "Epoch 115/300\n",
            "118/118 [==============================] - 9s 79ms/step - loss: 0.3054 - acc: 0.8843 - val_loss: 0.2439 - val_acc: 0.9194\n",
            "Epoch 116/300\n",
            "118/118 [==============================] - 9s 77ms/step - loss: 0.2917 - acc: 0.8969 - val_loss: 0.1692 - val_acc: 0.9488\n",
            "Epoch 117/300\n",
            "118/118 [==============================] - 9s 76ms/step - loss: 0.3014 - acc: 0.8930 - val_loss: 0.1717 - val_acc: 0.9419\n",
            "Epoch 118/300\n",
            "118/118 [==============================] - 9s 77ms/step - loss: 0.2926 - acc: 0.8929 - val_loss: 0.2043 - val_acc: 0.9269\n",
            "Epoch 119/300\n",
            "118/118 [==============================] - 9s 77ms/step - loss: 0.2894 - acc: 0.8945 - val_loss: 0.1748 - val_acc: 0.9388\n",
            "Epoch 120/300\n",
            "118/118 [==============================] - 9s 79ms/step - loss: 0.2833 - acc: 0.8960 - val_loss: 0.1705 - val_acc: 0.9413\n",
            "Epoch 121/300\n",
            "118/118 [==============================] - 9s 77ms/step - loss: 0.2939 - acc: 0.8920 - val_loss: 0.1728 - val_acc: 0.9425\n",
            "Epoch 122/300\n",
            "118/118 [==============================] - 9s 77ms/step - loss: 0.2890 - acc: 0.8973 - val_loss: 0.1702 - val_acc: 0.9450\n",
            "Epoch 123/300\n",
            "118/118 [==============================] - 9s 77ms/step - loss: 0.2882 - acc: 0.8933 - val_loss: 0.1748 - val_acc: 0.9269\n",
            "Epoch 124/300\n",
            "118/118 [==============================] - 9s 77ms/step - loss: 0.2852 - acc: 0.9006 - val_loss: 0.1700 - val_acc: 0.9425\n",
            "Epoch 125/300\n",
            "118/118 [==============================] - 9s 77ms/step - loss: 0.2749 - acc: 0.9017 - val_loss: 0.1696 - val_acc: 0.9481\n",
            "Epoch 126/300\n",
            "118/118 [==============================] - 9s 76ms/step - loss: 0.2842 - acc: 0.8974 - val_loss: 0.1487 - val_acc: 0.9500\n",
            "Epoch 127/300\n",
            "118/118 [==============================] - 9s 77ms/step - loss: 0.2731 - acc: 0.9021 - val_loss: 0.1540 - val_acc: 0.9519\n",
            "Epoch 128/300\n",
            "118/118 [==============================] - 9s 76ms/step - loss: 0.2630 - acc: 0.9011 - val_loss: 0.1608 - val_acc: 0.9538\n",
            "Epoch 129/300\n",
            "118/118 [==============================] - 9s 77ms/step - loss: 0.2673 - acc: 0.9027 - val_loss: 0.1464 - val_acc: 0.9494\n",
            "Epoch 130/300\n",
            "118/118 [==============================] - 9s 77ms/step - loss: 0.2643 - acc: 0.9037 - val_loss: 0.1906 - val_acc: 0.9388\n",
            "Epoch 131/300\n",
            "118/118 [==============================] - 9s 79ms/step - loss: 0.2596 - acc: 0.9098 - val_loss: 0.1510 - val_acc: 0.9469\n",
            "Epoch 132/300\n",
            "118/118 [==============================] - 9s 77ms/step - loss: 0.2662 - acc: 0.9018 - val_loss: 0.1488 - val_acc: 0.9556\n",
            "Epoch 133/300\n",
            "118/118 [==============================] - 9s 75ms/step - loss: 0.2552 - acc: 0.9081 - val_loss: 0.1451 - val_acc: 0.9544\n",
            "Epoch 134/300\n",
            "118/118 [==============================] - 9s 73ms/step - loss: 0.2549 - acc: 0.9034 - val_loss: 0.1440 - val_acc: 0.9500\n",
            "Epoch 135/300\n",
            "118/118 [==============================] - 9s 73ms/step - loss: 0.2568 - acc: 0.9079 - val_loss: 0.1551 - val_acc: 0.9413\n",
            "Epoch 136/300\n",
            "118/118 [==============================] - 9s 74ms/step - loss: 0.2526 - acc: 0.9099 - val_loss: 0.1448 - val_acc: 0.9575\n",
            "Epoch 137/300\n",
            "118/118 [==============================] - 9s 76ms/step - loss: 0.2390 - acc: 0.9159 - val_loss: 0.1439 - val_acc: 0.9594\n",
            "Epoch 138/300\n",
            "118/118 [==============================] - 9s 74ms/step - loss: 0.2454 - acc: 0.9096 - val_loss: 0.1408 - val_acc: 0.9575\n",
            "Epoch 139/300\n",
            "118/118 [==============================] - 9s 75ms/step - loss: 0.2501 - acc: 0.9067 - val_loss: 0.1440 - val_acc: 0.9494\n",
            "Epoch 140/300\n",
            "118/118 [==============================] - 9s 75ms/step - loss: 0.2554 - acc: 0.9050 - val_loss: 0.1319 - val_acc: 0.9569\n",
            "Epoch 141/300\n",
            "118/118 [==============================] - 9s 75ms/step - loss: 0.2423 - acc: 0.9128 - val_loss: 0.1488 - val_acc: 0.9519\n",
            "Epoch 142/300\n",
            "118/118 [==============================] - 9s 74ms/step - loss: 0.2284 - acc: 0.9183 - val_loss: 0.1421 - val_acc: 0.9581\n",
            "Epoch 143/300\n",
            "118/118 [==============================] - 9s 74ms/step - loss: 0.2450 - acc: 0.9110 - val_loss: 0.1403 - val_acc: 0.9475\n",
            "Epoch 144/300\n",
            "118/118 [==============================] - 9s 74ms/step - loss: 0.2354 - acc: 0.9182 - val_loss: 0.1281 - val_acc: 0.9619\n",
            "Epoch 145/300\n",
            "118/118 [==============================] - 9s 74ms/step - loss: 0.2224 - acc: 0.9204 - val_loss: 0.1395 - val_acc: 0.9606\n",
            "Epoch 146/300\n",
            "118/118 [==============================] - 9s 74ms/step - loss: 0.2330 - acc: 0.9139 - val_loss: 0.1266 - val_acc: 0.9638\n",
            "Epoch 147/300\n",
            "118/118 [==============================] - 9s 73ms/step - loss: 0.2391 - acc: 0.9152 - val_loss: 0.1321 - val_acc: 0.9544\n",
            "Epoch 148/300\n",
            "118/118 [==============================] - 9s 74ms/step - loss: 0.2190 - acc: 0.9228 - val_loss: 0.1783 - val_acc: 0.9394\n",
            "Epoch 149/300\n",
            "118/118 [==============================] - 9s 74ms/step - loss: 0.2139 - acc: 0.9229 - val_loss: 0.1233 - val_acc: 0.9631\n",
            "Epoch 150/300\n",
            "118/118 [==============================] - 9s 73ms/step - loss: 0.2180 - acc: 0.9203 - val_loss: 0.1404 - val_acc: 0.9569\n",
            "Epoch 151/300\n",
            "118/118 [==============================] - 9s 76ms/step - loss: 0.2324 - acc: 0.9142 - val_loss: 0.1243 - val_acc: 0.9663\n",
            "Epoch 152/300\n",
            "118/118 [==============================] - 9s 74ms/step - loss: 0.2155 - acc: 0.9256 - val_loss: 0.1656 - val_acc: 0.9444\n",
            "Epoch 153/300\n",
            "118/118 [==============================] - 9s 73ms/step - loss: 0.2225 - acc: 0.9191 - val_loss: 0.1199 - val_acc: 0.9669\n",
            "Epoch 154/300\n",
            "118/118 [==============================] - 9s 74ms/step - loss: 0.2146 - acc: 0.9203 - val_loss: 0.1590 - val_acc: 0.9556\n",
            "Epoch 155/300\n",
            "118/118 [==============================] - 9s 74ms/step - loss: 0.2198 - acc: 0.9192 - val_loss: 0.1225 - val_acc: 0.9663\n",
            "Epoch 156/300\n",
            "118/118 [==============================] - 9s 74ms/step - loss: 0.2189 - acc: 0.9220 - val_loss: 0.1121 - val_acc: 0.9650\n",
            "Epoch 157/300\n",
            "118/118 [==============================] - 9s 74ms/step - loss: 0.2204 - acc: 0.9225 - val_loss: 0.1119 - val_acc: 0.9663\n",
            "Epoch 158/300\n",
            "118/118 [==============================] - 9s 73ms/step - loss: 0.2170 - acc: 0.9241 - val_loss: 0.1414 - val_acc: 0.9613\n",
            "Epoch 159/300\n",
            "118/118 [==============================] - 9s 74ms/step - loss: 0.2140 - acc: 0.9239 - val_loss: 0.1066 - val_acc: 0.9694\n",
            "Epoch 160/300\n",
            "118/118 [==============================] - 9s 74ms/step - loss: 0.1995 - acc: 0.9267 - val_loss: 0.1083 - val_acc: 0.9650\n",
            "Epoch 161/300\n",
            "118/118 [==============================] - 9s 74ms/step - loss: 0.2038 - acc: 0.9276 - val_loss: 0.1274 - val_acc: 0.9650\n",
            "Epoch 162/300\n",
            "118/118 [==============================] - 9s 73ms/step - loss: 0.2064 - acc: 0.9233 - val_loss: 0.1404 - val_acc: 0.9631\n",
            "Epoch 163/300\n",
            "118/118 [==============================] - 9s 73ms/step - loss: 0.2025 - acc: 0.9280 - val_loss: 0.1104 - val_acc: 0.9675\n",
            "Epoch 164/300\n",
            "118/118 [==============================] - 9s 74ms/step - loss: 0.1910 - acc: 0.9309 - val_loss: 0.1010 - val_acc: 0.9681\n",
            "Epoch 165/300\n",
            "118/118 [==============================] - 9s 76ms/step - loss: 0.1933 - acc: 0.9298 - val_loss: 0.1440 - val_acc: 0.9563\n",
            "Epoch 166/300\n",
            "118/118 [==============================] - 9s 74ms/step - loss: 0.1877 - acc: 0.9313 - val_loss: 0.1105 - val_acc: 0.9681\n",
            "Epoch 167/300\n",
            "118/118 [==============================] - 9s 74ms/step - loss: 0.2036 - acc: 0.9281 - val_loss: 0.1063 - val_acc: 0.9712\n",
            "Epoch 168/300\n",
            "118/118 [==============================] - 9s 74ms/step - loss: 0.1956 - acc: 0.9277 - val_loss: 0.1202 - val_acc: 0.9688\n",
            "Epoch 169/300\n",
            "118/118 [==============================] - 9s 75ms/step - loss: 0.2047 - acc: 0.9253 - val_loss: 0.1413 - val_acc: 0.9619\n",
            "Epoch 170/300\n",
            "118/118 [==============================] - 9s 75ms/step - loss: 0.2010 - acc: 0.9253 - val_loss: 0.1174 - val_acc: 0.9663\n",
            "Epoch 171/300\n",
            "118/118 [==============================] - 9s 73ms/step - loss: 0.2016 - acc: 0.9255 - val_loss: 0.1138 - val_acc: 0.9663\n",
            "Epoch 172/300\n",
            "118/118 [==============================] - 9s 74ms/step - loss: 0.1980 - acc: 0.9285 - val_loss: 0.1138 - val_acc: 0.9675\n",
            "Epoch 173/300\n",
            "118/118 [==============================] - 9s 74ms/step - loss: 0.1879 - acc: 0.9304 - val_loss: 0.1213 - val_acc: 0.9669\n",
            "Epoch 174/300\n",
            "118/118 [==============================] - 9s 74ms/step - loss: 0.1897 - acc: 0.9312 - val_loss: 0.1051 - val_acc: 0.9706\n",
            "Epoch 175/300\n",
            "118/118 [==============================] - 9s 75ms/step - loss: 0.1861 - acc: 0.9329 - val_loss: 0.1103 - val_acc: 0.9675\n",
            "Epoch 176/300\n",
            "118/118 [==============================] - 9s 75ms/step - loss: 0.1800 - acc: 0.9350 - val_loss: 0.1664 - val_acc: 0.9544\n",
            "Epoch 177/300\n",
            "118/118 [==============================] - 9s 75ms/step - loss: 0.1945 - acc: 0.9293 - val_loss: 0.1067 - val_acc: 0.9719\n",
            "Epoch 178/300\n",
            "118/118 [==============================] - 9s 75ms/step - loss: 0.1793 - acc: 0.9348 - val_loss: 0.1261 - val_acc: 0.9656\n",
            "Epoch 179/300\n",
            "118/118 [==============================] - 9s 76ms/step - loss: 0.1808 - acc: 0.9377 - val_loss: 0.0928 - val_acc: 0.9719\n",
            "Epoch 180/300\n",
            "118/118 [==============================] - 9s 73ms/step - loss: 0.1783 - acc: 0.9346 - val_loss: 0.1251 - val_acc: 0.9669\n",
            "Epoch 181/300\n",
            "118/118 [==============================] - 9s 73ms/step - loss: 0.1840 - acc: 0.9369 - val_loss: 0.1036 - val_acc: 0.9706\n",
            "Epoch 182/300\n",
            "118/118 [==============================] - 9s 74ms/step - loss: 0.1812 - acc: 0.9362 - val_loss: 0.1451 - val_acc: 0.9606\n",
            "Epoch 183/300\n",
            "118/118 [==============================] - 9s 75ms/step - loss: 0.1808 - acc: 0.9336 - val_loss: 0.0995 - val_acc: 0.9706\n",
            "Epoch 184/300\n",
            "118/118 [==============================] - 9s 74ms/step - loss: 0.1846 - acc: 0.9336 - val_loss: 0.0966 - val_acc: 0.9725\n",
            "Epoch 185/300\n",
            "118/118 [==============================] - 9s 74ms/step - loss: 0.1736 - acc: 0.9397 - val_loss: 0.0980 - val_acc: 0.9750\n",
            "Epoch 186/300\n",
            "118/118 [==============================] - 9s 75ms/step - loss: 0.1716 - acc: 0.9411 - val_loss: 0.1003 - val_acc: 0.9737\n",
            "Epoch 187/300\n",
            "118/118 [==============================] - 9s 75ms/step - loss: 0.1764 - acc: 0.9398 - val_loss: 0.0831 - val_acc: 0.9787\n",
            "Epoch 188/300\n",
            "118/118 [==============================] - 9s 76ms/step - loss: 0.1740 - acc: 0.9369 - val_loss: 0.0896 - val_acc: 0.9756\n",
            "Epoch 189/300\n",
            "118/118 [==============================] - 9s 75ms/step - loss: 0.1727 - acc: 0.9414 - val_loss: 0.0870 - val_acc: 0.9756\n",
            "Epoch 190/300\n",
            "118/118 [==============================] - 9s 76ms/step - loss: 0.1725 - acc: 0.9411 - val_loss: 0.1021 - val_acc: 0.9706\n",
            "Epoch 191/300\n",
            "118/118 [==============================] - 9s 76ms/step - loss: 0.1756 - acc: 0.9370 - val_loss: 0.0988 - val_acc: 0.9681\n",
            "Epoch 192/300\n",
            "118/118 [==============================] - 9s 76ms/step - loss: 0.1758 - acc: 0.9395 - val_loss: 0.0933 - val_acc: 0.9787\n",
            "Epoch 193/300\n",
            "118/118 [==============================] - 9s 76ms/step - loss: 0.1770 - acc: 0.9348 - val_loss: 0.0928 - val_acc: 0.9750\n",
            "Epoch 194/300\n",
            "118/118 [==============================] - 9s 77ms/step - loss: 0.1667 - acc: 0.9405 - val_loss: 0.1005 - val_acc: 0.9712\n",
            "Epoch 195/300\n",
            "118/118 [==============================] - 9s 76ms/step - loss: 0.1511 - acc: 0.9419 - val_loss: 0.0947 - val_acc: 0.9769\n",
            "Epoch 196/300\n",
            "118/118 [==============================] - 9s 78ms/step - loss: 0.1508 - acc: 0.9454 - val_loss: 0.0847 - val_acc: 0.9775\n",
            "Epoch 197/300\n",
            "118/118 [==============================] - 9s 78ms/step - loss: 0.1643 - acc: 0.9418 - val_loss: 0.0994 - val_acc: 0.9731\n",
            "Epoch 198/300\n",
            "118/118 [==============================] - 9s 78ms/step - loss: 0.1580 - acc: 0.9430 - val_loss: 0.0843 - val_acc: 0.9744\n",
            "Epoch 199/300\n",
            "118/118 [==============================] - 9s 76ms/step - loss: 0.1583 - acc: 0.9453 - val_loss: 0.0878 - val_acc: 0.9737\n",
            "Epoch 200/300\n",
            "118/118 [==============================] - 9s 77ms/step - loss: 0.1662 - acc: 0.9430 - val_loss: 0.0911 - val_acc: 0.9719\n",
            "Epoch 201/300\n",
            "118/118 [==============================] - 9s 75ms/step - loss: 0.1646 - acc: 0.9423 - val_loss: 0.0795 - val_acc: 0.9794\n",
            "Epoch 202/300\n",
            "118/118 [==============================] - 9s 76ms/step - loss: 0.1545 - acc: 0.9459 - val_loss: 0.0795 - val_acc: 0.9806\n",
            "Epoch 203/300\n",
            "118/118 [==============================] - 9s 75ms/step - loss: 0.1538 - acc: 0.9459 - val_loss: 0.0952 - val_acc: 0.9712\n",
            "Epoch 204/300\n",
            "118/118 [==============================] - 9s 76ms/step - loss: 0.1545 - acc: 0.9435 - val_loss: 0.0979 - val_acc: 0.9787\n",
            "Epoch 205/300\n",
            "118/118 [==============================] - 9s 75ms/step - loss: 0.1569 - acc: 0.9430 - val_loss: 0.0835 - val_acc: 0.9756\n",
            "Epoch 206/300\n",
            "118/118 [==============================] - 9s 75ms/step - loss: 0.1450 - acc: 0.9512 - val_loss: 0.0792 - val_acc: 0.9794\n",
            "Epoch 207/300\n",
            "118/118 [==============================] - 9s 74ms/step - loss: 0.1539 - acc: 0.9479 - val_loss: 0.1022 - val_acc: 0.9719\n",
            "Epoch 208/300\n",
            "118/118 [==============================] - 9s 73ms/step - loss: 0.1561 - acc: 0.9449 - val_loss: 0.0819 - val_acc: 0.9769\n",
            "Epoch 209/300\n",
            "118/118 [==============================] - 9s 74ms/step - loss: 0.1569 - acc: 0.9425 - val_loss: 0.0780 - val_acc: 0.9787\n",
            "Epoch 210/300\n",
            "118/118 [==============================] - 9s 74ms/step - loss: 0.1494 - acc: 0.9500 - val_loss: 0.0708 - val_acc: 0.9819\n",
            "Epoch 211/300\n",
            "118/118 [==============================] - 9s 76ms/step - loss: 0.1514 - acc: 0.9439 - val_loss: 0.0844 - val_acc: 0.9775\n",
            "Epoch 212/300\n",
            "118/118 [==============================] - 9s 76ms/step - loss: 0.1536 - acc: 0.9490 - val_loss: 0.0841 - val_acc: 0.9800\n",
            "Epoch 213/300\n",
            "118/118 [==============================] - 9s 77ms/step - loss: 0.1355 - acc: 0.9534 - val_loss: 0.0822 - val_acc: 0.9787\n",
            "Epoch 214/300\n",
            "118/118 [==============================] - 9s 78ms/step - loss: 0.1443 - acc: 0.9459 - val_loss: 0.0900 - val_acc: 0.9775\n",
            "Epoch 215/300\n",
            "118/118 [==============================] - 9s 76ms/step - loss: 0.1473 - acc: 0.9476 - val_loss: 0.1064 - val_acc: 0.9737\n",
            "Epoch 216/300\n",
            "118/118 [==============================] - 9s 77ms/step - loss: 0.1375 - acc: 0.9508 - val_loss: 0.0753 - val_acc: 0.9819\n",
            "Epoch 217/300\n",
            "118/118 [==============================] - 9s 76ms/step - loss: 0.1513 - acc: 0.9446 - val_loss: 0.0748 - val_acc: 0.9787\n",
            "Epoch 218/300\n",
            "118/118 [==============================] - 9s 75ms/step - loss: 0.1356 - acc: 0.9526 - val_loss: 0.0835 - val_acc: 0.9812\n",
            "Epoch 219/300\n",
            "118/118 [==============================] - 9s 75ms/step - loss: 0.1427 - acc: 0.9476 - val_loss: 0.0745 - val_acc: 0.9775\n",
            "Epoch 220/300\n",
            "118/118 [==============================] - 9s 76ms/step - loss: 0.1376 - acc: 0.9486 - val_loss: 0.0802 - val_acc: 0.9800\n",
            "Epoch 221/300\n",
            "118/118 [==============================] - 9s 75ms/step - loss: 0.1459 - acc: 0.9469 - val_loss: 0.0787 - val_acc: 0.9762\n",
            "Epoch 222/300\n",
            "118/118 [==============================] - 9s 75ms/step - loss: 0.1387 - acc: 0.9496 - val_loss: 0.0920 - val_acc: 0.9762\n",
            "Epoch 223/300\n",
            "118/118 [==============================] - 9s 75ms/step - loss: 0.1405 - acc: 0.9507 - val_loss: 0.0671 - val_acc: 0.9806\n",
            "Epoch 224/300\n",
            "118/118 [==============================] - 9s 75ms/step - loss: 0.1353 - acc: 0.9507 - val_loss: 0.0678 - val_acc: 0.9825\n",
            "Epoch 225/300\n",
            "118/118 [==============================] - 9s 74ms/step - loss: 0.1372 - acc: 0.9554 - val_loss: 0.0936 - val_acc: 0.9762\n",
            "Epoch 226/300\n",
            "118/118 [==============================] - 9s 74ms/step - loss: 0.1307 - acc: 0.9527 - val_loss: 0.0939 - val_acc: 0.9769\n",
            "Epoch 227/300\n",
            "118/118 [==============================] - 9s 75ms/step - loss: 0.1393 - acc: 0.9508 - val_loss: 0.0869 - val_acc: 0.9794\n",
            "Epoch 228/300\n",
            "118/118 [==============================] - 9s 76ms/step - loss: 0.1251 - acc: 0.9562 - val_loss: 0.0841 - val_acc: 0.9762\n",
            "Epoch 229/300\n",
            "118/118 [==============================] - 9s 74ms/step - loss: 0.1335 - acc: 0.9524 - val_loss: 0.0662 - val_acc: 0.9825\n",
            "Epoch 230/300\n",
            "118/118 [==============================] - 9s 75ms/step - loss: 0.1333 - acc: 0.9550 - val_loss: 0.0901 - val_acc: 0.9737\n",
            "Epoch 231/300\n",
            "118/118 [==============================] - 9s 75ms/step - loss: 0.1387 - acc: 0.9531 - val_loss: 0.0923 - val_acc: 0.9769\n",
            "Epoch 232/300\n",
            "118/118 [==============================] - 9s 75ms/step - loss: 0.1328 - acc: 0.9508 - val_loss: 0.0665 - val_acc: 0.9794\n",
            "Epoch 233/300\n",
            "118/118 [==============================] - 9s 74ms/step - loss: 0.1296 - acc: 0.9512 - val_loss: 0.0868 - val_acc: 0.9756\n",
            "Epoch 234/300\n",
            "118/118 [==============================] - 9s 74ms/step - loss: 0.1340 - acc: 0.9504 - val_loss: 0.0678 - val_acc: 0.9812\n",
            "Epoch 235/300\n",
            "118/118 [==============================] - 9s 74ms/step - loss: 0.1265 - acc: 0.9547 - val_loss: 0.0796 - val_acc: 0.9806\n",
            "Epoch 236/300\n",
            "118/118 [==============================] - 9s 74ms/step - loss: 0.1287 - acc: 0.9530 - val_loss: 0.0946 - val_acc: 0.9756\n",
            "Epoch 237/300\n",
            "118/118 [==============================] - 9s 74ms/step - loss: 0.1297 - acc: 0.9527 - val_loss: 0.0806 - val_acc: 0.9794\n",
            "Epoch 238/300\n",
            "118/118 [==============================] - 9s 75ms/step - loss: 0.1282 - acc: 0.9534 - val_loss: 0.0840 - val_acc: 0.9775\n",
            "Epoch 239/300\n",
            "118/118 [==============================] - 9s 74ms/step - loss: 0.1356 - acc: 0.9544 - val_loss: 0.0759 - val_acc: 0.9769\n",
            "Epoch 240/300\n",
            "118/118 [==============================] - 9s 75ms/step - loss: 0.1372 - acc: 0.9522 - val_loss: 0.0759 - val_acc: 0.9787\n",
            "Epoch 241/300\n",
            "118/118 [==============================] - 9s 74ms/step - loss: 0.1294 - acc: 0.9530 - val_loss: 0.0702 - val_acc: 0.9819\n",
            "Epoch 242/300\n",
            "118/118 [==============================] - 9s 75ms/step - loss: 0.1226 - acc: 0.9576 - val_loss: 0.0665 - val_acc: 0.9806\n",
            "Epoch 243/300\n",
            "118/118 [==============================] - 9s 74ms/step - loss: 0.1375 - acc: 0.9526 - val_loss: 0.0735 - val_acc: 0.9812\n",
            "Epoch 244/300\n",
            "118/118 [==============================] - 9s 74ms/step - loss: 0.1217 - acc: 0.9554 - val_loss: 0.0679 - val_acc: 0.9812\n",
            "Epoch 245/300\n",
            "118/118 [==============================] - 9s 75ms/step - loss: 0.1255 - acc: 0.9568 - val_loss: 0.0611 - val_acc: 0.9812\n",
            "Epoch 246/300\n",
            "118/118 [==============================] - 9s 76ms/step - loss: 0.1274 - acc: 0.9542 - val_loss: 0.0692 - val_acc: 0.9812\n",
            "Epoch 247/300\n",
            "118/118 [==============================] - 9s 76ms/step - loss: 0.1224 - acc: 0.9555 - val_loss: 0.0633 - val_acc: 0.9806\n",
            "Epoch 248/300\n",
            "118/118 [==============================] - 9s 75ms/step - loss: 0.1324 - acc: 0.9515 - val_loss: 0.0660 - val_acc: 0.9831\n",
            "Epoch 249/300\n",
            "118/118 [==============================] - 9s 76ms/step - loss: 0.1284 - acc: 0.9555 - val_loss: 0.1026 - val_acc: 0.9719\n",
            "Epoch 250/300\n",
            "118/118 [==============================] - 9s 75ms/step - loss: 0.1204 - acc: 0.9585 - val_loss: 0.0657 - val_acc: 0.9844\n",
            "Epoch 251/300\n",
            "118/118 [==============================] - 9s 80ms/step - loss: 0.1164 - acc: 0.9572 - val_loss: 0.0654 - val_acc: 0.9831\n",
            "Epoch 252/300\n",
            "118/118 [==============================] - 9s 78ms/step - loss: 0.1235 - acc: 0.9558 - val_loss: 0.0753 - val_acc: 0.9812\n",
            "Epoch 253/300\n",
            "118/118 [==============================] - 9s 75ms/step - loss: 0.1211 - acc: 0.9581 - val_loss: 0.0669 - val_acc: 0.9806\n",
            "Epoch 254/300\n",
            "118/118 [==============================] - 9s 76ms/step - loss: 0.1200 - acc: 0.9575 - val_loss: 0.0761 - val_acc: 0.9794\n",
            "Epoch 255/300\n",
            "118/118 [==============================] - 9s 78ms/step - loss: 0.1227 - acc: 0.9551 - val_loss: 0.0640 - val_acc: 0.9800\n",
            "Epoch 256/300\n",
            "118/118 [==============================] - 9s 78ms/step - loss: 0.1105 - acc: 0.9604 - val_loss: 0.0758 - val_acc: 0.9819\n",
            "Epoch 257/300\n",
            "118/118 [==============================] - 9s 77ms/step - loss: 0.1144 - acc: 0.9585 - val_loss: 0.0582 - val_acc: 0.9844\n",
            "Epoch 258/300\n",
            "118/118 [==============================] - 9s 78ms/step - loss: 0.1158 - acc: 0.9600 - val_loss: 0.0715 - val_acc: 0.9819\n",
            "Epoch 259/300\n",
            "118/118 [==============================] - 9s 78ms/step - loss: 0.1227 - acc: 0.9569 - val_loss: 0.0730 - val_acc: 0.9831\n",
            "Epoch 260/300\n",
            "118/118 [==============================] - 9s 77ms/step - loss: 0.1191 - acc: 0.9576 - val_loss: 0.0843 - val_acc: 0.9781\n",
            "Epoch 261/300\n",
            "118/118 [==============================] - 9s 78ms/step - loss: 0.1175 - acc: 0.9591 - val_loss: 0.0736 - val_acc: 0.9800\n",
            "Epoch 262/300\n",
            "118/118 [==============================] - 9s 79ms/step - loss: 0.1228 - acc: 0.9558 - val_loss: 0.0545 - val_acc: 0.9837\n",
            "Epoch 263/300\n",
            "118/118 [==============================] - 9s 75ms/step - loss: 0.1075 - acc: 0.9619 - val_loss: 0.0594 - val_acc: 0.9837\n",
            "Epoch 264/300\n",
            "118/118 [==============================] - 9s 76ms/step - loss: 0.1107 - acc: 0.9612 - val_loss: 0.0621 - val_acc: 0.9819\n",
            "Epoch 265/300\n",
            "118/118 [==============================] - 9s 77ms/step - loss: 0.1126 - acc: 0.9612 - val_loss: 0.0749 - val_acc: 0.9825\n",
            "Epoch 266/300\n",
            "118/118 [==============================] - 10s 83ms/step - loss: 0.1099 - acc: 0.9615 - val_loss: 0.0667 - val_acc: 0.9819\n",
            "Epoch 267/300\n",
            "118/118 [==============================] - 10s 81ms/step - loss: 0.1147 - acc: 0.9588 - val_loss: 0.0683 - val_acc: 0.9831\n",
            "Epoch 268/300\n",
            "118/118 [==============================] - 9s 79ms/step - loss: 0.1108 - acc: 0.9643 - val_loss: 0.0660 - val_acc: 0.9800\n",
            "Epoch 269/300\n",
            "118/118 [==============================] - 9s 78ms/step - loss: 0.1124 - acc: 0.9581 - val_loss: 0.0643 - val_acc: 0.9812\n",
            "Epoch 270/300\n",
            "118/118 [==============================] - 9s 78ms/step - loss: 0.1110 - acc: 0.9591 - val_loss: 0.0656 - val_acc: 0.9844\n",
            "Epoch 271/300\n",
            "118/118 [==============================] - 9s 78ms/step - loss: 0.1103 - acc: 0.9599 - val_loss: 0.0649 - val_acc: 0.9812\n",
            "Epoch 272/300\n",
            "118/118 [==============================] - 9s 77ms/step - loss: 0.1130 - acc: 0.9588 - val_loss: 0.0637 - val_acc: 0.9837\n",
            "Epoch 273/300\n",
            "118/118 [==============================] - 10s 82ms/step - loss: 0.1114 - acc: 0.9588 - val_loss: 0.0615 - val_acc: 0.9831\n",
            "Epoch 274/300\n",
            "118/118 [==============================] - 9s 77ms/step - loss: 0.1048 - acc: 0.9632 - val_loss: 0.0751 - val_acc: 0.9819\n",
            "Epoch 275/300\n",
            "118/118 [==============================] - 9s 78ms/step - loss: 0.1056 - acc: 0.9637 - val_loss: 0.0592 - val_acc: 0.9856\n",
            "Epoch 276/300\n",
            "118/118 [==============================] - 10s 81ms/step - loss: 0.1095 - acc: 0.9611 - val_loss: 0.0587 - val_acc: 0.9862\n",
            "Epoch 277/300\n",
            "118/118 [==============================] - 9s 75ms/step - loss: 0.1051 - acc: 0.9637 - val_loss: 0.0557 - val_acc: 0.9819\n",
            "Epoch 278/300\n",
            "118/118 [==============================] - 9s 78ms/step - loss: 0.1043 - acc: 0.9640 - val_loss: 0.0608 - val_acc: 0.9856\n",
            "Epoch 279/300\n",
            "118/118 [==============================] - 9s 78ms/step - loss: 0.1025 - acc: 0.9641 - val_loss: 0.0778 - val_acc: 0.9812\n",
            "Epoch 280/300\n",
            "118/118 [==============================] - 9s 77ms/step - loss: 0.1062 - acc: 0.9608 - val_loss: 0.0628 - val_acc: 0.9831\n",
            "Epoch 281/300\n",
            "118/118 [==============================] - 9s 79ms/step - loss: 0.1065 - acc: 0.9645 - val_loss: 0.0606 - val_acc: 0.9819\n",
            "Epoch 282/300\n",
            "118/118 [==============================] - 9s 77ms/step - loss: 0.1023 - acc: 0.9627 - val_loss: 0.0683 - val_acc: 0.9825\n",
            "Epoch 283/300\n",
            "118/118 [==============================] - 10s 81ms/step - loss: 0.1030 - acc: 0.9651 - val_loss: 0.0647 - val_acc: 0.9812\n",
            "Epoch 284/300\n",
            "118/118 [==============================] - 9s 78ms/step - loss: 0.0974 - acc: 0.9648 - val_loss: 0.0648 - val_acc: 0.9837\n",
            "Epoch 285/300\n",
            "118/118 [==============================] - 9s 76ms/step - loss: 0.1113 - acc: 0.9615 - val_loss: 0.0739 - val_acc: 0.9800\n",
            "Epoch 286/300\n",
            "118/118 [==============================] - 9s 79ms/step - loss: 0.1123 - acc: 0.9603 - val_loss: 0.0642 - val_acc: 0.9837\n",
            "Epoch 287/300\n",
            "118/118 [==============================] - 10s 82ms/step - loss: 0.0985 - acc: 0.9666 - val_loss: 0.0724 - val_acc: 0.9806\n",
            "Epoch 288/300\n",
            "118/118 [==============================] - 9s 77ms/step - loss: 0.1141 - acc: 0.9597 - val_loss: 0.0746 - val_acc: 0.9800\n",
            "Epoch 289/300\n",
            "118/118 [==============================] - 9s 76ms/step - loss: 0.1061 - acc: 0.9615 - val_loss: 0.0665 - val_acc: 0.9812\n",
            "Epoch 290/300\n",
            "118/118 [==============================] - 10s 82ms/step - loss: 0.1027 - acc: 0.9631 - val_loss: 0.0710 - val_acc: 0.9787\n",
            "Epoch 291/300\n",
            "118/118 [==============================] - 10s 86ms/step - loss: 0.1055 - acc: 0.9605 - val_loss: 0.0552 - val_acc: 0.9850\n",
            "Epoch 292/300\n",
            "118/118 [==============================] - 10s 81ms/step - loss: 0.0966 - acc: 0.9648 - val_loss: 0.0617 - val_acc: 0.9812\n",
            "Epoch 293/300\n",
            "118/118 [==============================] - 9s 77ms/step - loss: 0.0991 - acc: 0.9635 - val_loss: 0.0591 - val_acc: 0.9800\n",
            "Epoch 294/300\n",
            "118/118 [==============================] - 9s 76ms/step - loss: 0.0954 - acc: 0.9643 - val_loss: 0.0628 - val_acc: 0.9825\n",
            "Epoch 295/300\n",
            "118/118 [==============================] - 9s 78ms/step - loss: 0.1018 - acc: 0.9641 - val_loss: 0.0618 - val_acc: 0.9831\n",
            "Epoch 296/300\n",
            "118/118 [==============================] - 9s 76ms/step - loss: 0.0915 - acc: 0.9680 - val_loss: 0.0663 - val_acc: 0.9837\n",
            "Epoch 297/300\n",
            "118/118 [==============================] - 9s 77ms/step - loss: 0.0930 - acc: 0.9682 - val_loss: 0.0653 - val_acc: 0.9837\n",
            "Epoch 298/300\n",
            "118/118 [==============================] - 9s 78ms/step - loss: 0.0975 - acc: 0.9657 - val_loss: 0.0482 - val_acc: 0.9831\n",
            "Epoch 299/300\n",
            "118/118 [==============================] - 9s 77ms/step - loss: 0.0928 - acc: 0.9688 - val_loss: 0.0565 - val_acc: 0.9856\n",
            "Epoch 300/300\n",
            "118/118 [==============================] - 10s 83ms/step - loss: 0.0885 - acc: 0.9686 - val_loss: 0.0616 - val_acc: 0.9862\n"
          ]
        }
      ]
    },
    {
      "cell_type": "markdown",
      "source": [
        "**We have trained our model using training and validation sets!\n",
        "Now we have to import the test images and check if our model is generaling well.**"
      ],
      "metadata": {
        "id": "o-kPP2nyx0oZ"
      }
    },
    {
      "cell_type": "code",
      "source": [
        ""
      ],
      "metadata": {
        "id": "qUuOttEMx0P5"
      },
      "execution_count": null,
      "outputs": []
    },
    {
      "cell_type": "code",
      "source": [
        "#### Using our trained model on test images\n",
        "\n",
        "folder = r\"/content/drive/My Drive/Colab Notebooks/Datasets/sports-video-data/sports-video-data/test_images\"\n",
        "subfolders = [f.path for f in os.scandir(folder) if f.is_dir()]\n",
        "data_test=pd.DataFrame(columns=[\"image_path\",\"class\"])\n",
        "print(subfolders)\n",
        "for sub in subfolders:\n",
        "    for f in os.listdir(sub):\n",
        "      if sub=='/content/drive/My Drive/Colab Notebooks/Datasets/sports-video-data/sports-video-data/test_images/volleyball':\n",
        "        f1='/content/drive/My Drive/Colab Notebooks/Datasets/sports-video-data/sports-video-data/test_images/volleyball'+'/'+f\n",
        "        df1_test=pd.DataFrame([[f1,'volleyball']],columns=[\"image_path\",\"class\"])\n",
        "        data_test=data_test.append(df1_test)\n",
        "\n",
        "      elif sub=='/content/drive/My Drive/Colab Notebooks/Datasets/sports-video-data/sports-video-data/test_images/basketball':\n",
        "        f2='/content/drive/My Drive/Colab Notebooks/Datasets/sports-video-data/sports-video-data/test_images/basketball'+'/'+f\n",
        "        df1_test=pd.DataFrame([[f2,'basketball']],columns=[\"image_path\",\"class\"])\n",
        "        data_test=data_test.append(df1)\n",
        "\n",
        "      elif sub=='/content/drive/My Drive/Colab Notebooks/Datasets/sports-video-data/sports-video-data/test_images/baseball':\n",
        "        f3='/content/drive/My Drive/Colab Notebooks/Datasets/sports-video-data/sports-video-data/test_images/baseball'+'/'+f\n",
        "        df1_test=pd.DataFrame([[f3,'baseball']],columns=[\"image_path\",\"class\"])\n",
        "        data_test=data_test.append(df1_test)\n",
        "        \n",
        "      elif sub=='/content/drive/My Drive/Colab Notebooks/Datasets/sports-video-data/sports-video-data/test_images/football':\n",
        "        f4= '/content/drive/My Drive/Colab Notebooks/Datasets/sports-video-data/sports-video-data/test_images/football'+'/'+f\n",
        "        df1_test=pd.DataFrame([[f4,'football']],columns=[\"image_path\",\"class\"])\n",
        "        data_test=data_test.append(df1)\n",
        "\n",
        "      elif sub=='/content/drive/My Drive/Colab Notebooks/Datasets/sports-video-data/sports-video-data/test_images/boxing':\n",
        "        f5='/content/drive/My Drive/Colab Notebooks/Datasets/sports-video-data/sports-video-data/test_images/boxing'+'/'+f\n",
        "        df1_test=pd.DataFrame([[f5,'boxing']],columns=[\"image_path\",\"class\"])\n",
        "        data_test=data_test.append(df1)"
      ],
      "metadata": {
        "colab": {
          "base_uri": "https://localhost:8080/"
        },
        "id": "1m6ObX3YovC7",
        "outputId": "56c58de3-1b80-45b5-a6c6-54966954872e"
      },
      "execution_count": null,
      "outputs": [
        {
          "output_type": "stream",
          "name": "stdout",
          "text": [
            "['/content/drive/My Drive/Colab Notebooks/Datasets/sports-video-data/sports-video-data/test_images/baseball', '/content/drive/My Drive/Colab Notebooks/Datasets/sports-video-data/sports-video-data/test_images/football', '/content/drive/My Drive/Colab Notebooks/Datasets/sports-video-data/sports-video-data/test_images/boxing', '/content/drive/My Drive/Colab Notebooks/Datasets/sports-video-data/sports-video-data/test_images/basketball', '/content/drive/My Drive/Colab Notebooks/Datasets/sports-video-data/sports-video-data/test_images/volleyball']\n"
          ]
        }
      ]
    },
    {
      "cell_type": "code",
      "source": [
        "data_test.shape"
      ],
      "metadata": {
        "colab": {
          "base_uri": "https://localhost:8080/"
        },
        "id": "mUc9dwoIpftX",
        "outputId": "32b4fada-52f2-4411-ddc7-48262d0c2daf"
      },
      "execution_count": null,
      "outputs": [
        {
          "output_type": "execute_result",
          "data": {
            "text/plain": [
              "(2398, 2)"
            ]
          },
          "metadata": {},
          "execution_count": 104
        }
      ]
    },
    {
      "cell_type": "code",
      "source": [
        "from sklearn.utils import shuffle\n",
        "data_test = shuffle(data_test)\n",
        "data_test.head()"
      ],
      "metadata": {
        "colab": {
          "base_uri": "https://localhost:8080/",
          "height": 206
        },
        "id": "NQB4wSkPpnFD",
        "outputId": "618796f2-fe8e-47ac-c5c9-895cc972b083"
      },
      "execution_count": null,
      "outputs": [
        {
          "output_type": "execute_result",
          "data": {
            "text/plain": [
              "                                          image_path       class\n",
              "0  /content/drive/My Drive/Colab Notebooks/Datase...    football\n",
              "0  /content/drive/My Drive/Colab Notebooks/Datase...    baseball\n",
              "0  /content/drive/My Drive/Colab Notebooks/Datase...  volleyball\n",
              "0  /content/drive/My Drive/Colab Notebooks/Datase...  volleyball\n",
              "0  /content/drive/My Drive/Colab Notebooks/Datase...  volleyball"
            ],
            "text/html": [
              "\n",
              "  <div id=\"df-4c3ab496-e4dc-49e6-9b75-b7e3bbee85b0\">\n",
              "    <div class=\"colab-df-container\">\n",
              "      <div>\n",
              "<style scoped>\n",
              "    .dataframe tbody tr th:only-of-type {\n",
              "        vertical-align: middle;\n",
              "    }\n",
              "\n",
              "    .dataframe tbody tr th {\n",
              "        vertical-align: top;\n",
              "    }\n",
              "\n",
              "    .dataframe thead th {\n",
              "        text-align: right;\n",
              "    }\n",
              "</style>\n",
              "<table border=\"1\" class=\"dataframe\">\n",
              "  <thead>\n",
              "    <tr style=\"text-align: right;\">\n",
              "      <th></th>\n",
              "      <th>image_path</th>\n",
              "      <th>class</th>\n",
              "    </tr>\n",
              "  </thead>\n",
              "  <tbody>\n",
              "    <tr>\n",
              "      <th>0</th>\n",
              "      <td>/content/drive/My Drive/Colab Notebooks/Datase...</td>\n",
              "      <td>football</td>\n",
              "    </tr>\n",
              "    <tr>\n",
              "      <th>0</th>\n",
              "      <td>/content/drive/My Drive/Colab Notebooks/Datase...</td>\n",
              "      <td>baseball</td>\n",
              "    </tr>\n",
              "    <tr>\n",
              "      <th>0</th>\n",
              "      <td>/content/drive/My Drive/Colab Notebooks/Datase...</td>\n",
              "      <td>volleyball</td>\n",
              "    </tr>\n",
              "    <tr>\n",
              "      <th>0</th>\n",
              "      <td>/content/drive/My Drive/Colab Notebooks/Datase...</td>\n",
              "      <td>volleyball</td>\n",
              "    </tr>\n",
              "    <tr>\n",
              "      <th>0</th>\n",
              "      <td>/content/drive/My Drive/Colab Notebooks/Datase...</td>\n",
              "      <td>volleyball</td>\n",
              "    </tr>\n",
              "  </tbody>\n",
              "</table>\n",
              "</div>\n",
              "      <button class=\"colab-df-convert\" onclick=\"convertToInteractive('df-4c3ab496-e4dc-49e6-9b75-b7e3bbee85b0')\"\n",
              "              title=\"Convert this dataframe to an interactive table.\"\n",
              "              style=\"display:none;\">\n",
              "        \n",
              "  <svg xmlns=\"http://www.w3.org/2000/svg\" height=\"24px\"viewBox=\"0 0 24 24\"\n",
              "       width=\"24px\">\n",
              "    <path d=\"M0 0h24v24H0V0z\" fill=\"none\"/>\n",
              "    <path d=\"M18.56 5.44l.94 2.06.94-2.06 2.06-.94-2.06-.94-.94-2.06-.94 2.06-2.06.94zm-11 1L8.5 8.5l.94-2.06 2.06-.94-2.06-.94L8.5 2.5l-.94 2.06-2.06.94zm10 10l.94 2.06.94-2.06 2.06-.94-2.06-.94-.94-2.06-.94 2.06-2.06.94z\"/><path d=\"M17.41 7.96l-1.37-1.37c-.4-.4-.92-.59-1.43-.59-.52 0-1.04.2-1.43.59L10.3 9.45l-7.72 7.72c-.78.78-.78 2.05 0 2.83L4 21.41c.39.39.9.59 1.41.59.51 0 1.02-.2 1.41-.59l7.78-7.78 2.81-2.81c.8-.78.8-2.07 0-2.86zM5.41 20L4 18.59l7.72-7.72 1.47 1.35L5.41 20z\"/>\n",
              "  </svg>\n",
              "      </button>\n",
              "      \n",
              "  <style>\n",
              "    .colab-df-container {\n",
              "      display:flex;\n",
              "      flex-wrap:wrap;\n",
              "      gap: 12px;\n",
              "    }\n",
              "\n",
              "    .colab-df-convert {\n",
              "      background-color: #E8F0FE;\n",
              "      border: none;\n",
              "      border-radius: 50%;\n",
              "      cursor: pointer;\n",
              "      display: none;\n",
              "      fill: #1967D2;\n",
              "      height: 32px;\n",
              "      padding: 0 0 0 0;\n",
              "      width: 32px;\n",
              "    }\n",
              "\n",
              "    .colab-df-convert:hover {\n",
              "      background-color: #E2EBFA;\n",
              "      box-shadow: 0px 1px 2px rgba(60, 64, 67, 0.3), 0px 1px 3px 1px rgba(60, 64, 67, 0.15);\n",
              "      fill: #174EA6;\n",
              "    }\n",
              "\n",
              "    [theme=dark] .colab-df-convert {\n",
              "      background-color: #3B4455;\n",
              "      fill: #D2E3FC;\n",
              "    }\n",
              "\n",
              "    [theme=dark] .colab-df-convert:hover {\n",
              "      background-color: #434B5C;\n",
              "      box-shadow: 0px 1px 3px 1px rgba(0, 0, 0, 0.15);\n",
              "      filter: drop-shadow(0px 1px 2px rgba(0, 0, 0, 0.3));\n",
              "      fill: #FFFFFF;\n",
              "    }\n",
              "  </style>\n",
              "\n",
              "      <script>\n",
              "        const buttonEl =\n",
              "          document.querySelector('#df-4c3ab496-e4dc-49e6-9b75-b7e3bbee85b0 button.colab-df-convert');\n",
              "        buttonEl.style.display =\n",
              "          google.colab.kernel.accessAllowed ? 'block' : 'none';\n",
              "\n",
              "        async function convertToInteractive(key) {\n",
              "          const element = document.querySelector('#df-4c3ab496-e4dc-49e6-9b75-b7e3bbee85b0');\n",
              "          const dataTable =\n",
              "            await google.colab.kernel.invokeFunction('convertToInteractive',\n",
              "                                                     [key], {});\n",
              "          if (!dataTable) return;\n",
              "\n",
              "          const docLinkHtml = 'Like what you see? Visit the ' +\n",
              "            '<a target=\"_blank\" href=https://colab.research.google.com/notebooks/data_table.ipynb>data table notebook</a>'\n",
              "            + ' to learn more about interactive tables.';\n",
              "          element.innerHTML = '';\n",
              "          dataTable['output_type'] = 'display_data';\n",
              "          await google.colab.output.renderOutput(dataTable, element);\n",
              "          const docLink = document.createElement('div');\n",
              "          docLink.innerHTML = docLinkHtml;\n",
              "          element.appendChild(docLink);\n",
              "        }\n",
              "      </script>\n",
              "    </div>\n",
              "  </div>\n",
              "  "
            ]
          },
          "metadata": {},
          "execution_count": 105
        }
      ]
    },
    {
      "cell_type": "code",
      "source": [
        "data_test['class'].replace(['volleyball', 'basketball','baseball','football','boxing'],\n",
        "                        [0, 1,2,3,4], inplace=True)\n",
        "data_test.head()"
      ],
      "metadata": {
        "colab": {
          "base_uri": "https://localhost:8080/",
          "height": 206
        },
        "id": "XJXfaEAfptRL",
        "outputId": "46c1a9f5-c050-4534-85f8-37c3a2cee66d"
      },
      "execution_count": null,
      "outputs": [
        {
          "output_type": "execute_result",
          "data": {
            "text/plain": [
              "                                          image_path  class\n",
              "0  /content/drive/My Drive/Colab Notebooks/Datase...      3\n",
              "0  /content/drive/My Drive/Colab Notebooks/Datase...      2\n",
              "0  /content/drive/My Drive/Colab Notebooks/Datase...      0\n",
              "0  /content/drive/My Drive/Colab Notebooks/Datase...      0\n",
              "0  /content/drive/My Drive/Colab Notebooks/Datase...      0"
            ],
            "text/html": [
              "\n",
              "  <div id=\"df-51ea4266-0074-4092-b535-2059eee34bde\">\n",
              "    <div class=\"colab-df-container\">\n",
              "      <div>\n",
              "<style scoped>\n",
              "    .dataframe tbody tr th:only-of-type {\n",
              "        vertical-align: middle;\n",
              "    }\n",
              "\n",
              "    .dataframe tbody tr th {\n",
              "        vertical-align: top;\n",
              "    }\n",
              "\n",
              "    .dataframe thead th {\n",
              "        text-align: right;\n",
              "    }\n",
              "</style>\n",
              "<table border=\"1\" class=\"dataframe\">\n",
              "  <thead>\n",
              "    <tr style=\"text-align: right;\">\n",
              "      <th></th>\n",
              "      <th>image_path</th>\n",
              "      <th>class</th>\n",
              "    </tr>\n",
              "  </thead>\n",
              "  <tbody>\n",
              "    <tr>\n",
              "      <th>0</th>\n",
              "      <td>/content/drive/My Drive/Colab Notebooks/Datase...</td>\n",
              "      <td>3</td>\n",
              "    </tr>\n",
              "    <tr>\n",
              "      <th>0</th>\n",
              "      <td>/content/drive/My Drive/Colab Notebooks/Datase...</td>\n",
              "      <td>2</td>\n",
              "    </tr>\n",
              "    <tr>\n",
              "      <th>0</th>\n",
              "      <td>/content/drive/My Drive/Colab Notebooks/Datase...</td>\n",
              "      <td>0</td>\n",
              "    </tr>\n",
              "    <tr>\n",
              "      <th>0</th>\n",
              "      <td>/content/drive/My Drive/Colab Notebooks/Datase...</td>\n",
              "      <td>0</td>\n",
              "    </tr>\n",
              "    <tr>\n",
              "      <th>0</th>\n",
              "      <td>/content/drive/My Drive/Colab Notebooks/Datase...</td>\n",
              "      <td>0</td>\n",
              "    </tr>\n",
              "  </tbody>\n",
              "</table>\n",
              "</div>\n",
              "      <button class=\"colab-df-convert\" onclick=\"convertToInteractive('df-51ea4266-0074-4092-b535-2059eee34bde')\"\n",
              "              title=\"Convert this dataframe to an interactive table.\"\n",
              "              style=\"display:none;\">\n",
              "        \n",
              "  <svg xmlns=\"http://www.w3.org/2000/svg\" height=\"24px\"viewBox=\"0 0 24 24\"\n",
              "       width=\"24px\">\n",
              "    <path d=\"M0 0h24v24H0V0z\" fill=\"none\"/>\n",
              "    <path d=\"M18.56 5.44l.94 2.06.94-2.06 2.06-.94-2.06-.94-.94-2.06-.94 2.06-2.06.94zm-11 1L8.5 8.5l.94-2.06 2.06-.94-2.06-.94L8.5 2.5l-.94 2.06-2.06.94zm10 10l.94 2.06.94-2.06 2.06-.94-2.06-.94-.94-2.06-.94 2.06-2.06.94z\"/><path d=\"M17.41 7.96l-1.37-1.37c-.4-.4-.92-.59-1.43-.59-.52 0-1.04.2-1.43.59L10.3 9.45l-7.72 7.72c-.78.78-.78 2.05 0 2.83L4 21.41c.39.39.9.59 1.41.59.51 0 1.02-.2 1.41-.59l7.78-7.78 2.81-2.81c.8-.78.8-2.07 0-2.86zM5.41 20L4 18.59l7.72-7.72 1.47 1.35L5.41 20z\"/>\n",
              "  </svg>\n",
              "      </button>\n",
              "      \n",
              "  <style>\n",
              "    .colab-df-container {\n",
              "      display:flex;\n",
              "      flex-wrap:wrap;\n",
              "      gap: 12px;\n",
              "    }\n",
              "\n",
              "    .colab-df-convert {\n",
              "      background-color: #E8F0FE;\n",
              "      border: none;\n",
              "      border-radius: 50%;\n",
              "      cursor: pointer;\n",
              "      display: none;\n",
              "      fill: #1967D2;\n",
              "      height: 32px;\n",
              "      padding: 0 0 0 0;\n",
              "      width: 32px;\n",
              "    }\n",
              "\n",
              "    .colab-df-convert:hover {\n",
              "      background-color: #E2EBFA;\n",
              "      box-shadow: 0px 1px 2px rgba(60, 64, 67, 0.3), 0px 1px 3px 1px rgba(60, 64, 67, 0.15);\n",
              "      fill: #174EA6;\n",
              "    }\n",
              "\n",
              "    [theme=dark] .colab-df-convert {\n",
              "      background-color: #3B4455;\n",
              "      fill: #D2E3FC;\n",
              "    }\n",
              "\n",
              "    [theme=dark] .colab-df-convert:hover {\n",
              "      background-color: #434B5C;\n",
              "      box-shadow: 0px 1px 3px 1px rgba(0, 0, 0, 0.15);\n",
              "      filter: drop-shadow(0px 1px 2px rgba(0, 0, 0, 0.3));\n",
              "      fill: #FFFFFF;\n",
              "    }\n",
              "  </style>\n",
              "\n",
              "      <script>\n",
              "        const buttonEl =\n",
              "          document.querySelector('#df-51ea4266-0074-4092-b535-2059eee34bde button.colab-df-convert');\n",
              "        buttonEl.style.display =\n",
              "          google.colab.kernel.accessAllowed ? 'block' : 'none';\n",
              "\n",
              "        async function convertToInteractive(key) {\n",
              "          const element = document.querySelector('#df-51ea4266-0074-4092-b535-2059eee34bde');\n",
              "          const dataTable =\n",
              "            await google.colab.kernel.invokeFunction('convertToInteractive',\n",
              "                                                     [key], {});\n",
              "          if (!dataTable) return;\n",
              "\n",
              "          const docLinkHtml = 'Like what you see? Visit the ' +\n",
              "            '<a target=\"_blank\" href=https://colab.research.google.com/notebooks/data_table.ipynb>data table notebook</a>'\n",
              "            + ' to learn more about interactive tables.';\n",
              "          element.innerHTML = '';\n",
              "          dataTable['output_type'] = 'display_data';\n",
              "          await google.colab.output.renderOutput(dataTable, element);\n",
              "          const docLink = document.createElement('div');\n",
              "          docLink.innerHTML = docLinkHtml;\n",
              "          element.appendChild(docLink);\n",
              "        }\n",
              "      </script>\n",
              "    </div>\n",
              "  </div>\n",
              "  "
            ]
          },
          "metadata": {},
          "execution_count": 106
        }
      ]
    },
    {
      "cell_type": "code",
      "source": [
        "test_imgs = data_test['image_path'].tolist()\n",
        "test_labels = data_test['class'].tolist()"
      ],
      "metadata": {
        "id": "vjzAlG8Zp3QU"
      },
      "execution_count": null,
      "outputs": []
    },
    {
      "cell_type": "code",
      "source": [
        "X_test, Y_test = read_and_process_image(test_imgs, test_labels)\n",
        "\n",
        "X_test = np.array(X_test)\n",
        "Y_test = np.array(Y_test)\n",
        "\n",
        "print('Shape of image is: {}'.format(X_test.shape))\n",
        "print('Shape of labels is: {}'.format(Y_test.shape))\n"
      ],
      "metadata": {
        "colab": {
          "base_uri": "https://localhost:8080/"
        },
        "id": "lKlI3T5uqAFr",
        "outputId": "3ba4ca74-99fe-44ad-d789-102967db765b"
      },
      "execution_count": null,
      "outputs": [
        {
          "output_type": "stream",
          "name": "stdout",
          "text": [
            "0\n",
            "1000\n",
            "2000\n",
            "Shape of image is: (2398, 64, 64, 3)\n",
            "Shape of labels is: (2398, 5)\n"
          ]
        }
      ]
    },
    {
      "cell_type": "code",
      "source": [
        "test_datagen = X_test/255.0"
      ],
      "metadata": {
        "id": "KGu-0cA_wzix"
      },
      "execution_count": null,
      "outputs": []
    },
    {
      "cell_type": "code",
      "source": [
        "prediction = model.predict(test_datagen)\n",
        "#print(prediction)\n",
        "pred=np.argmax(prediction,axis=1)\n",
        "print(pred)"
      ],
      "metadata": {
        "colab": {
          "base_uri": "https://localhost:8080/"
        },
        "id": "MRaLTytsqfJb",
        "outputId": "0bb3b0a2-f682-4f7c-d6ae-d651cafeaaca"
      },
      "execution_count": null,
      "outputs": [
        {
          "output_type": "stream",
          "name": "stdout",
          "text": [
            "[3 2 0 ... 3 0 0]\n"
          ]
        }
      ]
    },
    {
      "cell_type": "code",
      "source": [
        "Y_test\n",
        "true=np.argmax(Y_test,axis=1)"
      ],
      "metadata": {
        "id": "6VSqDK_jr0CT"
      },
      "execution_count": null,
      "outputs": []
    },
    {
      "cell_type": "code",
      "source": [
        "true"
      ],
      "metadata": {
        "colab": {
          "base_uri": "https://localhost:8080/"
        },
        "id": "HcZGHdxjwV2q",
        "outputId": "40001168-c03b-4454-85b1-229dd14cd0b2"
      },
      "execution_count": null,
      "outputs": [
        {
          "output_type": "execute_result",
          "data": {
            "text/plain": [
              "array([3, 2, 0, ..., 3, 0, 0])"
            ]
          },
          "metadata": {},
          "execution_count": 126
        }
      ]
    },
    {
      "cell_type": "code",
      "source": [
        "correct = (true == pred)\n",
        "accuracy = correct.sum() / correct.size"
      ],
      "metadata": {
        "id": "u4F1wYxbsTT6"
      },
      "execution_count": null,
      "outputs": []
    },
    {
      "cell_type": "code",
      "source": [
        "accuracy"
      ],
      "metadata": {
        "colab": {
          "base_uri": "https://localhost:8080/"
        },
        "id": "oGudmw_YwmiS",
        "outputId": "768eda67-b6bc-4c0b-ff26-2f6dbb9817eb"
      },
      "execution_count": null,
      "outputs": [
        {
          "output_type": "execute_result",
          "data": {
            "text/plain": [
              "0.9174311926605505"
            ]
          },
          "metadata": {},
          "execution_count": 134
        }
      ]
    },
    {
      "cell_type": "markdown",
      "source": [
        "**We get a test accuracy of approximately 92 % !!!**"
      ],
      "metadata": {
        "id": "cN64vibcyVNg"
      }
    },
    {
      "cell_type": "code",
      "source": [
        "dir = r'/content/drive/My Drive/Colab Notebooks/Datasets/sports-video-data/sports-video-data/ext_img'"
      ],
      "metadata": {
        "id": "V1hgDJIn1IwS"
      },
      "execution_count": null,
      "outputs": []
    },
    {
      "cell_type": "code",
      "source": [
        "import cv2\n",
        "def getFrame(sec):\n",
        "  vidcap.set(cv2.CAP_PROP_POS_MSEC,sec*1000)\n",
        "  hasFrames,image = vidcap.read()\n",
        "  if hasFrames:\n",
        "    cv2.imwrite(f+\"image\"+str(count)+\".jpg\", image)     # save frame as JPG file\n",
        "  return hasFrames\n",
        "folder = r\"/content/drive/My Drive/Colab Notebooks/Datasets/sports-video-data/sports-video-data/test_videos\"\n",
        "for f in os.listdir(folder):\n",
        "  print(f)\n",
        "  vidcap = cv2.VideoCapture(f)\n",
        "  sec = 0\n",
        "  frameRate = 1 #//it will capture image in each 0.5 second\n",
        "  count=1\n",
        "  success = getFrame(sec)\n",
        "  while success:\n",
        "    count = count + 1\n",
        "    sec = sec + frameRate\n",
        "    sec = round(sec, 2)\n",
        "    success = getFrame(sec)"
      ],
      "metadata": {
        "colab": {
          "base_uri": "https://localhost:8080/"
        },
        "id": "G4sxGV8kyecA",
        "outputId": "fee9e6c6-7f13-4fcc-c5df-06b38f866080"
      },
      "execution_count": null,
      "outputs": [
        {
          "output_type": "stream",
          "name": "stdout",
          "text": [
            "basketball_1.mp4\n",
            "baseball_1.mp4\n",
            "basketball_2.mp4\n",
            "baseball_2.mp4\n",
            "boxing_1.mp4\n",
            "boxing_2.mp4\n",
            "volleyball_1.mp4\n",
            "volleyball_2.mp4\n",
            "football_2.mp4\n",
            "football_1.mp4\n"
          ]
        }
      ]
    },
    {
      "cell_type": "code",
      "source": [
        ""
      ],
      "metadata": {
        "id": "QsP-m5BgAqfk"
      },
      "execution_count": null,
      "outputs": []
    },
    {
      "cell_type": "markdown",
      "source": [
        "We now predict the accuracy for extracted images"
      ],
      "metadata": {
        "id": "9X5fz8H6Arnk"
      }
    },
    {
      "cell_type": "code",
      "source": [
        "folder = r\"/content/drive/My Drive/Colab Notebooks/Datasets/sports-video-data/sports-video-data/ext_img\"\n",
        "subfolders = [f.path for f in os.scandir(folder) if f.is_dir()]\n",
        "data_test=pd.DataFrame(columns=[\"image_path\",\"class\"])\n",
        "print(subfolders)\n",
        "for sub in subfolders:\n",
        "    for f in os.listdir(sub):\n",
        "      if sub=='/content/drive/My Drive/Colab Notebooks/Datasets/sports-video-data/sports-video-data/ext_img/volleyball':\n",
        "        f1='/content/drive/My Drive/Colab Notebooks/Datasets/sports-video-data/sports-video-data/ext_img/volleyball'+'/'+f\n",
        "        df1_test=pd.DataFrame([[f1,'volleyball']],columns=[\"image_path\",\"class\"])\n",
        "        data_test=data_test.append(df1_test)\n",
        "\n",
        "      elif sub=='/content/drive/My Drive/Colab Notebooks/Datasets/sports-video-data/sports-video-data/ext_img/basketball':\n",
        "        f2='/content/drive/My Drive/Colab Notebooks/Datasets/sports-video-data/sports-video-data/ext_img/basketball'+'/'+f\n",
        "        df1_test=pd.DataFrame([[f2,'basketball']],columns=[\"image_path\",\"class\"])\n",
        "        data_test=data_test.append(df1)\n",
        "\n",
        "      elif sub=='/content/drive/My Drive/Colab Notebooks/Datasets/sports-video-data/sports-video-data/ext_img/baseball':\n",
        "        f3='/content/drive/My Drive/Colab Notebooks/Datasets/sports-video-data/sports-video-data/ext_img/baseball'+'/'+f\n",
        "        df1_test=pd.DataFrame([[f3,'baseball']],columns=[\"image_path\",\"class\"])\n",
        "        data_test=data_test.append(df1_test)\n",
        "        \n",
        "      elif sub=='/content/drive/My Drive/Colab Notebooks/Datasets/sports-video-data/sports-video-data/ext_img/football':\n",
        "        f4= '/content/drive/My Drive/Colab Notebooks/Datasets/sports-video-data/sports-video-data/ext_img/football'+'/'+f\n",
        "        df1_test=pd.DataFrame([[f4,'football']],columns=[\"image_path\",\"class\"])\n",
        "        data_test=data_test.append(df1)\n",
        "\n",
        "      elif sub=='/content/drive/My Drive/Colab Notebooks/Datasets/sports-video-data/sports-video-data/ext_img/boxing':\n",
        "        f5='/content/drive/My Drive/Colab Notebooks/Datasets/sports-video-data/sports-video-data/ext_img/boxing'+'/'+f\n",
        "        df1_test=pd.DataFrame([[f5,'boxing']],columns=[\"image_path\",\"class\"])\n",
        "        data_test=data_test.append(df1)"
      ],
      "metadata": {
        "colab": {
          "base_uri": "https://localhost:8080/"
        },
        "id": "OsL41-siAvQk",
        "outputId": "33af650c-bb1f-4ffb-9a95-5884a2ee717e"
      },
      "execution_count": null,
      "outputs": [
        {
          "output_type": "stream",
          "name": "stdout",
          "text": [
            "['/content/drive/My Drive/Colab Notebooks/Datasets/sports-video-data/sports-video-data/ext_img/baseball', '/content/drive/My Drive/Colab Notebooks/Datasets/sports-video-data/sports-video-data/ext_img/basketball', '/content/drive/My Drive/Colab Notebooks/Datasets/sports-video-data/sports-video-data/ext_img/boxing', '/content/drive/My Drive/Colab Notebooks/Datasets/sports-video-data/sports-video-data/ext_img/volleyball', '/content/drive/My Drive/Colab Notebooks/Datasets/sports-video-data/sports-video-data/ext_img/football']\n"
          ]
        }
      ]
    },
    {
      "cell_type": "code",
      "source": [
        "from sklearn.utils import shuffle\n",
        "data_test = shuffle(data_test)\n",
        "data_test.head()"
      ],
      "metadata": {
        "colab": {
          "base_uri": "https://localhost:8080/",
          "height": 206
        },
        "id": "jh0Cjiw-BNa9",
        "outputId": "595db569-130b-42c6-934e-b4f4ad1d15c1"
      },
      "execution_count": null,
      "outputs": [
        {
          "output_type": "execute_result",
          "data": {
            "text/plain": [
              "                                          image_path       class\n",
              "0  /content/drive/My Drive/Colab Notebooks/Datase...    football\n",
              "0  /content/drive/My Drive/Colab Notebooks/Datase...    football\n",
              "0  /content/drive/My Drive/Colab Notebooks/Datase...    football\n",
              "0  /content/drive/My Drive/Colab Notebooks/Datase...  volleyball\n",
              "0  /content/drive/My Drive/Colab Notebooks/Datase...    football"
            ],
            "text/html": [
              "\n",
              "  <div id=\"df-27f872ad-fc27-4d52-8fbb-9236eb6e7e68\">\n",
              "    <div class=\"colab-df-container\">\n",
              "      <div>\n",
              "<style scoped>\n",
              "    .dataframe tbody tr th:only-of-type {\n",
              "        vertical-align: middle;\n",
              "    }\n",
              "\n",
              "    .dataframe tbody tr th {\n",
              "        vertical-align: top;\n",
              "    }\n",
              "\n",
              "    .dataframe thead th {\n",
              "        text-align: right;\n",
              "    }\n",
              "</style>\n",
              "<table border=\"1\" class=\"dataframe\">\n",
              "  <thead>\n",
              "    <tr style=\"text-align: right;\">\n",
              "      <th></th>\n",
              "      <th>image_path</th>\n",
              "      <th>class</th>\n",
              "    </tr>\n",
              "  </thead>\n",
              "  <tbody>\n",
              "    <tr>\n",
              "      <th>0</th>\n",
              "      <td>/content/drive/My Drive/Colab Notebooks/Datase...</td>\n",
              "      <td>football</td>\n",
              "    </tr>\n",
              "    <tr>\n",
              "      <th>0</th>\n",
              "      <td>/content/drive/My Drive/Colab Notebooks/Datase...</td>\n",
              "      <td>football</td>\n",
              "    </tr>\n",
              "    <tr>\n",
              "      <th>0</th>\n",
              "      <td>/content/drive/My Drive/Colab Notebooks/Datase...</td>\n",
              "      <td>football</td>\n",
              "    </tr>\n",
              "    <tr>\n",
              "      <th>0</th>\n",
              "      <td>/content/drive/My Drive/Colab Notebooks/Datase...</td>\n",
              "      <td>volleyball</td>\n",
              "    </tr>\n",
              "    <tr>\n",
              "      <th>0</th>\n",
              "      <td>/content/drive/My Drive/Colab Notebooks/Datase...</td>\n",
              "      <td>football</td>\n",
              "    </tr>\n",
              "  </tbody>\n",
              "</table>\n",
              "</div>\n",
              "      <button class=\"colab-df-convert\" onclick=\"convertToInteractive('df-27f872ad-fc27-4d52-8fbb-9236eb6e7e68')\"\n",
              "              title=\"Convert this dataframe to an interactive table.\"\n",
              "              style=\"display:none;\">\n",
              "        \n",
              "  <svg xmlns=\"http://www.w3.org/2000/svg\" height=\"24px\"viewBox=\"0 0 24 24\"\n",
              "       width=\"24px\">\n",
              "    <path d=\"M0 0h24v24H0V0z\" fill=\"none\"/>\n",
              "    <path d=\"M18.56 5.44l.94 2.06.94-2.06 2.06-.94-2.06-.94-.94-2.06-.94 2.06-2.06.94zm-11 1L8.5 8.5l.94-2.06 2.06-.94-2.06-.94L8.5 2.5l-.94 2.06-2.06.94zm10 10l.94 2.06.94-2.06 2.06-.94-2.06-.94-.94-2.06-.94 2.06-2.06.94z\"/><path d=\"M17.41 7.96l-1.37-1.37c-.4-.4-.92-.59-1.43-.59-.52 0-1.04.2-1.43.59L10.3 9.45l-7.72 7.72c-.78.78-.78 2.05 0 2.83L4 21.41c.39.39.9.59 1.41.59.51 0 1.02-.2 1.41-.59l7.78-7.78 2.81-2.81c.8-.78.8-2.07 0-2.86zM5.41 20L4 18.59l7.72-7.72 1.47 1.35L5.41 20z\"/>\n",
              "  </svg>\n",
              "      </button>\n",
              "      \n",
              "  <style>\n",
              "    .colab-df-container {\n",
              "      display:flex;\n",
              "      flex-wrap:wrap;\n",
              "      gap: 12px;\n",
              "    }\n",
              "\n",
              "    .colab-df-convert {\n",
              "      background-color: #E8F0FE;\n",
              "      border: none;\n",
              "      border-radius: 50%;\n",
              "      cursor: pointer;\n",
              "      display: none;\n",
              "      fill: #1967D2;\n",
              "      height: 32px;\n",
              "      padding: 0 0 0 0;\n",
              "      width: 32px;\n",
              "    }\n",
              "\n",
              "    .colab-df-convert:hover {\n",
              "      background-color: #E2EBFA;\n",
              "      box-shadow: 0px 1px 2px rgba(60, 64, 67, 0.3), 0px 1px 3px 1px rgba(60, 64, 67, 0.15);\n",
              "      fill: #174EA6;\n",
              "    }\n",
              "\n",
              "    [theme=dark] .colab-df-convert {\n",
              "      background-color: #3B4455;\n",
              "      fill: #D2E3FC;\n",
              "    }\n",
              "\n",
              "    [theme=dark] .colab-df-convert:hover {\n",
              "      background-color: #434B5C;\n",
              "      box-shadow: 0px 1px 3px 1px rgba(0, 0, 0, 0.15);\n",
              "      filter: drop-shadow(0px 1px 2px rgba(0, 0, 0, 0.3));\n",
              "      fill: #FFFFFF;\n",
              "    }\n",
              "  </style>\n",
              "\n",
              "      <script>\n",
              "        const buttonEl =\n",
              "          document.querySelector('#df-27f872ad-fc27-4d52-8fbb-9236eb6e7e68 button.colab-df-convert');\n",
              "        buttonEl.style.display =\n",
              "          google.colab.kernel.accessAllowed ? 'block' : 'none';\n",
              "\n",
              "        async function convertToInteractive(key) {\n",
              "          const element = document.querySelector('#df-27f872ad-fc27-4d52-8fbb-9236eb6e7e68');\n",
              "          const dataTable =\n",
              "            await google.colab.kernel.invokeFunction('convertToInteractive',\n",
              "                                                     [key], {});\n",
              "          if (!dataTable) return;\n",
              "\n",
              "          const docLinkHtml = 'Like what you see? Visit the ' +\n",
              "            '<a target=\"_blank\" href=https://colab.research.google.com/notebooks/data_table.ipynb>data table notebook</a>'\n",
              "            + ' to learn more about interactive tables.';\n",
              "          element.innerHTML = '';\n",
              "          dataTable['output_type'] = 'display_data';\n",
              "          await google.colab.output.renderOutput(dataTable, element);\n",
              "          const docLink = document.createElement('div');\n",
              "          docLink.innerHTML = docLinkHtml;\n",
              "          element.appendChild(docLink);\n",
              "        }\n",
              "      </script>\n",
              "    </div>\n",
              "  </div>\n",
              "  "
            ]
          },
          "metadata": {},
          "execution_count": 148
        }
      ]
    },
    {
      "cell_type": "code",
      "source": [
        "data_test['class'].replace(['volleyball', 'basketball','baseball','football','boxing'],\n",
        "                        [0, 1,2,3,4], inplace=True)\n",
        "data_test.head()"
      ],
      "metadata": {
        "colab": {
          "base_uri": "https://localhost:8080/",
          "height": 206
        },
        "id": "lfgm9NF8BN6H",
        "outputId": "d1fc9288-fd82-413f-e844-3b4a1bd4b8f6"
      },
      "execution_count": null,
      "outputs": [
        {
          "output_type": "execute_result",
          "data": {
            "text/plain": [
              "                                          image_path  class\n",
              "0  /content/drive/My Drive/Colab Notebooks/Datase...      3\n",
              "0  /content/drive/My Drive/Colab Notebooks/Datase...      3\n",
              "0  /content/drive/My Drive/Colab Notebooks/Datase...      3\n",
              "0  /content/drive/My Drive/Colab Notebooks/Datase...      0\n",
              "0  /content/drive/My Drive/Colab Notebooks/Datase...      3"
            ],
            "text/html": [
              "\n",
              "  <div id=\"df-3362c957-fba9-4c07-87de-8f681798eaf7\">\n",
              "    <div class=\"colab-df-container\">\n",
              "      <div>\n",
              "<style scoped>\n",
              "    .dataframe tbody tr th:only-of-type {\n",
              "        vertical-align: middle;\n",
              "    }\n",
              "\n",
              "    .dataframe tbody tr th {\n",
              "        vertical-align: top;\n",
              "    }\n",
              "\n",
              "    .dataframe thead th {\n",
              "        text-align: right;\n",
              "    }\n",
              "</style>\n",
              "<table border=\"1\" class=\"dataframe\">\n",
              "  <thead>\n",
              "    <tr style=\"text-align: right;\">\n",
              "      <th></th>\n",
              "      <th>image_path</th>\n",
              "      <th>class</th>\n",
              "    </tr>\n",
              "  </thead>\n",
              "  <tbody>\n",
              "    <tr>\n",
              "      <th>0</th>\n",
              "      <td>/content/drive/My Drive/Colab Notebooks/Datase...</td>\n",
              "      <td>3</td>\n",
              "    </tr>\n",
              "    <tr>\n",
              "      <th>0</th>\n",
              "      <td>/content/drive/My Drive/Colab Notebooks/Datase...</td>\n",
              "      <td>3</td>\n",
              "    </tr>\n",
              "    <tr>\n",
              "      <th>0</th>\n",
              "      <td>/content/drive/My Drive/Colab Notebooks/Datase...</td>\n",
              "      <td>3</td>\n",
              "    </tr>\n",
              "    <tr>\n",
              "      <th>0</th>\n",
              "      <td>/content/drive/My Drive/Colab Notebooks/Datase...</td>\n",
              "      <td>0</td>\n",
              "    </tr>\n",
              "    <tr>\n",
              "      <th>0</th>\n",
              "      <td>/content/drive/My Drive/Colab Notebooks/Datase...</td>\n",
              "      <td>3</td>\n",
              "    </tr>\n",
              "  </tbody>\n",
              "</table>\n",
              "</div>\n",
              "      <button class=\"colab-df-convert\" onclick=\"convertToInteractive('df-3362c957-fba9-4c07-87de-8f681798eaf7')\"\n",
              "              title=\"Convert this dataframe to an interactive table.\"\n",
              "              style=\"display:none;\">\n",
              "        \n",
              "  <svg xmlns=\"http://www.w3.org/2000/svg\" height=\"24px\"viewBox=\"0 0 24 24\"\n",
              "       width=\"24px\">\n",
              "    <path d=\"M0 0h24v24H0V0z\" fill=\"none\"/>\n",
              "    <path d=\"M18.56 5.44l.94 2.06.94-2.06 2.06-.94-2.06-.94-.94-2.06-.94 2.06-2.06.94zm-11 1L8.5 8.5l.94-2.06 2.06-.94-2.06-.94L8.5 2.5l-.94 2.06-2.06.94zm10 10l.94 2.06.94-2.06 2.06-.94-2.06-.94-.94-2.06-.94 2.06-2.06.94z\"/><path d=\"M17.41 7.96l-1.37-1.37c-.4-.4-.92-.59-1.43-.59-.52 0-1.04.2-1.43.59L10.3 9.45l-7.72 7.72c-.78.78-.78 2.05 0 2.83L4 21.41c.39.39.9.59 1.41.59.51 0 1.02-.2 1.41-.59l7.78-7.78 2.81-2.81c.8-.78.8-2.07 0-2.86zM5.41 20L4 18.59l7.72-7.72 1.47 1.35L5.41 20z\"/>\n",
              "  </svg>\n",
              "      </button>\n",
              "      \n",
              "  <style>\n",
              "    .colab-df-container {\n",
              "      display:flex;\n",
              "      flex-wrap:wrap;\n",
              "      gap: 12px;\n",
              "    }\n",
              "\n",
              "    .colab-df-convert {\n",
              "      background-color: #E8F0FE;\n",
              "      border: none;\n",
              "      border-radius: 50%;\n",
              "      cursor: pointer;\n",
              "      display: none;\n",
              "      fill: #1967D2;\n",
              "      height: 32px;\n",
              "      padding: 0 0 0 0;\n",
              "      width: 32px;\n",
              "    }\n",
              "\n",
              "    .colab-df-convert:hover {\n",
              "      background-color: #E2EBFA;\n",
              "      box-shadow: 0px 1px 2px rgba(60, 64, 67, 0.3), 0px 1px 3px 1px rgba(60, 64, 67, 0.15);\n",
              "      fill: #174EA6;\n",
              "    }\n",
              "\n",
              "    [theme=dark] .colab-df-convert {\n",
              "      background-color: #3B4455;\n",
              "      fill: #D2E3FC;\n",
              "    }\n",
              "\n",
              "    [theme=dark] .colab-df-convert:hover {\n",
              "      background-color: #434B5C;\n",
              "      box-shadow: 0px 1px 3px 1px rgba(0, 0, 0, 0.15);\n",
              "      filter: drop-shadow(0px 1px 2px rgba(0, 0, 0, 0.3));\n",
              "      fill: #FFFFFF;\n",
              "    }\n",
              "  </style>\n",
              "\n",
              "      <script>\n",
              "        const buttonEl =\n",
              "          document.querySelector('#df-3362c957-fba9-4c07-87de-8f681798eaf7 button.colab-df-convert');\n",
              "        buttonEl.style.display =\n",
              "          google.colab.kernel.accessAllowed ? 'block' : 'none';\n",
              "\n",
              "        async function convertToInteractive(key) {\n",
              "          const element = document.querySelector('#df-3362c957-fba9-4c07-87de-8f681798eaf7');\n",
              "          const dataTable =\n",
              "            await google.colab.kernel.invokeFunction('convertToInteractive',\n",
              "                                                     [key], {});\n",
              "          if (!dataTable) return;\n",
              "\n",
              "          const docLinkHtml = 'Like what you see? Visit the ' +\n",
              "            '<a target=\"_blank\" href=https://colab.research.google.com/notebooks/data_table.ipynb>data table notebook</a>'\n",
              "            + ' to learn more about interactive tables.';\n",
              "          element.innerHTML = '';\n",
              "          dataTable['output_type'] = 'display_data';\n",
              "          await google.colab.output.renderOutput(dataTable, element);\n",
              "          const docLink = document.createElement('div');\n",
              "          docLink.innerHTML = docLinkHtml;\n",
              "          element.appendChild(docLink);\n",
              "        }\n",
              "      </script>\n",
              "    </div>\n",
              "  </div>\n",
              "  "
            ]
          },
          "metadata": {},
          "execution_count": 149
        }
      ]
    },
    {
      "cell_type": "code",
      "source": [
        "test_imgs = data_test['image_path'].tolist()\n",
        "test_labels = data_test['class'].tolist()"
      ],
      "metadata": {
        "id": "8zoVf3H9BRQ9"
      },
      "execution_count": null,
      "outputs": []
    },
    {
      "cell_type": "code",
      "source": [
        "X_test, Y_test = read_and_process_image(test_imgs, test_labels)\n",
        "\n",
        "X_test = np.array(X_test)\n",
        "Y_test = np.array(Y_test)\n",
        "\n",
        "print('Shape of image is: {}'.format(X_test.shape))\n",
        "print('Shape of labels is: {}'.format(Y_test.shape))"
      ],
      "metadata": {
        "colab": {
          "base_uri": "https://localhost:8080/"
        },
        "id": "23svM7BqBT4V",
        "outputId": "0957d89d-ffb2-45bc-9501-c5b47a9077c1"
      },
      "execution_count": null,
      "outputs": [
        {
          "output_type": "stream",
          "name": "stdout",
          "text": [
            "0\n",
            "Shape of image is: (109, 64, 64, 3)\n",
            "Shape of labels is: (109, 5)\n"
          ]
        }
      ]
    },
    {
      "cell_type": "code",
      "source": [
        "test_datagen = X_test/255.0"
      ],
      "metadata": {
        "id": "_ggnzaR5BXsl"
      },
      "execution_count": null,
      "outputs": []
    },
    {
      "cell_type": "code",
      "source": [
        "prediction = model.predict(test_datagen)\n",
        "#print(prediction)\n",
        "pred=np.argmax(prediction,axis=1)\n",
        "print(pred)"
      ],
      "metadata": {
        "colab": {
          "base_uri": "https://localhost:8080/"
        },
        "id": "aiia1XRuBajN",
        "outputId": "cc08ea0b-278d-48ff-955c-24ed7772eb33"
      },
      "execution_count": null,
      "outputs": [
        {
          "output_type": "stream",
          "name": "stdout",
          "text": [
            "[3 3 3 4 3 3 3 0 0 2 3 3 3 3 3 3 3 3 3 4 4 3 3 0 3 3 2 3 4 2 4 2 3 3 0 4 4\n",
            " 2 1 4 2 3 3 3 0 3 4 4 3 3 1 3 4 3 3 4 4 2 4 3 4 3 3 3 3 0 3 0 3 3 3 3 3 3\n",
            " 2 4 1 3 3 3 2 3 4 4 3 3 3 2 1 3 4 3 3 3 3 2 3 3 3 3 3 3 3 4 3 3 3 4 4]\n"
          ]
        }
      ]
    },
    {
      "cell_type": "code",
      "source": [
        "Y_test\n",
        "true=np.argmax(Y_test,axis=1)"
      ],
      "metadata": {
        "id": "N2tyhal4Bc17"
      },
      "execution_count": null,
      "outputs": []
    },
    {
      "cell_type": "code",
      "source": [
        "correct = (true == pred)\n",
        "accuracy = correct.sum() / correct.size"
      ],
      "metadata": {
        "id": "_2mS43M8BgSW"
      },
      "execution_count": null,
      "outputs": []
    },
    {
      "cell_type": "code",
      "source": [
        "accuracy"
      ],
      "metadata": {
        "colab": {
          "base_uri": "https://localhost:8080/"
        },
        "id": "w2ZygnFhBjj1",
        "outputId": "fe3b0612-51dd-4d9d-aec8-e18888d0ddb8"
      },
      "execution_count": null,
      "outputs": [
        {
          "output_type": "execute_result",
          "data": {
            "text/plain": [
              "0.7614678899082569"
            ]
          },
          "metadata": {},
          "execution_count": 156
        }
      ]
    },
    {
      "cell_type": "code",
      "source": [
        ""
      ],
      "metadata": {
        "id": "4LmwlVD-Bk8d"
      },
      "execution_count": null,
      "outputs": []
    }
  ]
}