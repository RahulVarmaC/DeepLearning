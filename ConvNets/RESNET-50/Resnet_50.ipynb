{
  "nbformat": 4,
  "nbformat_minor": 0,
  "metadata": {
    "colab": {
      "name": "Resnet-50.ipynb",
      "provenance": [],
      "collapsed_sections": [],
      "machine_shape": "hm"
    },
    "kernelspec": {
      "name": "python3",
      "display_name": "Python 3"
    },
    "language_info": {
      "name": "python"
    },
    "accelerator": "GPU"
  },
  "cells": [
    {
      "cell_type": "code",
      "execution_count": null,
      "metadata": {
        "id": "lgJyYNUpcHMf"
      },
      "outputs": [],
      "source": [
        "import numpy as np\n",
        "import pandas as pd\n",
        "import matplotlib.pyplot as plt\n",
        "import tensorflow as tf\n",
        "import tensorflow.keras.layers as layer\n",
        "import tensorflow.keras as ker\n",
        "from tensorflow.keras.regularizers import l2"
      ]
    },
    {
      "cell_type": "code",
      "source": [
        "data=tf.keras.datasets.cifar10.load_data() "
      ],
      "metadata": {
        "colab": {
          "base_uri": "https://localhost:8080/"
        },
        "id": "SSKAXUSZcV6m",
        "outputId": "4a442869-d6fc-43d2-8343-3cf56075ccb0"
      },
      "execution_count": null,
      "outputs": [
        {
          "output_type": "stream",
          "name": "stdout",
          "text": [
            "Downloading data from https://www.cs.toronto.edu/~kriz/cifar-10-python.tar.gz\n",
            "170500096/170498071 [==============================] - 11s 0us/step\n",
            "170508288/170498071 [==============================] - 11s 0us/step\n"
          ]
        }
      ]
    },
    {
      "cell_type": "code",
      "source": [
        ""
      ],
      "metadata": {
        "id": "csVp2ge6cYbe"
      },
      "execution_count": null,
      "outputs": []
    },
    {
      "cell_type": "code",
      "execution_count": null,
      "metadata": {
        "id": "AnlqUHm3kHfw"
      },
      "outputs": [],
      "source": [
        "(x_train, y_train), (x_test, y_test) = data"
      ]
    },
    {
      "cell_type": "code",
      "execution_count": null,
      "metadata": {
        "id": "Txq1PmFJkKB_",
        "colab": {
          "base_uri": "https://localhost:8080/"
        },
        "outputId": "728a3c6d-9c21-49a2-8e10-5e43ff07a8fb"
      },
      "outputs": [
        {
          "output_type": "stream",
          "name": "stdout",
          "text": [
            " X train values and shape :\n",
            "(50000, 32, 32, 3)\n",
            "(10000, 32, 32, 3)\n",
            "(50000, 1)\n",
            "(10000, 1)\n"
          ]
        }
      ],
      "source": [
        "print(\" X train values and shape :\")\n",
        "#print(x_train[:1])\n",
        "print(x_train.shape)\n",
        "print(x_test.shape)\n",
        "print(y_train.shape)\n",
        "print(y_test.shape)"
      ]
    },
    {
      "cell_type": "code",
      "execution_count": null,
      "metadata": {
        "id": "HdiSuyTolEXp"
      },
      "outputs": [],
      "source": [
        "x_train = (x_train / 255.).reshape([-1,32,32,3])\n",
        "x_test = (x_test / 255.).reshape([-1,32,32,3])"
      ]
    },
    {
      "cell_type": "code",
      "execution_count": null,
      "metadata": {
        "id": "FS8a0GQQLBu2",
        "colab": {
          "base_uri": "https://localhost:8080/"
        },
        "outputId": "3364b5e3-e756-49c0-e853-c707c4823fd9"
      },
      "outputs": [
        {
          "output_type": "execute_result",
          "data": {
            "text/plain": [
              "(50000, 32, 32, 3)"
            ]
          },
          "metadata": {},
          "execution_count": 6
        }
      ],
      "source": [
        "x_train.shape"
      ]
    },
    {
      "cell_type": "code",
      "execution_count": null,
      "metadata": {
        "id": "ki689B8mlGXQ",
        "colab": {
          "base_uri": "https://localhost:8080/"
        },
        "outputId": "0f059693-272a-4544-ca2d-c7ba521cdd7c"
      },
      "outputs": [
        {
          "output_type": "execute_result",
          "data": {
            "text/plain": [
              "(50000, 10)"
            ]
          },
          "metadata": {},
          "execution_count": 7
        }
      ],
      "source": [
        "from tensorflow.keras.utils import to_categorical\n",
        "y_train = to_categorical(y_train, dtype =\"uint8\")\n",
        "y_test = to_categorical(y_test, dtype =\"uint8\")\n",
        "y_train.shape"
      ]
    },
    {
      "cell_type": "code",
      "source": [
        ""
      ],
      "metadata": {
        "id": "IxD8Ifoqcr6u"
      },
      "execution_count": null,
      "outputs": []
    },
    {
      "cell_type": "code",
      "source": [
        "x_in=layer.Input((32,32,3))\n",
        "arch= tf.keras.layers.UpSampling2D(size=(7,7))(x_in)\n",
        "arch=layer.Conv2D(16,kernel_size=(3,3),padding='same')(arch)\n",
        "arch=layer.Activation('relu')(arch)\n",
        "arch=layer.BatchNormalization()(arch)\n",
        "###### First Residual block\n",
        "short=arch\n",
        "\n",
        "conv=layer.Conv2D(16,kernel_size=(3,3),strides=(1,1),padding='same')(arch)\n",
        "conv=layer.Activation('relu')(conv)\n",
        "conv=layer.BatchNormalization()(conv)\n",
        "\n",
        "conv=layer.Conv2D(16,kernel_size=(3,3),strides=(1,1),padding='same')(conv)\n",
        "conv=layer.Activation('relu')(conv)\n",
        "conv=layer.BatchNormalization()(conv)\n",
        "\n",
        "conv=layer.Conv2D(16,kernel_size=(3,3),strides=(1,1),padding='same')(conv)\n",
        "conv=layer.Activation('relu')(conv)\n",
        "conv=layer.BatchNormalization()(conv)\n",
        "\n",
        "conv=layer.Conv2D(16,kernel_size=(3,3),strides=(1,1),padding='same')(conv)\n",
        "conv=layer.Activation('relu')(conv)\n",
        "conv=layer.BatchNormalization()(conv)\n",
        "\n",
        "conv=layer.Conv2D(16,kernel_size=(3,3),strides=(1,1),padding='same')(conv)\n",
        "conv=layer.Activation('relu')(conv)\n",
        "conv=layer.BatchNormalization()(conv)\n",
        "\n",
        "conv=layer.Conv2D(16,kernel_size=(3,3),strides=(1,1),padding='same')(conv)\n",
        "conv=layer.Activation('relu')(conv)\n",
        "conv=layer.BatchNormalization()(conv)\n",
        "\n",
        "\n",
        "# short= layer.Conv2D(32, kernel_size=(1, 1), strides=(2,2), padding='same')(short)\n",
        "# short= layer.BatchNormalization()(short)\n",
        "\n",
        "\n",
        "arch=layer.Add()([short,conv])\n",
        "\n",
        "conv_t=layer.Conv2D(16,kernel_size=(1,1),strides=(2,2),padding='same')(arch)\n",
        "conv_t=layer.Activation('relu')(conv_t)\n",
        "arch=layer.BatchNormalization()(conv_t)\n",
        "arch=layer.Dropout(0.2)(arch)\n",
        "\n",
        "\n",
        "\n",
        "######### Second Residual Layer\n",
        "\n",
        "\n",
        "short1=arch\n",
        "\n",
        "conv1=layer.Conv2D(32,kernel_size=(3,3),strides=(1,1),padding='same')(arch)\n",
        "conv1=layer.Activation('relu')(conv1)\n",
        "conv1=layer.BatchNormalization()(conv1)\n",
        "\n",
        "conv1=layer.Conv2D(32,kernel_size=(3,3),strides=(1,1),padding='same')(conv1)\n",
        "conv1=layer.Activation('relu')(conv1)\n",
        "conv1=layer.BatchNormalization()(conv1)\n",
        "\n",
        "conv1=layer.Conv2D(32,kernel_size=(3,3),strides=(1,1),padding='same')(conv1)\n",
        "conv1=layer.Activation('relu')(conv1)\n",
        "conv1=layer.BatchNormalization()(conv1)\n",
        "\n",
        "conv1=layer.Conv2D(32,kernel_size=(3,3),strides=(1,1),padding='same')(conv1)\n",
        "conv1=layer.Activation('relu')(conv1)\n",
        "conv1=layer.BatchNormalization()(conv1)\n",
        "\n",
        "conv1=layer.Conv2D(32,kernel_size=(3,3),strides=(1,1),padding='same')(conv1)\n",
        "conv1=layer.Activation('relu')(conv1)\n",
        "conv1=layer.BatchNormalization()(conv1)\n",
        "\n",
        "conv1=layer.Conv2D(32,kernel_size=(3,3),strides=(1,1),padding='same')(conv1)\n",
        "conv1=layer.Activation('relu')(conv1)\n",
        "conv1=layer.BatchNormalization()(conv1)\n",
        "\n",
        "short1= layer.Conv2D(32, kernel_size=(1, 1), strides=(1,1), padding='same')(short1)\n",
        "short1 = layer.BatchNormalization()(short1)\n",
        "\n",
        "\n",
        "arch=layer.Add()([short1,conv1])\n",
        "\n",
        "conv_t_1=layer.Conv2D(32,kernel_size=(1,1),strides=(2,2),padding='same')(arch)\n",
        "conv_t_1=layer.Activation('relu')(conv_t_1)\n",
        "arch=layer.BatchNormalization()(conv_t_1)\n",
        "arch=layer.Dropout(0.2)(arch)\n",
        "\n",
        "\n",
        "\n",
        "############ 3 Residual Layer\n",
        "\n",
        "\n",
        "short2=arch\n",
        "\n",
        "conv2=layer.Conv2D(64,kernel_size=(3,3),strides=(1,1),padding='same')(arch)\n",
        "conv2=layer.Activation('relu')(conv2)\n",
        "conv2=layer.BatchNormalization()(conv2)\n",
        "\n",
        "conv2=layer.Conv2D(64,kernel_size=(3,3),strides=(1,1),padding='same')(conv2)\n",
        "conv2=layer.Activation('relu')(conv2)\n",
        "conv2=layer.BatchNormalization()(conv2)\n",
        "\n",
        "conv2=layer.Conv2D(64,kernel_size=(3,3),strides=(1,1),padding='same')(conv2)\n",
        "conv2=layer.Activation('relu')(conv2)\n",
        "conv2=layer.BatchNormalization()(conv2)\n",
        "\n",
        "conv2=layer.Conv2D(64,kernel_size=(3,3),strides=(1,1),padding='same')(conv2)\n",
        "conv2=layer.Activation('relu')(conv2)\n",
        "conv2=layer.BatchNormalization()(conv2)\n",
        "\n",
        "conv2=layer.Conv2D(64,kernel_size=(3,3),strides=(1,1),padding='same')(conv2)\n",
        "conv2=layer.Activation('relu')(conv2)\n",
        "conv2=layer.BatchNormalization()(conv2)\n",
        "\n",
        "conv2=layer.Conv2D(64,kernel_size=(3,3),strides=(1,1),padding='same')(conv2)\n",
        "conv2=layer.Activation('relu')(conv2)\n",
        "conv2=layer.BatchNormalization()(conv2)\n",
        "\n",
        "short2= layer.Conv2D(64, kernel_size=(1, 1), strides=(1,1), padding='same')(short2)\n",
        "short2 = layer.BatchNormalization()(short2)\n",
        "\n",
        "arch=layer.Add()([short2,conv2])\n",
        "\n",
        "\n",
        "conv_t_2=layer.Conv2D(64,kernel_size=(1,1),strides=(2,2),padding='same')(arch)\n",
        "conv_t_2=layer.Activation('relu')(conv_t_2)\n",
        "arch=layer.BatchNormalization()(conv_t_2)\n",
        "arch=layer.Dropout(0.2)(arch)\n",
        "\n",
        "######## End of residual layers \n",
        "\n",
        "arch=layer.AveragePooling2D()(arch)\n",
        "arch=layer.Dropout(0.1)(arch)\n",
        "arch=layer.Flatten()(arch)\n",
        "arch=layer.Dense(512,activation='relu',kernel_regularizer=l2(0.01))(arch)\n",
        "arch=layer.Dropout(0.5)(arch)\n",
        "arch=layer.Dense(10,activation='softmax')(arch)"
      ],
      "metadata": {
        "id": "Fu78peoyQ3_K"
      },
      "execution_count": null,
      "outputs": []
    },
    {
      "cell_type": "code",
      "source": [
        "model = ker.Model(inputs=x_in , outputs=arch)\n",
        "model.compile(loss=\"categorical_crossentropy\", optimizer=\"adam\", metrics=[\"accuracy\"])\n",
        "history=model.fit(x=x_train, y=y_train, validation_data=(x_test,y_test),shuffle=True, epochs=50)\n",
        "acc=history.history['accuracy']\n",
        "val_acc=history.history['val_accuracy']"
      ],
      "metadata": {
        "colab": {
          "base_uri": "https://localhost:8080/"
        },
        "id": "mtdzmNp_czqV",
        "outputId": "d4cf9b83-1585-4842-884c-4c197b83c32f"
      },
      "execution_count": null,
      "outputs": [
        {
          "output_type": "stream",
          "name": "stdout",
          "text": [
            "Epoch 1/50\n",
            "1563/1563 [==============================] - 513s 327ms/step - loss: 3.7428 - accuracy: 0.4140 - val_loss: 3.1307 - val_accuracy: 0.4356\n",
            "Epoch 2/50\n",
            "1563/1563 [==============================] - 513s 328ms/step - loss: 2.6471 - accuracy: 0.5368 - val_loss: 2.7017 - val_accuracy: 0.5322\n",
            "Epoch 3/50\n",
            "1563/1563 [==============================] - 513s 328ms/step - loss: 2.4727 - accuracy: 0.5999 - val_loss: 2.3832 - val_accuracy: 0.6010\n",
            "Epoch 4/50\n",
            "1563/1563 [==============================] - 513s 328ms/step - loss: 2.3106 - accuracy: 0.6247 - val_loss: 2.2827 - val_accuracy: 0.6063\n",
            "Epoch 5/50\n",
            "1563/1563 [==============================] - 514s 329ms/step - loss: 2.1447 - accuracy: 0.6440 - val_loss: 1.9636 - val_accuracy: 0.6747\n",
            "Epoch 6/50\n",
            "1563/1563 [==============================] - 513s 328ms/step - loss: 2.0339 - accuracy: 0.6639 - val_loss: 1.8765 - val_accuracy: 0.7094\n",
            "Epoch 7/50\n",
            "1563/1563 [==============================] - 513s 328ms/step - loss: 1.9521 - accuracy: 0.6764 - val_loss: 1.8924 - val_accuracy: 0.6867\n",
            "Epoch 8/50\n",
            "1563/1563 [==============================] - 513s 328ms/step - loss: 1.8870 - accuracy: 0.6905 - val_loss: 1.9060 - val_accuracy: 0.6863\n",
            "Epoch 9/50\n",
            "1563/1563 [==============================] - 513s 328ms/step - loss: 1.8517 - accuracy: 0.7048 - val_loss: 1.8083 - val_accuracy: 0.7145\n",
            "Epoch 10/50\n",
            "1563/1563 [==============================] - 513s 328ms/step - loss: 1.8346 - accuracy: 0.7120 - val_loss: 1.8170 - val_accuracy: 0.7292\n",
            "Epoch 11/50\n",
            "1563/1563 [==============================] - 514s 329ms/step - loss: 1.7980 - accuracy: 0.7196 - val_loss: 1.7523 - val_accuracy: 0.7362\n",
            "Epoch 12/50\n",
            "1563/1563 [==============================] - 514s 329ms/step - loss: 1.7703 - accuracy: 0.7282 - val_loss: 1.7119 - val_accuracy: 0.7398\n",
            "Epoch 13/50\n",
            "1563/1563 [==============================] - 513s 329ms/step - loss: 1.7543 - accuracy: 0.7377 - val_loss: 1.7471 - val_accuracy: 0.7405\n",
            "Epoch 14/50\n",
            "1563/1563 [==============================] - 513s 328ms/step - loss: 1.7327 - accuracy: 0.7424 - val_loss: 1.7138 - val_accuracy: 0.7512\n",
            "Epoch 15/50\n",
            "1563/1563 [==============================] - 513s 328ms/step - loss: 1.7093 - accuracy: 0.7469 - val_loss: 1.6571 - val_accuracy: 0.7670\n",
            "Epoch 16/50\n",
            "1563/1563 [==============================] - 513s 328ms/step - loss: 1.7057 - accuracy: 0.7533 - val_loss: 1.6383 - val_accuracy: 0.7612\n",
            "Epoch 17/50\n",
            "1563/1563 [==============================] - 514s 329ms/step - loss: 1.6615 - accuracy: 0.7597 - val_loss: 1.5984 - val_accuracy: 0.7610\n",
            "Epoch 18/50\n",
            "1563/1563 [==============================] - 513s 328ms/step - loss: 1.6513 - accuracy: 0.7623 - val_loss: 1.5870 - val_accuracy: 0.7765\n",
            "Epoch 19/50\n",
            "1563/1563 [==============================] - 513s 329ms/step - loss: 1.6473 - accuracy: 0.7680 - val_loss: 1.7253 - val_accuracy: 0.7460\n",
            "Epoch 20/50\n",
            "1563/1563 [==============================] - 513s 328ms/step - loss: 1.6341 - accuracy: 0.7698 - val_loss: 1.5844 - val_accuracy: 0.7764\n",
            "Epoch 21/50\n",
            "1563/1563 [==============================] - 513s 328ms/step - loss: 1.6056 - accuracy: 0.7754 - val_loss: 1.6171 - val_accuracy: 0.7773\n",
            "Epoch 22/50\n",
            "1563/1563 [==============================] - 514s 329ms/step - loss: 1.6084 - accuracy: 0.7789 - val_loss: 1.6039 - val_accuracy: 0.7682\n",
            "Epoch 23/50\n",
            "1563/1563 [==============================] - 513s 328ms/step - loss: 1.5934 - accuracy: 0.7785 - val_loss: 1.5806 - val_accuracy: 0.7811\n",
            "Epoch 24/50\n",
            "1563/1563 [==============================] - 513s 328ms/step - loss: 1.5710 - accuracy: 0.7824 - val_loss: 1.5981 - val_accuracy: 0.7755\n",
            "Epoch 25/50\n",
            "1563/1563 [==============================] - 513s 328ms/step - loss: 1.5658 - accuracy: 0.7851 - val_loss: 1.5298 - val_accuracy: 0.7903\n",
            "Epoch 26/50\n",
            "1563/1563 [==============================] - 513s 328ms/step - loss: 1.5497 - accuracy: 0.7921 - val_loss: 1.6556 - val_accuracy: 0.7685\n",
            "Epoch 27/50\n",
            "1563/1563 [==============================] - 513s 328ms/step - loss: 1.5427 - accuracy: 0.7947 - val_loss: 1.4714 - val_accuracy: 0.8022\n",
            "Epoch 28/50\n",
            "1563/1563 [==============================] - 513s 328ms/step - loss: 1.5275 - accuracy: 0.7956 - val_loss: 1.5510 - val_accuracy: 0.7875\n",
            "Epoch 29/50\n",
            "1563/1563 [==============================] - 513s 329ms/step - loss: 1.5225 - accuracy: 0.7997 - val_loss: 1.5010 - val_accuracy: 0.7981\n",
            "Epoch 30/50\n",
            "1563/1563 [==============================] - 513s 329ms/step - loss: 1.4936 - accuracy: 0.8026 - val_loss: 1.5119 - val_accuracy: 0.7975\n",
            "Epoch 31/50\n",
            "1563/1563 [==============================] - 514s 329ms/step - loss: 1.5326 - accuracy: 0.8009 - val_loss: 1.6048 - val_accuracy: 0.7751\n",
            "Epoch 32/50\n",
            "1563/1563 [==============================] - 512s 327ms/step - loss: 1.5039 - accuracy: 0.8053 - val_loss: 1.4972 - val_accuracy: 0.8002\n",
            "Epoch 33/50\n",
            "1563/1563 [==============================] - 513s 328ms/step - loss: 1.4881 - accuracy: 0.8082 - val_loss: 1.5282 - val_accuracy: 0.7943\n",
            "Epoch 34/50\n",
            "1563/1563 [==============================] - 514s 329ms/step - loss: 1.4832 - accuracy: 0.8104 - val_loss: 1.5710 - val_accuracy: 0.7828\n",
            "Epoch 35/50\n",
            "1563/1563 [==============================] - 514s 329ms/step - loss: 1.4830 - accuracy: 0.8115 - val_loss: 1.5354 - val_accuracy: 0.7880\n",
            "Epoch 36/50\n",
            "1563/1563 [==============================] - 512s 328ms/step - loss: 1.4637 - accuracy: 0.8142 - val_loss: 1.4883 - val_accuracy: 0.8081\n",
            "Epoch 37/50\n",
            "1563/1563 [==============================] - 509s 326ms/step - loss: 1.4669 - accuracy: 0.8132 - val_loss: 1.5405 - val_accuracy: 0.7865\n",
            "Epoch 38/50\n",
            "1563/1563 [==============================] - 513s 328ms/step - loss: 1.4373 - accuracy: 0.8186 - val_loss: 1.4986 - val_accuracy: 0.7951\n",
            "Epoch 39/50\n",
            "1563/1563 [==============================] - 513s 328ms/step - loss: 1.4164 - accuracy: 0.8208 - val_loss: 1.4948 - val_accuracy: 0.7975\n",
            "Epoch 40/50\n",
            "1563/1563 [==============================] - 512s 328ms/step - loss: 1.4042 - accuracy: 0.8219 - val_loss: 1.5017 - val_accuracy: 0.7986\n",
            "Epoch 41/50\n",
            "1563/1563 [==============================] - 512s 328ms/step - loss: 1.3887 - accuracy: 0.8254 - val_loss: 1.4836 - val_accuracy: 0.8044\n",
            "Epoch 42/50\n",
            "1563/1563 [==============================] - 512s 328ms/step - loss: 1.3898 - accuracy: 0.8284 - val_loss: 1.4876 - val_accuracy: 0.7998\n",
            "Epoch 43/50\n",
            "1563/1563 [==============================] - 512s 328ms/step - loss: 1.3853 - accuracy: 0.8265 - val_loss: 1.3966 - val_accuracy: 0.8123\n",
            "Epoch 44/50\n",
            "1563/1563 [==============================] - 513s 328ms/step - loss: 1.4045 - accuracy: 0.8291 - val_loss: 1.4703 - val_accuracy: 0.8048\n",
            "Epoch 45/50\n",
            "1563/1563 [==============================] - 513s 328ms/step - loss: 1.3710 - accuracy: 0.8328 - val_loss: 1.4655 - val_accuracy: 0.8048\n",
            "Epoch 46/50\n",
            "1563/1563 [==============================] - 513s 328ms/step - loss: 1.3762 - accuracy: 0.8328 - val_loss: 1.4886 - val_accuracy: 0.7989\n",
            "Epoch 47/50\n",
            "1563/1563 [==============================] - 513s 328ms/step - loss: 1.3745 - accuracy: 0.8354 - val_loss: 1.4995 - val_accuracy: 0.7984\n",
            "Epoch 48/50\n",
            "1563/1563 [==============================] - 513s 328ms/step - loss: 1.3611 - accuracy: 0.8366 - val_loss: 1.5323 - val_accuracy: 0.7988\n",
            "Epoch 49/50\n",
            "1563/1563 [==============================] - 513s 328ms/step - loss: 1.3622 - accuracy: 0.8359 - val_loss: 1.4645 - val_accuracy: 0.7976\n",
            "Epoch 50/50\n",
            "1563/1563 [==============================] - 513s 328ms/step - loss: 1.3595 - accuracy: 0.8376 - val_loss: 1.4428 - val_accuracy: 0.8075\n"
          ]
        }
      ]
    },
    {
      "cell_type": "code",
      "source": [
        "epochs=list(range(50))\n",
        "plt.plot(epochs,acc,label='training accuracy')\n",
        "plt.plot(epochs,val_acc,label='validation accuracy')\n",
        "plt.legend()\n",
        "plt.show()"
      ],
      "metadata": {
        "colab": {
          "base_uri": "https://localhost:8080/",
          "height": 265
        },
        "id": "WMibG7Ync1h0",
        "outputId": "77b2412a-fd5b-48a5-f1af-97592b0050dd"
      },
      "execution_count": null,
      "outputs": [
        {
          "output_type": "display_data",
          "data": {
            "text/plain": [
              "<Figure size 432x288 with 1 Axes>"
            ],
            "image/png": "[encoded data removed]"
          },
          "metadata": {
            "needs_background": "light"
          }
        }
      ]
    },
    {
      "cell_type": "markdown",
      "source": [
        "**CIFAR 100 Optimization:**"
      ],
      "metadata": {
        "id": "KZOtyTiezk1O"
      }
    },
    {
      "cell_type": "code",
      "source": [
        ""
      ],
      "metadata": {
        "id": "qS3xRyWQz6lu"
      },
      "execution_count": null,
      "outputs": []
    },
    {
      "cell_type": "code",
      "source": [
        "data=tf.keras.datasets.cifar100.load_data() "
      ],
      "metadata": {
        "colab": {
          "base_uri": "https://localhost:8080/"
        },
        "outputId": "4a442869-d6fc-43d2-8343-3cf56075ccb0",
        "id": "Jxvo_gg70C_1"
      },
      "execution_count": null,
      "outputs": [
        {
          "output_type": "stream",
          "name": "stdout",
          "text": [
            "Downloading data from https://www.cs.toronto.edu/~kriz/cifar-10-python.tar.gz\n",
            "170500096/170498071 [==============================] - 11s 0us/step\n",
            "170508288/170498071 [==============================] - 11s 0us/step\n"
          ]
        }
      ]
    },
    {
      "cell_type": "code",
      "source": [
        ""
      ],
      "metadata": {
        "id": "8gPogagD0C_3"
      },
      "execution_count": null,
      "outputs": []
    },
    {
      "cell_type": "code",
      "execution_count": null,
      "metadata": {
        "id": "f_aHmGGz0C_3"
      },
      "outputs": [],
      "source": [
        "(x_train, y_train), (x_test, y_test) = data"
      ]
    },
    {
      "cell_type": "code",
      "execution_count": null,
      "metadata": {
        "colab": {
          "base_uri": "https://localhost:8080/"
        },
        "outputId": "728a3c6d-9c21-49a2-8e10-5e43ff07a8fb",
        "id": "4oUers6r0C_4"
      },
      "outputs": [
        {
          "output_type": "stream",
          "name": "stdout",
          "text": [
            " X train values and shape :\n",
            "(50000, 32, 32, 3)\n",
            "(10000, 32, 32, 3)\n",
            "(50000, 1)\n",
            "(10000, 1)\n"
          ]
        }
      ],
      "source": [
        "print(\" X train values and shape :\")\n",
        "#print(x_train[:1])\n",
        "print(x_train.shape)\n",
        "print(x_test.shape)\n",
        "print(y_train.shape)\n",
        "print(y_test.shape)"
      ]
    },
    {
      "cell_type": "code",
      "execution_count": null,
      "metadata": {
        "id": "eVfYSzVr0C_4"
      },
      "outputs": [],
      "source": [
        "x_train = (x_train / 255.).reshape([-1,32,32,3])\n",
        "x_test = (x_test / 255.).reshape([-1,32,32,3])"
      ]
    },
    {
      "cell_type": "code",
      "execution_count": null,
      "metadata": {
        "colab": {
          "base_uri": "https://localhost:8080/"
        },
        "outputId": "3364b5e3-e756-49c0-e853-c707c4823fd9",
        "id": "RrnBaKsd0C_5"
      },
      "outputs": [
        {
          "output_type": "execute_result",
          "data": {
            "text/plain": [
              "(50000, 32, 32, 3)"
            ]
          },
          "metadata": {},
          "execution_count": 6
        }
      ],
      "source": [
        "x_train.shape"
      ]
    },
    {
      "cell_type": "code",
      "execution_count": null,
      "metadata": {
        "colab": {
          "base_uri": "https://localhost:8080/"
        },
        "outputId": "0f059693-272a-4544-ca2d-c7ba521cdd7c",
        "id": "_nC87Tdg0C_5"
      },
      "outputs": [
        {
          "output_type": "execute_result",
          "data": {
            "text/plain": [
              "(50000, 10)"
            ]
          },
          "metadata": {},
          "execution_count": 7
        }
      ],
      "source": [
        "from tensorflow.keras.utils import to_categorical\n",
        "y_train = to_categorical(y_train, dtype =\"uint8\")\n",
        "y_test = to_categorical(y_test, dtype =\"uint8\")\n",
        "y_train.shape"
      ]
    },
    {
      "cell_type": "code",
      "source": [
        "x_in=layer.Input((32,32,3))\n",
        "arch= tf.keras.layers.UpSampling2D(size=(7,7))(x_in)\n",
        "arch=layer.Conv2D(16,kernel_size=(3,3),padding='same')(arch)\n",
        "arch=layer.Activation('relu')(arch)\n",
        "arch=layer.BatchNormalization()(arch)\n",
        "###### First Residual block\n",
        "short=arch\n",
        "\n",
        "conv=layer.Conv2D(16,kernel_size=(3,3),strides=(1,1),padding='same')(arch)\n",
        "conv=layer.Activation('relu')(conv)\n",
        "conv=layer.BatchNormalization()(conv)\n",
        "\n",
        "conv=layer.Conv2D(16,kernel_size=(3,3),strides=(1,1),padding='same')(conv)\n",
        "conv=layer.Activation('relu')(conv)\n",
        "conv=layer.BatchNormalization()(conv)\n",
        "\n",
        "conv=layer.Conv2D(16,kernel_size=(3,3),strides=(1,1),padding='same')(conv)\n",
        "conv=layer.Activation('relu')(conv)\n",
        "conv=layer.BatchNormalization()(conv)\n",
        "\n",
        "conv=layer.Conv2D(16,kernel_size=(3,3),strides=(1,1),padding='same')(conv)\n",
        "conv=layer.Activation('relu')(conv)\n",
        "conv=layer.BatchNormalization()(conv)\n",
        "\n",
        "conv=layer.Conv2D(16,kernel_size=(3,3),strides=(1,1),padding='same')(conv)\n",
        "conv=layer.Activation('relu')(conv)\n",
        "conv=layer.BatchNormalization()(conv)\n",
        "\n",
        "conv=layer.Conv2D(16,kernel_size=(3,3),strides=(1,1),padding='same')(conv)\n",
        "conv=layer.Activation('relu')(conv)\n",
        "conv=layer.BatchNormalization()(conv)\n",
        "\n",
        "\n",
        "# short= layer.Conv2D(32, kernel_size=(1, 1), strides=(2,2), padding='same')(short)\n",
        "# short= layer.BatchNormalization()(short)\n",
        "\n",
        "\n",
        "arch=layer.Add()([short,conv])\n",
        "\n",
        "conv_t=layer.Conv2D(16,kernel_size=(1,1),strides=(2,2),padding='same')(arch)\n",
        "conv_t=layer.Activation('relu')(conv_t)\n",
        "arch=layer.BatchNormalization()(conv_t)\n",
        "arch=layer.Dropout(0.2)(arch)\n",
        "\n",
        "\n",
        "\n",
        "######### Second Residual Layer\n",
        "\n",
        "\n",
        "short1=arch\n",
        "\n",
        "conv1=layer.Conv2D(32,kernel_size=(3,3),strides=(1,1),padding='same')(arch)\n",
        "conv1=layer.Activation('relu')(conv1)\n",
        "conv1=layer.BatchNormalization()(conv1)\n",
        "\n",
        "conv1=layer.Conv2D(32,kernel_size=(3,3),strides=(1,1),padding='same')(conv1)\n",
        "conv1=layer.Activation('relu')(conv1)\n",
        "conv1=layer.BatchNormalization()(conv1)\n",
        "\n",
        "conv1=layer.Conv2D(32,kernel_size=(3,3),strides=(1,1),padding='same')(conv1)\n",
        "conv1=layer.Activation('relu')(conv1)\n",
        "conv1=layer.BatchNormalization()(conv1)\n",
        "\n",
        "conv1=layer.Conv2D(32,kernel_size=(3,3),strides=(1,1),padding='same')(conv1)\n",
        "conv1=layer.Activation('relu')(conv1)\n",
        "conv1=layer.BatchNormalization()(conv1)\n",
        "\n",
        "conv1=layer.Conv2D(32,kernel_size=(3,3),strides=(1,1),padding='same')(conv1)\n",
        "conv1=layer.Activation('relu')(conv1)\n",
        "conv1=layer.BatchNormalization()(conv1)\n",
        "\n",
        "conv1=layer.Conv2D(32,kernel_size=(3,3),strides=(1,1),padding='same')(conv1)\n",
        "conv1=layer.Activation('relu')(conv1)\n",
        "conv1=layer.BatchNormalization()(conv1)\n",
        "\n",
        "short1= layer.Conv2D(32, kernel_size=(1, 1), strides=(1,1), padding='same')(short1)\n",
        "short1 = layer.BatchNormalization()(short1)\n",
        "\n",
        "\n",
        "arch=layer.Add()([short1,conv1])\n",
        "\n",
        "conv_t_1=layer.Conv2D(32,kernel_size=(1,1),strides=(2,2),padding='same')(arch)\n",
        "conv_t_1=layer.Activation('relu')(conv_t_1)\n",
        "arch=layer.BatchNormalization()(conv_t_1)\n",
        "arch=layer.Dropout(0.2)(arch)\n",
        "\n",
        "\n",
        "\n",
        "############ 3 Residual Layer\n",
        "\n",
        "\n",
        "short2=arch\n",
        "\n",
        "conv2=layer.Conv2D(64,kernel_size=(3,3),strides=(1,1),padding='same')(arch)\n",
        "conv2=layer.Activation('relu')(conv2)\n",
        "conv2=layer.BatchNormalization()(conv2)\n",
        "\n",
        "conv2=layer.Conv2D(64,kernel_size=(3,3),strides=(1,1),padding='same')(conv2)\n",
        "conv2=layer.Activation('relu')(conv2)\n",
        "conv2=layer.BatchNormalization()(conv2)\n",
        "\n",
        "conv2=layer.Conv2D(64,kernel_size=(3,3),strides=(1,1),padding='same')(conv2)\n",
        "conv2=layer.Activation('relu')(conv2)\n",
        "conv2=layer.BatchNormalization()(conv2)\n",
        "\n",
        "conv2=layer.Conv2D(64,kernel_size=(3,3),strides=(1,1),padding='same')(conv2)\n",
        "conv2=layer.Activation('relu')(conv2)\n",
        "conv2=layer.BatchNormalization()(conv2)\n",
        "\n",
        "conv2=layer.Conv2D(64,kernel_size=(3,3),strides=(1,1),padding='same')(conv2)\n",
        "conv2=layer.Activation('relu')(conv2)\n",
        "conv2=layer.BatchNormalization()(conv2)\n",
        "\n",
        "conv2=layer.Conv2D(64,kernel_size=(3,3),strides=(1,1),padding='same')(conv2)\n",
        "conv2=layer.Activation('relu')(conv2)\n",
        "conv2=layer.BatchNormalization()(conv2)\n",
        "\n",
        "short2= layer.Conv2D(64, kernel_size=(1, 1), strides=(1,1), padding='same')(short2)\n",
        "short2 = layer.BatchNormalization()(short2)\n",
        "\n",
        "arch=layer.Add()([short2,conv2])\n",
        "\n",
        "\n",
        "conv_t_2=layer.Conv2D(64,kernel_size=(1,1),strides=(2,2),padding='same')(arch)\n",
        "conv_t_2=layer.Activation('relu')(conv_t_2)\n",
        "arch=layer.BatchNormalization()(conv_t_2)\n",
        "arch=layer.Dropout(0.2)(arch)\n",
        "\n",
        "######## End of residual layers \n",
        "\n",
        "arch=layer.AveragePooling2D()(arch)\n",
        "arch=layer.Dropout(0.1)(arch)\n",
        "arch=layer.Flatten()(arch)\n",
        "arch=layer.Dense(1024,activation='relu',kernel_regularizer=l2(0.01))(arch)\n",
        "arch=layer.Dropout(0.5)(arch)\n",
        "arch=layer.Dense(100,activation='softmax')(arch)"
      ],
      "metadata": {
        "id": "cAcPgTup2qY-"
      },
      "execution_count": null,
      "outputs": []
    },
    {
      "cell_type": "code",
      "source": [
        "model = ker.Model(inputs=x_in , outputs=arch)\n",
        "model.compile(loss=\"categorical_crossentropy\", optimizer=\"adam\", metrics=[\"accuracy\"])\n",
        "history=model.fit(x=x_train, y=y_train, validation_data=(x_test,y_test),shuffle=True, epochs=30)\n",
        "acc=history.history['accuracy']\n",
        "val_acc=history.history['val_accuracy']"
      ],
      "metadata": {
        "id": "eeFdusLQ2yKc"
      },
      "execution_count": null,
      "outputs": []
    },
    {
      "cell_type": "code",
      "source": [
        "epochs=list(range(50))\n",
        "plt.plot(epochs,acc,label='training accuracy')\n",
        "plt.plot(epochs,val_acc,label='validation accuracy')\n",
        "plt.legend()\n",
        "plt.show()"
      ],
      "metadata": {
        "id": "7RBkpaPb209V"
      },
      "execution_count": null,
      "outputs": []
    }
  ]
}