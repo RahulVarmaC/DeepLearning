{
  "nbformat": 4,
  "nbformat_minor": 0,
  "metadata": {
    "colab": {
      "name": " Final-Midterm-Y-CNN.ipynb",
      "provenance": [],
      "collapsed_sections": [],
      "machine_shape": "hm"
    },
    "kernelspec": {
      "name": "python3",
      "display_name": "Python 3"
    },
    "language_info": {
      "name": "python"
    },
    "accelerator": "GPU"
  },
  "cells": [
    {
      "cell_type": "code",
      "source": [
        "from google.colab import drive\n",
        "drive.mount('/content/drive/')"
      ],
      "metadata": {
        "colab": {
          "base_uri": "https://localhost:8080/"
        },
        "id": "-JF8qSgEKPju",
        "outputId": "ba8ba130-0922-427b-aac3-0115ff81c4e3"
      },
      "execution_count": null,
      "outputs": [
        {
          "output_type": "stream",
          "name": "stdout",
          "text": [
            "Mounted at /content/drive/\n"
          ]
        }
      ]
    },
    {
      "cell_type": "code",
      "execution_count": null,
      "metadata": {
        "id": "_D0f8QDiJgco"
      },
      "outputs": [],
      "source": [
        "import numpy as np\n",
        "import pandas as pd\n",
        "import matplotlib.pyplot as plt"
      ]
    },
    {
      "cell_type": "code",
      "source": [
        "import os\n",
        "import shutil\n",
        "classes=[\"volleyball\",\"baseball\",\"boxing\",\"basketball\",\"football\"]\n",
        "folder = r\"/content/drive/My Drive/Colab Notebooks/Datasets/sports-video-data/sports-video-data/train_images\"\n",
        "subfolders = [f.path for f in os.scandir(folder) if f.is_dir()]\n",
        "data=pd.DataFrame(columns=[\"image_path\",\"class\"])\n",
        "print(subfolders)\n",
        "for sub in subfolders:\n",
        "    for f in os.listdir(sub):\n",
        "      if sub=='/content/drive/My Drive/Colab Notebooks/Datasets/sports-video-data/sports-video-data/train_images/volleyball':\n",
        "        f1='/content/drive/My Drive/Colab Notebooks/Datasets/sports-video-data/sports-video-data/train_images/volleyball'+'/'+f\n",
        "        df1=pd.DataFrame([[f1,'volleyball']],columns=[\"image_path\",\"class\"])\n",
        "        data=data.append(df1)\n",
        "\n",
        "      elif sub=='/content/drive/My Drive/Colab Notebooks/Datasets/sports-video-data/sports-video-data/train_images/basketball':\n",
        "        f2='/content/drive/My Drive/Colab Notebooks/Datasets/sports-video-data/sports-video-data/train_images/basketball'+'/'+f\n",
        "        df1=pd.DataFrame([[f2,'basketball']],columns=[\"image_path\",\"class\"])\n",
        "        data=data.append(df1)\n",
        "\n",
        "      elif sub=='/content/drive/My Drive/Colab Notebooks/Datasets/sports-video-data/sports-video-data/train_images/baseball':\n",
        "        f3='/content/drive/My Drive/Colab Notebooks/Datasets/sports-video-data/sports-video-data/train_images/baseball'+'/'+f\n",
        "        df1=pd.DataFrame([[f3,'baseball']],columns=[\"image_path\",\"class\"])\n",
        "        data=data.append(df1)\n",
        "        \n",
        "      elif sub=='/content/drive/My Drive/Colab Notebooks/Datasets/sports-video-data/sports-video-data/train_images/football':\n",
        "        f4= '/content/drive/My Drive/Colab Notebooks/Datasets/sports-video-data/sports-video-data/train_images/football'+'/'+f\n",
        "        df1=pd.DataFrame([[f4,'football']],columns=[\"image_path\",\"class\"])\n",
        "        data=data.append(df1)\n",
        "\n",
        "      elif sub=='/content/drive/My Drive/Colab Notebooks/Datasets/sports-video-data/sports-video-data/train_images/boxing':\n",
        "        f5='/content/drive/My Drive/Colab Notebooks/Datasets/sports-video-data/sports-video-data/train_images/boxing'+'/'+f\n",
        "        df1=pd.DataFrame([[f5,'boxing']],columns=[\"image_path\",\"class\"])\n",
        "        data=data.append(df1)\n",
        "      \n",
        "        #print(df1)\n",
        "        \n",
        "        # src = os.path.join(sub, f)\n",
        "        # dst = os.path.join(folder, f)\n",
        "        # shutil.move(src, dst)"
      ],
      "metadata": {
        "colab": {
          "base_uri": "https://localhost:8080/"
        },
        "id": "bQVol4Q7Tvea",
        "outputId": "437aec39-a035-4781-d76e-8398968991e8"
      },
      "execution_count": null,
      "outputs": [
        {
          "output_type": "stream",
          "name": "stdout",
          "text": [
            "['/content/drive/My Drive/Colab Notebooks/Datasets/sports-video-data/sports-video-data/train_images/boxing', '/content/drive/My Drive/Colab Notebooks/Datasets/sports-video-data/sports-video-data/train_images/volleyball', '/content/drive/My Drive/Colab Notebooks/Datasets/sports-video-data/sports-video-data/train_images/baseball', '/content/drive/My Drive/Colab Notebooks/Datasets/sports-video-data/sports-video-data/train_images/basketball', '/content/drive/My Drive/Colab Notebooks/Datasets/sports-video-data/sports-video-data/train_images/football', '/content/drive/My Drive/Colab Notebooks/Datasets/sports-video-data/sports-video-data/train_images/models']\n"
          ]
        }
      ]
    },
    {
      "cell_type": "code",
      "source": [
        "from sklearn.utils import shuffle\n",
        "data = shuffle(data)\n",
        "data.head()"
      ],
      "metadata": {
        "colab": {
          "base_uri": "https://localhost:8080/",
          "height": 206
        },
        "id": "Pj3U_E4PVYKC",
        "outputId": "cead3c4b-2fc8-4f24-c9e3-cc254824af8b"
      },
      "execution_count": null,
      "outputs": [
        {
          "output_type": "execute_result",
          "data": {
            "text/plain": [
              "                                          image_path       class\n",
              "0  /content/drive/My Drive/Colab Notebooks/Datase...  volleyball\n",
              "0  /content/drive/My Drive/Colab Notebooks/Datase...  volleyball\n",
              "0  /content/drive/My Drive/Colab Notebooks/Datase...      boxing\n",
              "0  /content/drive/My Drive/Colab Notebooks/Datase...  basketball\n",
              "0  /content/drive/My Drive/Colab Notebooks/Datase...  volleyball"
            ],
            "text/html": [
              "\n",
              "  <div id=\"df-4bb7c7e1-4d55-4dd1-a672-468a548c4bc8\">\n",
              "    <div class=\"colab-df-container\">\n",
              "      <div>\n",
              "<style scoped>\n",
              "    .dataframe tbody tr th:only-of-type {\n",
              "        vertical-align: middle;\n",
              "    }\n",
              "\n",
              "    .dataframe tbody tr th {\n",
              "        vertical-align: top;\n",
              "    }\n",
              "\n",
              "    .dataframe thead th {\n",
              "        text-align: right;\n",
              "    }\n",
              "</style>\n",
              "<table border=\"1\" class=\"dataframe\">\n",
              "  <thead>\n",
              "    <tr style=\"text-align: right;\">\n",
              "      <th></th>\n",
              "      <th>image_path</th>\n",
              "      <th>class</th>\n",
              "    </tr>\n",
              "  </thead>\n",
              "  <tbody>\n",
              "    <tr>\n",
              "      <th>0</th>\n",
              "      <td>/content/drive/My Drive/Colab Notebooks/Datase...</td>\n",
              "      <td>volleyball</td>\n",
              "    </tr>\n",
              "    <tr>\n",
              "      <th>0</th>\n",
              "      <td>/content/drive/My Drive/Colab Notebooks/Datase...</td>\n",
              "      <td>volleyball</td>\n",
              "    </tr>\n",
              "    <tr>\n",
              "      <th>0</th>\n",
              "      <td>/content/drive/My Drive/Colab Notebooks/Datase...</td>\n",
              "      <td>boxing</td>\n",
              "    </tr>\n",
              "    <tr>\n",
              "      <th>0</th>\n",
              "      <td>/content/drive/My Drive/Colab Notebooks/Datase...</td>\n",
              "      <td>basketball</td>\n",
              "    </tr>\n",
              "    <tr>\n",
              "      <th>0</th>\n",
              "      <td>/content/drive/My Drive/Colab Notebooks/Datase...</td>\n",
              "      <td>volleyball</td>\n",
              "    </tr>\n",
              "  </tbody>\n",
              "</table>\n",
              "</div>\n",
              "      <button class=\"colab-df-convert\" onclick=\"convertToInteractive('df-4bb7c7e1-4d55-4dd1-a672-468a548c4bc8')\"\n",
              "              title=\"Convert this dataframe to an interactive table.\"\n",
              "              style=\"display:none;\">\n",
              "        \n",
              "  <svg xmlns=\"http://www.w3.org/2000/svg\" height=\"24px\"viewBox=\"0 0 24 24\"\n",
              "       width=\"24px\">\n",
              "    <path d=\"M0 0h24v24H0V0z\" fill=\"none\"/>\n",
              "    <path d=\"M18.56 5.44l.94 2.06.94-2.06 2.06-.94-2.06-.94-.94-2.06-.94 2.06-2.06.94zm-11 1L8.5 8.5l.94-2.06 2.06-.94-2.06-.94L8.5 2.5l-.94 2.06-2.06.94zm10 10l.94 2.06.94-2.06 2.06-.94-2.06-.94-.94-2.06-.94 2.06-2.06.94z\"/><path d=\"M17.41 7.96l-1.37-1.37c-.4-.4-.92-.59-1.43-.59-.52 0-1.04.2-1.43.59L10.3 9.45l-7.72 7.72c-.78.78-.78 2.05 0 2.83L4 21.41c.39.39.9.59 1.41.59.51 0 1.02-.2 1.41-.59l7.78-7.78 2.81-2.81c.8-.78.8-2.07 0-2.86zM5.41 20L4 18.59l7.72-7.72 1.47 1.35L5.41 20z\"/>\n",
              "  </svg>\n",
              "      </button>\n",
              "      \n",
              "  <style>\n",
              "    .colab-df-container {\n",
              "      display:flex;\n",
              "      flex-wrap:wrap;\n",
              "      gap: 12px;\n",
              "    }\n",
              "\n",
              "    .colab-df-convert {\n",
              "      background-color: #E8F0FE;\n",
              "      border: none;\n",
              "      border-radius: 50%;\n",
              "      cursor: pointer;\n",
              "      display: none;\n",
              "      fill: #1967D2;\n",
              "      height: 32px;\n",
              "      padding: 0 0 0 0;\n",
              "      width: 32px;\n",
              "    }\n",
              "\n",
              "    .colab-df-convert:hover {\n",
              "      background-color: #E2EBFA;\n",
              "      box-shadow: 0px 1px 2px rgba(60, 64, 67, 0.3), 0px 1px 3px 1px rgba(60, 64, 67, 0.15);\n",
              "      fill: #174EA6;\n",
              "    }\n",
              "\n",
              "    [theme=dark] .colab-df-convert {\n",
              "      background-color: #3B4455;\n",
              "      fill: #D2E3FC;\n",
              "    }\n",
              "\n",
              "    [theme=dark] .colab-df-convert:hover {\n",
              "      background-color: #434B5C;\n",
              "      box-shadow: 0px 1px 3px 1px rgba(0, 0, 0, 0.15);\n",
              "      filter: drop-shadow(0px 1px 2px rgba(0, 0, 0, 0.3));\n",
              "      fill: #FFFFFF;\n",
              "    }\n",
              "  </style>\n",
              "\n",
              "      <script>\n",
              "        const buttonEl =\n",
              "          document.querySelector('#df-4bb7c7e1-4d55-4dd1-a672-468a548c4bc8 button.colab-df-convert');\n",
              "        buttonEl.style.display =\n",
              "          google.colab.kernel.accessAllowed ? 'block' : 'none';\n",
              "\n",
              "        async function convertToInteractive(key) {\n",
              "          const element = document.querySelector('#df-4bb7c7e1-4d55-4dd1-a672-468a548c4bc8');\n",
              "          const dataTable =\n",
              "            await google.colab.kernel.invokeFunction('convertToInteractive',\n",
              "                                                     [key], {});\n",
              "          if (!dataTable) return;\n",
              "\n",
              "          const docLinkHtml = 'Like what you see? Visit the ' +\n",
              "            '<a target=\"_blank\" href=https://colab.research.google.com/notebooks/data_table.ipynb>data table notebook</a>'\n",
              "            + ' to learn more about interactive tables.';\n",
              "          element.innerHTML = '';\n",
              "          dataTable['output_type'] = 'display_data';\n",
              "          await google.colab.output.renderOutput(dataTable, element);\n",
              "          const docLink = document.createElement('div');\n",
              "          docLink.innerHTML = docLinkHtml;\n",
              "          element.appendChild(docLink);\n",
              "        }\n",
              "      </script>\n",
              "    </div>\n",
              "  </div>\n",
              "  "
            ]
          },
          "metadata": {},
          "execution_count": 4
        }
      ]
    },
    {
      "cell_type": "code",
      "source": [
        "data['class'].replace(['volleyball', 'basketball','baseball','football','boxing'],\n",
        "                        [0, 1,2,3,4], inplace=True)\n",
        "data.head()"
      ],
      "metadata": {
        "colab": {
          "base_uri": "https://localhost:8080/",
          "height": 206
        },
        "id": "6fGcXxn7XoQC",
        "outputId": "607e1b16-f3ef-47b2-dc20-7b87d39d41ef"
      },
      "execution_count": null,
      "outputs": [
        {
          "output_type": "execute_result",
          "data": {
            "text/plain": [
              "                                          image_path  class\n",
              "0  /content/drive/My Drive/Colab Notebooks/Datase...      0\n",
              "0  /content/drive/My Drive/Colab Notebooks/Datase...      0\n",
              "0  /content/drive/My Drive/Colab Notebooks/Datase...      4\n",
              "0  /content/drive/My Drive/Colab Notebooks/Datase...      1\n",
              "0  /content/drive/My Drive/Colab Notebooks/Datase...      0"
            ],
            "text/html": [
              "\n",
              "  <div id=\"df-7341ea9e-0d64-4ae2-ba0b-c3e73ca70d24\">\n",
              "    <div class=\"colab-df-container\">\n",
              "      <div>\n",
              "<style scoped>\n",
              "    .dataframe tbody tr th:only-of-type {\n",
              "        vertical-align: middle;\n",
              "    }\n",
              "\n",
              "    .dataframe tbody tr th {\n",
              "        vertical-align: top;\n",
              "    }\n",
              "\n",
              "    .dataframe thead th {\n",
              "        text-align: right;\n",
              "    }\n",
              "</style>\n",
              "<table border=\"1\" class=\"dataframe\">\n",
              "  <thead>\n",
              "    <tr style=\"text-align: right;\">\n",
              "      <th></th>\n",
              "      <th>image_path</th>\n",
              "      <th>class</th>\n",
              "    </tr>\n",
              "  </thead>\n",
              "  <tbody>\n",
              "    <tr>\n",
              "      <th>0</th>\n",
              "      <td>/content/drive/My Drive/Colab Notebooks/Datase...</td>\n",
              "      <td>0</td>\n",
              "    </tr>\n",
              "    <tr>\n",
              "      <th>0</th>\n",
              "      <td>/content/drive/My Drive/Colab Notebooks/Datase...</td>\n",
              "      <td>0</td>\n",
              "    </tr>\n",
              "    <tr>\n",
              "      <th>0</th>\n",
              "      <td>/content/drive/My Drive/Colab Notebooks/Datase...</td>\n",
              "      <td>4</td>\n",
              "    </tr>\n",
              "    <tr>\n",
              "      <th>0</th>\n",
              "      <td>/content/drive/My Drive/Colab Notebooks/Datase...</td>\n",
              "      <td>1</td>\n",
              "    </tr>\n",
              "    <tr>\n",
              "      <th>0</th>\n",
              "      <td>/content/drive/My Drive/Colab Notebooks/Datase...</td>\n",
              "      <td>0</td>\n",
              "    </tr>\n",
              "  </tbody>\n",
              "</table>\n",
              "</div>\n",
              "      <button class=\"colab-df-convert\" onclick=\"convertToInteractive('df-7341ea9e-0d64-4ae2-ba0b-c3e73ca70d24')\"\n",
              "              title=\"Convert this dataframe to an interactive table.\"\n",
              "              style=\"display:none;\">\n",
              "        \n",
              "  <svg xmlns=\"http://www.w3.org/2000/svg\" height=\"24px\"viewBox=\"0 0 24 24\"\n",
              "       width=\"24px\">\n",
              "    <path d=\"M0 0h24v24H0V0z\" fill=\"none\"/>\n",
              "    <path d=\"M18.56 5.44l.94 2.06.94-2.06 2.06-.94-2.06-.94-.94-2.06-.94 2.06-2.06.94zm-11 1L8.5 8.5l.94-2.06 2.06-.94-2.06-.94L8.5 2.5l-.94 2.06-2.06.94zm10 10l.94 2.06.94-2.06 2.06-.94-2.06-.94-.94-2.06-.94 2.06-2.06.94z\"/><path d=\"M17.41 7.96l-1.37-1.37c-.4-.4-.92-.59-1.43-.59-.52 0-1.04.2-1.43.59L10.3 9.45l-7.72 7.72c-.78.78-.78 2.05 0 2.83L4 21.41c.39.39.9.59 1.41.59.51 0 1.02-.2 1.41-.59l7.78-7.78 2.81-2.81c.8-.78.8-2.07 0-2.86zM5.41 20L4 18.59l7.72-7.72 1.47 1.35L5.41 20z\"/>\n",
              "  </svg>\n",
              "      </button>\n",
              "      \n",
              "  <style>\n",
              "    .colab-df-container {\n",
              "      display:flex;\n",
              "      flex-wrap:wrap;\n",
              "      gap: 12px;\n",
              "    }\n",
              "\n",
              "    .colab-df-convert {\n",
              "      background-color: #E8F0FE;\n",
              "      border: none;\n",
              "      border-radius: 50%;\n",
              "      cursor: pointer;\n",
              "      display: none;\n",
              "      fill: #1967D2;\n",
              "      height: 32px;\n",
              "      padding: 0 0 0 0;\n",
              "      width: 32px;\n",
              "    }\n",
              "\n",
              "    .colab-df-convert:hover {\n",
              "      background-color: #E2EBFA;\n",
              "      box-shadow: 0px 1px 2px rgba(60, 64, 67, 0.3), 0px 1px 3px 1px rgba(60, 64, 67, 0.15);\n",
              "      fill: #174EA6;\n",
              "    }\n",
              "\n",
              "    [theme=dark] .colab-df-convert {\n",
              "      background-color: #3B4455;\n",
              "      fill: #D2E3FC;\n",
              "    }\n",
              "\n",
              "    [theme=dark] .colab-df-convert:hover {\n",
              "      background-color: #434B5C;\n",
              "      box-shadow: 0px 1px 3px 1px rgba(0, 0, 0, 0.15);\n",
              "      filter: drop-shadow(0px 1px 2px rgba(0, 0, 0, 0.3));\n",
              "      fill: #FFFFFF;\n",
              "    }\n",
              "  </style>\n",
              "\n",
              "      <script>\n",
              "        const buttonEl =\n",
              "          document.querySelector('#df-7341ea9e-0d64-4ae2-ba0b-c3e73ca70d24 button.colab-df-convert');\n",
              "        buttonEl.style.display =\n",
              "          google.colab.kernel.accessAllowed ? 'block' : 'none';\n",
              "\n",
              "        async function convertToInteractive(key) {\n",
              "          const element = document.querySelector('#df-7341ea9e-0d64-4ae2-ba0b-c3e73ca70d24');\n",
              "          const dataTable =\n",
              "            await google.colab.kernel.invokeFunction('convertToInteractive',\n",
              "                                                     [key], {});\n",
              "          if (!dataTable) return;\n",
              "\n",
              "          const docLinkHtml = 'Like what you see? Visit the ' +\n",
              "            '<a target=\"_blank\" href=https://colab.research.google.com/notebooks/data_table.ipynb>data table notebook</a>'\n",
              "            + ' to learn more about interactive tables.';\n",
              "          element.innerHTML = '';\n",
              "          dataTable['output_type'] = 'display_data';\n",
              "          await google.colab.output.renderOutput(dataTable, element);\n",
              "          const docLink = document.createElement('div');\n",
              "          docLink.innerHTML = docLinkHtml;\n",
              "          element.appendChild(docLink);\n",
              "        }\n",
              "      </script>\n",
              "    </div>\n",
              "  </div>\n",
              "  "
            ]
          },
          "metadata": {},
          "execution_count": 5
        }
      ]
    },
    {
      "cell_type": "code",
      "source": [
        "data['class'].unique()"
      ],
      "metadata": {
        "colab": {
          "base_uri": "https://localhost:8080/"
        },
        "id": "fP0xOsHzYENB",
        "outputId": "6fd5875a-bbf6-488f-a24f-496dff3a31c0"
      },
      "execution_count": null,
      "outputs": [
        {
          "output_type": "execute_result",
          "data": {
            "text/plain": [
              "array([0, 4, 1, 2, 3])"
            ]
          },
          "metadata": {},
          "execution_count": 6
        }
      ]
    },
    {
      "cell_type": "code",
      "source": [
        "train_imgs = data['image_path'].tolist()\n",
        "train_labels = data['class'].tolist()"
      ],
      "metadata": {
        "id": "kJ4dbddxL_3e"
      },
      "execution_count": null,
      "outputs": []
    },
    {
      "cell_type": "code",
      "source": [
        "train_imgs[0]"
      ],
      "metadata": {
        "colab": {
          "base_uri": "https://localhost:8080/",
          "height": 36
        },
        "id": "v8-jpPG_aod5",
        "outputId": "218186f8-4acb-45fb-9ee6-783473fd5411"
      },
      "execution_count": null,
      "outputs": [
        {
          "output_type": "execute_result",
          "data": {
            "text/plain": [
              "'/content/drive/My Drive/Colab Notebooks/Datasets/sports-video-data/sports-video-data/train_images/volleyball/4667___e7d5c1dc360e4a43a9fb78861044431f_frame11.jpg'"
            ],
            "application/vnd.google.colaboratory.intrinsic+json": {
              "type": "string"
            }
          },
          "metadata": {},
          "execution_count": 8
        }
      ]
    },
    {
      "cell_type": "code",
      "source": [
        "import cv2\n",
        "def read_and_process_image(list_of_images, list_of_labels, numclasses=5):\n",
        "  \"\"\"\n",
        "  X = array of images\n",
        "  Y = array of labels\n",
        "  \"\"\"\n",
        "\n",
        "  X = []\n",
        "  Y = []\n",
        "\n",
        "  # X filling\n",
        "  counter = 0\n",
        "  for image in list_of_images:\n",
        "    X.append(cv2.resize( cv2.imread(image, cv2.IMREAD_COLOR), (178,178), interpolation=cv2.INTER_CUBIC ))\n",
        "    if counter %1000 ==0:\n",
        "      print(counter)\n",
        "    counter +=1\n",
        "\n",
        "\n",
        "  # Y filling\n",
        "  for label in list_of_labels:\n",
        "  \n",
        "    # each row will have a list of length= 5 with 1 or 0 in each position depending on label value\n",
        "    temp_labels = []\n",
        "    for i in range(5):\n",
        "\n",
        "        if label == i:\n",
        "            temp_labels.append(1)\n",
        "\n",
        "        else:\n",
        "            temp_labels.append(0)\n",
        "    \n",
        "    Y.append(temp_labels)\n",
        "\n",
        "  return X, Y"
      ],
      "metadata": {
        "id": "w8klB5tjYZv5"
      },
      "execution_count": null,
      "outputs": []
    },
    {
      "cell_type": "code",
      "source": [
        "X, Y = read_and_process_image(train_imgs, train_labels)\n",
        "\n",
        "X = np.array(X)\n",
        "Y = np.array(Y)\n",
        "\n",
        "print('Shape of image is: {}'.format(X.shape))\n",
        "print('Shape of labels is: {}'.format(Y.shape))\n",
        "\n"
      ],
      "metadata": {
        "colab": {
          "base_uri": "https://localhost:8080/"
        },
        "id": "RKL9AJ9pYaP6",
        "outputId": "8901094e-3dad-498d-b88b-1ace2402da4e"
      },
      "execution_count": null,
      "outputs": [
        {
          "output_type": "stream",
          "name": "stdout",
          "text": [
            "0\n",
            "1000\n",
            "2000\n",
            "3000\n",
            "4000\n",
            "5000\n",
            "6000\n",
            "7000\n",
            "8000\n",
            "9000\n",
            "10000\n",
            "Shape of image is: (10843, 178, 178, 3)\n",
            "Shape of labels is: (10843, 5)\n"
          ]
        }
      ]
    },
    {
      "cell_type": "code",
      "source": [
        "from sklearn.model_selection import train_test_split\n",
        "X_train, X_s, Y_train, Y_s = train_test_split( X, Y, test_size=0.3, random_state=11)\n",
        "X_test, X_val, Y_test, Y_val = train_test_split( X_s, Y_s, test_size=0.5, random_state=11)"
      ],
      "metadata": {
        "id": "TA6Nb0OPcFQw"
      },
      "execution_count": null,
      "outputs": []
    },
    {
      "cell_type": "code",
      "source": [
        "print('Shape of train set: {}'.format(X_train.shape))\n",
        "print('Shape of test set: {}'.format(X_test.shape))\n",
        "print('Shape of validation set: {}'.format(X_val.shape))\n",
        "print('Shape of train labels set: {}'.format(Y_train.shape))\n",
        "print('Shape of test labels set: {}'.format(Y_test.shape))\n",
        "print('Shape of validation labels set: {}'.format(Y_val.shape))"
      ],
      "metadata": {
        "colab": {
          "base_uri": "https://localhost:8080/"
        },
        "id": "mD1BN1PWcVGh",
        "outputId": "abbda313-aef4-497d-8c50-1b66886e12ff"
      },
      "execution_count": null,
      "outputs": [
        {
          "output_type": "stream",
          "name": "stdout",
          "text": [
            "Shape of train set: (7590, 178, 178, 3)\n",
            "Shape of test set: (1626, 178, 178, 3)\n",
            "Shape of validation set: (1627, 178, 178, 3)\n",
            "Shape of train labels set: (7590, 5)\n",
            "Shape of test labels set: (1626, 5)\n",
            "Shape of validation labels set: (1627, 5)\n"
          ]
        }
      ]
    },
    {
      "cell_type": "code",
      "source": [
        "train_length = X_train.shape[0]\n",
        "validation_length = X_val.shape[0]"
      ],
      "metadata": {
        "id": "kVjqe3gndrgP"
      },
      "execution_count": null,
      "outputs": []
    },
    {
      "cell_type": "code",
      "source": [
        "import tensorflow as tf\n",
        "from tensorflow import keras\n",
        "from keras import layers\n",
        "from keras import models\n",
        "from keras import optimizers\n",
        "from keras.preprocessing.image import ImageDataGenerator\n",
        "from keras.preprocessing.image import img_to_array, load_img\n",
        "import seaborn as sns\n",
        "import numpy as np\n",
        "import pandas as pd\n",
        "import tensorflow as tf\n",
        "import matplotlib.pyplot as plt\n",
        "import tensorflow as tf\n",
        "import tensorflow.keras.layers as layer\n",
        "import tensorflow.keras as ker\n",
        "from tensorflow.keras.layers import ZeroPadding2D\n",
        "%reload_ext tensorboard"
      ],
      "metadata": {
        "id": "lgdj6krwd5ZB"
      },
      "execution_count": null,
      "outputs": []
    },
    {
      "cell_type": "code",
      "source": [
        "# model = models.Sequential()\n",
        "# model.add(layers.Conv2D(32, (3,3), activation='relu', input_shape=(64,64,3)))\n",
        "# model.add(layers.MaxPooling2D((2, 2)))\n",
        "# model.add(layers.Conv2D(64, (3,3), activation='relu'))\n",
        "# model.add(layers.MaxPooling2D((2, 2)))\n",
        "# model.add(layers.Conv2D(128, (3,3), activation='relu'))\n",
        "# model.add(layers.MaxPooling2D((2, 2)))\n",
        "# model.add(layers.Conv2D(128, (3,3), activation='relu'))\n",
        "# model.add(layers.MaxPooling2D((2, 2)))\n",
        "\n",
        "# model.add(layers.Flatten())\n",
        "# model.add(layers.Dropout(0.5))  #for normalization\n",
        "# model.add(layers.Dense(512, activation='relu'))\n",
        "# model.add(layers.Dense(5, activation='softmax'))\n",
        "\n",
        "x_in=layer.Input((178,178,3))\n",
        "# x_in_fovea=layer.Input((178,178,3))\n",
        "# x_in_context=layer.Input((178,178,3))\n",
        "\n",
        "#### Branch 1: context\n",
        "conv1=layer.Resizing(89,89, interpolation='bilinear')(x_in)\n",
        "conv1=layer.Conv2D(96, (3, 3), padding='same',input_shape=X_train.shape[1:])(conv1)#,dilation_rate=(1,1)\n",
        "conv1=layer.Activation('relu')(conv1)\n",
        "conv1=layer.Dropout(.1)(conv1)\n",
        "conv1=layer.MaxPool2D(pool_size=(2, 2))(conv1)\n",
        "\n",
        "\n",
        "conv1=layer.Conv2D(256, (3, 3), padding='same')(conv1)#,dilation_rate=(1,1)\n",
        "conv1=layer.Activation('relu')(conv1)\n",
        "conv1=layer.Dropout(.1)(conv1)\n",
        "conv1=layer.MaxPool2D(pool_size=(2, 2))(conv1)\n",
        "\n",
        "\n",
        "conv1=layer.Conv2D(384, (3, 3), padding='same')(conv1)#,dilation_rate=(1,1)\n",
        "conv1=layer.Activation('relu')(conv1)\n",
        "conv1=layer.Dropout(.1)(conv1)\n",
        "conv1=layer.MaxPool2D(pool_size=(2, 2))(conv1)\n",
        "\n",
        "conv1=layer.Conv2D(384, (3, 3), padding='same')(conv1)#,dilation_rate=(1,1)\n",
        "conv1=layer.Activation('relu')(conv1)\n",
        "conv1=layer.Dropout(.1)(conv1)\n",
        "conv1=layer.MaxPool2D(pool_size=(2, 2))(conv1)\n",
        "\n",
        "conv1=layer.Conv2D(256, (3, 3), padding='same')(conv1)#,dilation_rate=(1,1)\n",
        "conv1=layer.Activation('relu')(conv1)\n",
        "conv1=layer.Dropout(.1)(conv1)\n",
        "conv1=layer.MaxPool2D(pool_size=(2, 2))(conv1)\n",
        "\n",
        "\n",
        "conv1=layer.Flatten()(conv1)\n",
        "#conv1=layer.Dense(units=10,activation='relu',input_shape=(128,))(conv1)\n",
        "# conv1=layer.Dense(units=10,activation='sigmoid')\n",
        "\n",
        "#### Branch 2 fovea\n",
        "conv2=layer.Cropping2D(cropping=((44, 44), (44, 44)))(x_in)\n",
        "conv2=layer.Conv2D(96, (3, 3), padding='same',input_shape=X_train.shape[1:])(conv2)#,dilation_rate=(1,1)\n",
        "conv2=layer.Activation('relu')(conv2)\n",
        "conv2=layer.Dropout(.1)(conv2)\n",
        "conv2=layer.MaxPool2D(pool_size=(2, 2))(conv2)\n",
        "\n",
        "\n",
        "conv2=layer.Conv2D(256, (3, 3), padding='same')(conv2)#,dilation_rate=(1,1)\n",
        "conv2=layer.Activation('relu')(conv2)\n",
        "conv2=layer.Dropout(.1)(conv2)\n",
        "conv2=layer.MaxPool2D(pool_size=(2, 2))(conv2)\n",
        "\n",
        "\n",
        "conv2=layer.Conv2D(384, (3, 3), padding='same')(conv2)#,dilation_rate=(1,1)\n",
        "conv2=layer.Activation('relu')(conv2)\n",
        "conv2=layer.Dropout(.1)(conv2)\n",
        "conv2=layer.MaxPool2D(pool_size=(2, 2))(conv2)\n",
        "\n",
        "conv2=layer.Conv2D(384, (3, 3), padding='same')(conv2)#,dilation_rate=(1,1)\n",
        "conv2=layer.Activation('relu')(conv2)\n",
        "conv2=layer.Dropout(.1)(conv2)\n",
        "conv2=layer.MaxPool2D(pool_size=(2, 2))(conv2)\n",
        "\n",
        "conv2=layer.Conv2D(256, (3, 3), padding='same')(conv2)#,dilation_rate=(1,1)\n",
        "conv2=layer.Activation('relu')(conv2)\n",
        "conv2=layer.Dropout(.1)(conv2)\n",
        "conv2=layer.MaxPool2D(pool_size=(2, 2))(conv2)\n",
        "\n",
        "\n",
        "conv2=layer.Flatten()(conv2)\n",
        "\n",
        "#conv2=layer.Dense(units=10,activation='relu',input_shape=(128,))(conv2)\n",
        "#### Concatenate the 2 branches:\n",
        "Conc_out = layer.Concatenate()([conv1,conv2])#\n",
        "#Dropout=layer.Dropout(.1)(Conc_out)\n",
        "D1=layer.Dense(512, activation='relu')(Conc_out)\n",
        "output= layer.Dense(units=5, activation=\"softmax\")(D1)"
      ],
      "metadata": {
        "id": "ZLC1pO3gdsEI"
      },
      "execution_count": null,
      "outputs": []
    },
    {
      "cell_type": "code",
      "source": [
        "train_datagen = ImageDataGenerator(rescale=1./255,          #Scale the image between 0 and 1\n",
        "\n",
        "                                    #Data Augmentation, applied as random transformations\n",
        "                                    rotation_range=40,      \n",
        "                                    width_shift_range=0.2,\n",
        "                                    height_shift_range=0.2,\n",
        "                                    shear_range=0.2,\n",
        "                                    zoom_range=0.2,\n",
        "                                    horizontal_flip=True,)\n",
        "val_datagen = ImageDataGenerator(rescale=1./255)            #Not applying data augmentation to the validation data"
      ],
      "metadata": {
        "id": "06WIA-GPes7f"
      },
      "execution_count": null,
      "outputs": []
    },
    {
      "cell_type": "code",
      "source": [
        "train_generator = train_datagen.flow(X_train, Y_train, batch_size=64)\n",
        "val_generator = val_datagen.flow(X_val, Y_val, batch_size=64)"
      ],
      "metadata": {
        "id": "ChGQXgILevRH"
      },
      "execution_count": null,
      "outputs": []
    },
    {
      "cell_type": "code",
      "source": [
        "model = ker.Model(inputs=x_in , outputs=output)\n",
        "model.compile(loss=\"categorical_crossentropy\", optimizer=\"sgd\", metrics=[\"accuracy\"])"
      ],
      "metadata": {
        "id": "ohxd5HcOeiuP"
      },
      "execution_count": null,
      "outputs": []
    },
    {
      "cell_type": "code",
      "source": [
        "history = model.fit(train_generator,\n",
        "                    steps_per_epoch = train_length//64,       #how many images will be processed before gradient\n",
        "                    epochs = 120,                                  #full-pass through data\n",
        "                    validation_data = val_generator,                  \n",
        "                    validation_steps = validation_length//64)"
      ],
      "metadata": {
        "colab": {
          "base_uri": "https://localhost:8080/"
        },
        "id": "Bd9mRO71e7q3",
        "outputId": "bccfde48-721f-4847-820b-f3bcffea6876"
      },
      "execution_count": null,
      "outputs": [
        {
          "output_type": "stream",
          "name": "stdout",
          "text": [
            "Epoch 1/120\n",
            "118/118 [==============================] - 54s 457ms/step - loss: 1.3289 - accuracy: 0.4694 - val_loss: 1.4048 - val_accuracy: 0.4319\n",
            "Epoch 2/120\n",
            "118/118 [==============================] - 54s 456ms/step - loss: 1.2852 - accuracy: 0.4887 - val_loss: 1.2989 - val_accuracy: 0.5288\n",
            "Epoch 3/120\n",
            "118/118 [==============================] - 54s 455ms/step - loss: 1.2170 - accuracy: 0.5203 - val_loss: 1.2050 - val_accuracy: 0.5387\n",
            "Epoch 4/120\n",
            "118/118 [==============================] - 54s 457ms/step - loss: 1.1497 - accuracy: 0.5468 - val_loss: 1.1753 - val_accuracy: 0.5800\n",
            "Epoch 5/120\n",
            "118/118 [==============================] - 54s 455ms/step - loss: 1.0858 - accuracy: 0.5759 - val_loss: 1.1117 - val_accuracy: 0.6313\n",
            "Epoch 6/120\n",
            "118/118 [==============================] - 54s 457ms/step - loss: 1.0234 - accuracy: 0.6066 - val_loss: 1.0157 - val_accuracy: 0.6388\n",
            "Epoch 7/120\n",
            "118/118 [==============================] - 54s 454ms/step - loss: 0.9786 - accuracy: 0.6225 - val_loss: 0.9523 - val_accuracy: 0.6719\n",
            "Epoch 8/120\n",
            "118/118 [==============================] - 54s 454ms/step - loss: 0.9319 - accuracy: 0.6410 - val_loss: 0.9413 - val_accuracy: 0.7000\n",
            "Epoch 9/120\n",
            "118/118 [==============================] - 53s 452ms/step - loss: 0.8942 - accuracy: 0.6600 - val_loss: 0.9024 - val_accuracy: 0.6994\n",
            "Epoch 10/120\n",
            "118/118 [==============================] - 54s 454ms/step - loss: 0.8748 - accuracy: 0.6701 - val_loss: 0.8599 - val_accuracy: 0.7225\n",
            "Epoch 11/120\n",
            "118/118 [==============================] - 54s 457ms/step - loss: 0.8320 - accuracy: 0.6854 - val_loss: 0.8068 - val_accuracy: 0.7344\n",
            "Epoch 12/120\n",
            "118/118 [==============================] - 54s 458ms/step - loss: 0.8080 - accuracy: 0.6985 - val_loss: 0.7977 - val_accuracy: 0.7425\n",
            "Epoch 13/120\n",
            "118/118 [==============================] - 54s 458ms/step - loss: 0.7743 - accuracy: 0.7064 - val_loss: 0.7725 - val_accuracy: 0.7788\n",
            "Epoch 14/120\n",
            "118/118 [==============================] - 54s 459ms/step - loss: 0.7596 - accuracy: 0.7133 - val_loss: 0.7826 - val_accuracy: 0.7469\n",
            "Epoch 15/120\n",
            "118/118 [==============================] - 54s 456ms/step - loss: 0.7419 - accuracy: 0.7137 - val_loss: 0.7492 - val_accuracy: 0.7331\n",
            "Epoch 16/120\n",
            "118/118 [==============================] - 54s 456ms/step - loss: 0.7238 - accuracy: 0.7293 - val_loss: 0.6867 - val_accuracy: 0.7906\n",
            "Epoch 17/120\n",
            "118/118 [==============================] - 54s 454ms/step - loss: 0.7102 - accuracy: 0.7287 - val_loss: 0.6504 - val_accuracy: 0.8150\n",
            "Epoch 18/120\n",
            "118/118 [==============================] - 54s 455ms/step - loss: 0.6814 - accuracy: 0.7446 - val_loss: 0.6497 - val_accuracy: 0.7950\n",
            "Epoch 19/120\n",
            "118/118 [==============================] - 54s 456ms/step - loss: 0.6671 - accuracy: 0.7441 - val_loss: 0.6216 - val_accuracy: 0.8100\n",
            "Epoch 20/120\n",
            "118/118 [==============================] - 54s 457ms/step - loss: 0.6526 - accuracy: 0.7519 - val_loss: 0.6369 - val_accuracy: 0.8194\n",
            "Epoch 21/120\n",
            "118/118 [==============================] - 54s 456ms/step - loss: 0.6347 - accuracy: 0.7612 - val_loss: 0.6106 - val_accuracy: 0.8037\n",
            "Epoch 22/120\n",
            "118/118 [==============================] - 54s 457ms/step - loss: 0.6345 - accuracy: 0.7620 - val_loss: 0.6615 - val_accuracy: 0.7619\n",
            "Epoch 23/120\n",
            "118/118 [==============================] - 54s 456ms/step - loss: 0.6066 - accuracy: 0.7742 - val_loss: 0.5369 - val_accuracy: 0.8431\n",
            "Epoch 24/120\n",
            "118/118 [==============================] - 54s 456ms/step - loss: 0.6109 - accuracy: 0.7736 - val_loss: 0.5592 - val_accuracy: 0.8231\n",
            "Epoch 25/120\n",
            "118/118 [==============================] - 54s 455ms/step - loss: 0.5740 - accuracy: 0.7862 - val_loss: 0.5481 - val_accuracy: 0.8306\n",
            "Epoch 26/120\n",
            "118/118 [==============================] - 54s 456ms/step - loss: 0.5915 - accuracy: 0.7818 - val_loss: 0.5092 - val_accuracy: 0.8475\n",
            "Epoch 27/120\n",
            "118/118 [==============================] - 54s 454ms/step - loss: 0.5622 - accuracy: 0.7898 - val_loss: 0.5465 - val_accuracy: 0.8594\n",
            "Epoch 28/120\n",
            "118/118 [==============================] - 54s 456ms/step - loss: 0.5530 - accuracy: 0.7966 - val_loss: 0.4929 - val_accuracy: 0.8494\n",
            "Epoch 29/120\n",
            "118/118 [==============================] - 54s 454ms/step - loss: 0.5287 - accuracy: 0.8045 - val_loss: 0.4831 - val_accuracy: 0.8625\n",
            "Epoch 30/120\n",
            "118/118 [==============================] - 54s 455ms/step - loss: 0.5310 - accuracy: 0.8024 - val_loss: 0.4783 - val_accuracy: 0.8369\n",
            "Epoch 31/120\n",
            "118/118 [==============================] - 54s 454ms/step - loss: 0.4982 - accuracy: 0.8168 - val_loss: 0.4479 - val_accuracy: 0.8619\n",
            "Epoch 32/120\n",
            "118/118 [==============================] - 54s 454ms/step - loss: 0.5067 - accuracy: 0.8149 - val_loss: 0.4817 - val_accuracy: 0.8469\n",
            "Epoch 33/120\n",
            "118/118 [==============================] - 54s 454ms/step - loss: 0.4904 - accuracy: 0.8128 - val_loss: 0.4503 - val_accuracy: 0.8544\n",
            "Epoch 34/120\n",
            "118/118 [==============================] - 54s 453ms/step - loss: 0.4762 - accuracy: 0.8281 - val_loss: 0.4443 - val_accuracy: 0.8537\n",
            "Epoch 35/120\n",
            "118/118 [==============================] - 54s 453ms/step - loss: 0.4603 - accuracy: 0.8318 - val_loss: 0.4323 - val_accuracy: 0.8481\n",
            "Epoch 36/120\n",
            "118/118 [==============================] - 54s 453ms/step - loss: 0.4544 - accuracy: 0.8302 - val_loss: 0.3823 - val_accuracy: 0.8881\n",
            "Epoch 37/120\n",
            "118/118 [==============================] - 54s 453ms/step - loss: 0.4440 - accuracy: 0.8382 - val_loss: 0.3675 - val_accuracy: 0.8894\n",
            "Epoch 38/120\n",
            "118/118 [==============================] - 54s 455ms/step - loss: 0.4320 - accuracy: 0.8445 - val_loss: 0.3978 - val_accuracy: 0.8806\n",
            "Epoch 39/120\n",
            "118/118 [==============================] - 54s 455ms/step - loss: 0.4286 - accuracy: 0.8460 - val_loss: 0.3406 - val_accuracy: 0.8931\n",
            "Epoch 40/120\n",
            "118/118 [==============================] - 54s 454ms/step - loss: 0.4241 - accuracy: 0.8443 - val_loss: 0.3374 - val_accuracy: 0.9050\n",
            "Epoch 41/120\n",
            "118/118 [==============================] - 54s 453ms/step - loss: 0.3894 - accuracy: 0.8598 - val_loss: 0.3646 - val_accuracy: 0.8694\n",
            "Epoch 42/120\n",
            "118/118 [==============================] - 53s 452ms/step - loss: 0.4019 - accuracy: 0.8528 - val_loss: 0.3337 - val_accuracy: 0.9056\n",
            "Epoch 43/120\n",
            "118/118 [==============================] - 53s 451ms/step - loss: 0.3685 - accuracy: 0.8685 - val_loss: 0.3968 - val_accuracy: 0.8819\n",
            "Epoch 44/120\n",
            "118/118 [==============================] - 54s 453ms/step - loss: 0.3710 - accuracy: 0.8673 - val_loss: 0.3025 - val_accuracy: 0.9150\n",
            "Epoch 45/120\n",
            "118/118 [==============================] - 53s 452ms/step - loss: 0.3531 - accuracy: 0.8736 - val_loss: 0.2846 - val_accuracy: 0.9119\n",
            "Epoch 46/120\n",
            "118/118 [==============================] - 54s 453ms/step - loss: 0.3499 - accuracy: 0.8693 - val_loss: 0.3206 - val_accuracy: 0.9206\n",
            "Epoch 47/120\n",
            "118/118 [==============================] - 53s 451ms/step - loss: 0.3526 - accuracy: 0.8695 - val_loss: 0.5055 - val_accuracy: 0.8244\n",
            "Epoch 48/120\n",
            "118/118 [==============================] - 53s 452ms/step - loss: 0.3321 - accuracy: 0.8829 - val_loss: 0.2764 - val_accuracy: 0.9206\n",
            "Epoch 49/120\n",
            "118/118 [==============================] - 53s 451ms/step - loss: 0.3281 - accuracy: 0.8824 - val_loss: 0.2670 - val_accuracy: 0.9281\n",
            "Epoch 50/120\n",
            "118/118 [==============================] - 53s 452ms/step - loss: 0.3274 - accuracy: 0.8884 - val_loss: 0.2473 - val_accuracy: 0.9375\n",
            "Epoch 51/120\n",
            "118/118 [==============================] - 53s 449ms/step - loss: 0.3179 - accuracy: 0.8891 - val_loss: 0.2492 - val_accuracy: 0.9312\n",
            "Epoch 52/120\n",
            "118/118 [==============================] - 54s 453ms/step - loss: 0.2888 - accuracy: 0.8945 - val_loss: 0.2415 - val_accuracy: 0.9244\n",
            "Epoch 53/120\n",
            "118/118 [==============================] - 53s 451ms/step - loss: 0.2992 - accuracy: 0.8944 - val_loss: 0.3127 - val_accuracy: 0.8863\n",
            "Epoch 54/120\n",
            "118/118 [==============================] - 53s 452ms/step - loss: 0.2826 - accuracy: 0.8974 - val_loss: 0.2175 - val_accuracy: 0.9375\n",
            "Epoch 55/120\n",
            "118/118 [==============================] - 53s 452ms/step - loss: 0.2761 - accuracy: 0.9017 - val_loss: 0.2843 - val_accuracy: 0.8969\n",
            "Epoch 56/120\n",
            "118/118 [==============================] - 54s 455ms/step - loss: 0.2885 - accuracy: 0.8946 - val_loss: 0.2174 - val_accuracy: 0.9356\n",
            "Epoch 57/120\n",
            "118/118 [==============================] - 54s 456ms/step - loss: 0.2964 - accuracy: 0.8938 - val_loss: 0.3300 - val_accuracy: 0.8844\n",
            "Epoch 58/120\n",
            "118/118 [==============================] - 54s 454ms/step - loss: 0.2557 - accuracy: 0.9070 - val_loss: 0.1943 - val_accuracy: 0.9450\n",
            "Epoch 59/120\n",
            "118/118 [==============================] - 54s 454ms/step - loss: 0.2652 - accuracy: 0.9077 - val_loss: 0.2117 - val_accuracy: 0.9319\n",
            "Epoch 60/120\n",
            "118/118 [==============================] - 54s 455ms/step - loss: 0.2400 - accuracy: 0.9160 - val_loss: 0.1810 - val_accuracy: 0.9475\n",
            "Epoch 61/120\n",
            "118/118 [==============================] - 53s 452ms/step - loss: 0.2545 - accuracy: 0.9079 - val_loss: 0.1910 - val_accuracy: 0.9463\n",
            "Epoch 62/120\n",
            "118/118 [==============================] - 54s 453ms/step - loss: 0.2508 - accuracy: 0.9104 - val_loss: 0.2009 - val_accuracy: 0.9425\n",
            "Epoch 63/120\n",
            "118/118 [==============================] - 54s 454ms/step - loss: 0.2247 - accuracy: 0.9211 - val_loss: 0.2026 - val_accuracy: 0.9469\n",
            "Epoch 64/120\n",
            "118/118 [==============================] - 54s 454ms/step - loss: 0.2137 - accuracy: 0.9269 - val_loss: 0.1667 - val_accuracy: 0.9525\n",
            "Epoch 65/120\n",
            "118/118 [==============================] - 54s 455ms/step - loss: 0.2211 - accuracy: 0.9203 - val_loss: 0.1886 - val_accuracy: 0.9456\n",
            "Epoch 66/120\n",
            "118/118 [==============================] - 54s 454ms/step - loss: 0.2167 - accuracy: 0.9272 - val_loss: 0.2368 - val_accuracy: 0.9344\n",
            "Epoch 67/120\n",
            "118/118 [==============================] - 54s 455ms/step - loss: 0.2144 - accuracy: 0.9281 - val_loss: 0.1509 - val_accuracy: 0.9575\n",
            "Epoch 68/120\n",
            "118/118 [==============================] - 54s 454ms/step - loss: 0.2074 - accuracy: 0.9286 - val_loss: 0.1850 - val_accuracy: 0.9556\n",
            "Epoch 69/120\n",
            "118/118 [==============================] - 54s 454ms/step - loss: 0.1997 - accuracy: 0.9300 - val_loss: 0.1461 - val_accuracy: 0.9569\n",
            "Epoch 70/120\n",
            "118/118 [==============================] - 54s 454ms/step - loss: 0.2012 - accuracy: 0.9267 - val_loss: 0.1480 - val_accuracy: 0.9581\n",
            "Epoch 71/120\n",
            "118/118 [==============================] - 54s 454ms/step - loss: 0.1821 - accuracy: 0.9375 - val_loss: 0.1883 - val_accuracy: 0.9256\n",
            "Epoch 72/120\n",
            "118/118 [==============================] - 54s 453ms/step - loss: 0.1857 - accuracy: 0.9369 - val_loss: 0.1430 - val_accuracy: 0.9631\n",
            "Epoch 73/120\n",
            "118/118 [==============================] - 53s 452ms/step - loss: 0.1867 - accuracy: 0.9358 - val_loss: 0.1399 - val_accuracy: 0.9631\n",
            "Epoch 74/120\n",
            "118/118 [==============================] - 54s 453ms/step - loss: 0.1788 - accuracy: 0.9386 - val_loss: 0.1433 - val_accuracy: 0.9569\n",
            "Epoch 75/120\n",
            "118/118 [==============================] - 54s 453ms/step - loss: 0.1786 - accuracy: 0.9368 - val_loss: 0.1439 - val_accuracy: 0.9563\n",
            "Epoch 76/120\n",
            "118/118 [==============================] - 54s 454ms/step - loss: 0.1718 - accuracy: 0.9391 - val_loss: 0.1403 - val_accuracy: 0.9644\n",
            "Epoch 77/120\n",
            "118/118 [==============================] - 54s 454ms/step - loss: 0.1769 - accuracy: 0.9369 - val_loss: 0.1368 - val_accuracy: 0.9638\n",
            "Epoch 78/120\n",
            "118/118 [==============================] - 54s 454ms/step - loss: 0.1624 - accuracy: 0.9465 - val_loss: 0.1333 - val_accuracy: 0.9600\n",
            "Epoch 79/120\n",
            "118/118 [==============================] - 54s 454ms/step - loss: 0.1688 - accuracy: 0.9399 - val_loss: 0.1120 - val_accuracy: 0.9694\n",
            "Epoch 80/120\n",
            "118/118 [==============================] - 54s 453ms/step - loss: 0.1647 - accuracy: 0.9403 - val_loss: 0.1311 - val_accuracy: 0.9706\n",
            "Epoch 81/120\n",
            "118/118 [==============================] - 53s 452ms/step - loss: 0.1561 - accuracy: 0.9425 - val_loss: 0.1279 - val_accuracy: 0.9531\n",
            "Epoch 82/120\n",
            "118/118 [==============================] - 54s 453ms/step - loss: 0.1501 - accuracy: 0.9454 - val_loss: 0.1246 - val_accuracy: 0.9712\n",
            "Epoch 83/120\n",
            "118/118 [==============================] - 54s 454ms/step - loss: 0.1648 - accuracy: 0.9409 - val_loss: 0.1097 - val_accuracy: 0.9700\n",
            "Epoch 84/120\n",
            "118/118 [==============================] - 54s 455ms/step - loss: 0.1309 - accuracy: 0.9543 - val_loss: 0.1056 - val_accuracy: 0.9706\n",
            "Epoch 85/120\n",
            "118/118 [==============================] - 54s 453ms/step - loss: 0.1502 - accuracy: 0.9458 - val_loss: 0.1903 - val_accuracy: 0.9312\n",
            "Epoch 86/120\n",
            "118/118 [==============================] - 54s 455ms/step - loss: 0.1667 - accuracy: 0.9407 - val_loss: 0.1032 - val_accuracy: 0.9719\n",
            "Epoch 87/120\n",
            "118/118 [==============================] - 53s 452ms/step - loss: 0.1263 - accuracy: 0.9558 - val_loss: 0.1103 - val_accuracy: 0.9675\n",
            "Epoch 88/120\n",
            "118/118 [==============================] - 54s 455ms/step - loss: 0.1302 - accuracy: 0.9530 - val_loss: 0.1102 - val_accuracy: 0.9737\n",
            "Epoch 89/120\n",
            "118/118 [==============================] - 53s 452ms/step - loss: 0.1226 - accuracy: 0.9559 - val_loss: 0.1009 - val_accuracy: 0.9744\n",
            "Epoch 90/120\n",
            "118/118 [==============================] - 54s 455ms/step - loss: 0.1378 - accuracy: 0.9528 - val_loss: 0.0993 - val_accuracy: 0.9781\n",
            "Epoch 91/120\n",
            "118/118 [==============================] - 54s 453ms/step - loss: 0.1366 - accuracy: 0.9500 - val_loss: 0.1038 - val_accuracy: 0.9719\n",
            "Epoch 92/120\n",
            "118/118 [==============================] - 54s 454ms/step - loss: 0.1378 - accuracy: 0.9518 - val_loss: 0.1197 - val_accuracy: 0.9631\n",
            "Epoch 93/120\n",
            "118/118 [==============================] - 54s 453ms/step - loss: 0.1265 - accuracy: 0.9554 - val_loss: 0.1100 - val_accuracy: 0.9737\n",
            "Epoch 94/120\n",
            "118/118 [==============================] - 54s 454ms/step - loss: 0.1132 - accuracy: 0.9607 - val_loss: 0.0879 - val_accuracy: 0.9787\n",
            "Epoch 95/120\n",
            "118/118 [==============================] - 54s 453ms/step - loss: 0.1304 - accuracy: 0.9531 - val_loss: 0.0841 - val_accuracy: 0.9781\n",
            "Epoch 96/120\n",
            "118/118 [==============================] - 53s 451ms/step - loss: 0.1159 - accuracy: 0.9585 - val_loss: 0.1184 - val_accuracy: 0.9638\n",
            "Epoch 97/120\n",
            "118/118 [==============================] - 53s 452ms/step - loss: 0.1238 - accuracy: 0.9587 - val_loss: 0.0810 - val_accuracy: 0.9775\n",
            "Epoch 98/120\n",
            "118/118 [==============================] - 53s 452ms/step - loss: 0.1160 - accuracy: 0.9608 - val_loss: 0.1012 - val_accuracy: 0.9725\n",
            "Epoch 99/120\n",
            "118/118 [==============================] - 53s 452ms/step - loss: 0.1206 - accuracy: 0.9577 - val_loss: 0.0793 - val_accuracy: 0.9806\n",
            "Epoch 100/120\n",
            "118/118 [==============================] - 53s 452ms/step - loss: 0.0967 - accuracy: 0.9677 - val_loss: 0.0784 - val_accuracy: 0.9744\n",
            "Epoch 101/120\n",
            "118/118 [==============================] - 53s 450ms/step - loss: 0.1081 - accuracy: 0.9631 - val_loss: 0.0803 - val_accuracy: 0.9769\n",
            "Epoch 102/120\n",
            "118/118 [==============================] - 53s 451ms/step - loss: 0.0990 - accuracy: 0.9656 - val_loss: 0.0874 - val_accuracy: 0.9750\n",
            "Epoch 103/120\n",
            "118/118 [==============================] - 53s 452ms/step - loss: 0.1012 - accuracy: 0.9635 - val_loss: 0.0803 - val_accuracy: 0.9781\n",
            "Epoch 104/120\n",
            "118/118 [==============================] - 53s 450ms/step - loss: 0.1116 - accuracy: 0.9613 - val_loss: 0.1038 - val_accuracy: 0.9700\n",
            "Epoch 105/120\n",
            "118/118 [==============================] - 53s 454ms/step - loss: 0.1011 - accuracy: 0.9651 - val_loss: 0.0765 - val_accuracy: 0.9762\n",
            "Epoch 106/120\n",
            "118/118 [==============================] - 53s 450ms/step - loss: 0.0965 - accuracy: 0.9668 - val_loss: 0.0967 - val_accuracy: 0.9806\n",
            "Epoch 107/120\n",
            "118/118 [==============================] - 53s 450ms/step - loss: 0.0969 - accuracy: 0.9665 - val_loss: 0.0765 - val_accuracy: 0.9806\n",
            "Epoch 108/120\n",
            "118/118 [==============================] - 53s 450ms/step - loss: 0.0929 - accuracy: 0.9694 - val_loss: 0.0674 - val_accuracy: 0.9819\n",
            "Epoch 109/120\n",
            "118/118 [==============================] - 53s 452ms/step - loss: 0.0881 - accuracy: 0.9689 - val_loss: 0.0753 - val_accuracy: 0.9825\n",
            "Epoch 110/120\n",
            "118/118 [==============================] - 53s 450ms/step - loss: 0.0968 - accuracy: 0.9670 - val_loss: 0.0664 - val_accuracy: 0.9800\n",
            "Epoch 111/120\n",
            "118/118 [==============================] - 54s 456ms/step - loss: 0.0867 - accuracy: 0.9716 - val_loss: 0.0849 - val_accuracy: 0.9800\n",
            "Epoch 112/120\n",
            "118/118 [==============================] - 54s 458ms/step - loss: 0.0897 - accuracy: 0.9657 - val_loss: 0.0625 - val_accuracy: 0.9800\n",
            "Epoch 113/120\n",
            "118/118 [==============================] - 54s 458ms/step - loss: 0.0946 - accuracy: 0.9672 - val_loss: 0.0645 - val_accuracy: 0.9812\n",
            "Epoch 114/120\n",
            "118/118 [==============================] - 54s 458ms/step - loss: 0.0864 - accuracy: 0.9693 - val_loss: 0.1032 - val_accuracy: 0.9675\n",
            "Epoch 115/120\n",
            "118/118 [==============================] - 54s 457ms/step - loss: 0.0914 - accuracy: 0.9663 - val_loss: 0.0717 - val_accuracy: 0.9812\n",
            "Epoch 116/120\n",
            "118/118 [==============================] - 54s 457ms/step - loss: 0.0853 - accuracy: 0.9692 - val_loss: 0.0620 - val_accuracy: 0.9850\n",
            "Epoch 117/120\n",
            "118/118 [==============================] - 54s 459ms/step - loss: 0.0783 - accuracy: 0.9708 - val_loss: 0.0582 - val_accuracy: 0.9844\n",
            "Epoch 118/120\n",
            "118/118 [==============================] - 54s 458ms/step - loss: 0.0848 - accuracy: 0.9708 - val_loss: 0.0889 - val_accuracy: 0.9706\n",
            "Epoch 119/120\n",
            "118/118 [==============================] - 54s 458ms/step - loss: 0.0833 - accuracy: 0.9707 - val_loss: 0.0583 - val_accuracy: 0.9869\n",
            "Epoch 120/120\n",
            "118/118 [==============================] - 54s 458ms/step - loss: 0.0851 - accuracy: 0.9734 - val_loss: 0.0587 - val_accuracy: 0.9875\n"
          ]
        }
      ]
    },
    {
      "cell_type": "markdown",
      "source": [
        "**We have trained our model using training and validation sets!\n",
        "Now we have to import the test images and check if our model is generaling well.**"
      ],
      "metadata": {
        "id": "o-kPP2nyx0oZ"
      }
    },
    {
      "cell_type": "code",
      "source": [
        ""
      ],
      "metadata": {
        "id": "qUuOttEMx0P5"
      },
      "execution_count": null,
      "outputs": []
    },
    {
      "cell_type": "code",
      "source": [
        "#### Using our trained model on test images\n",
        "\n",
        "folder = r\"/content/drive/My Drive/Colab Notebooks/Datasets/sports-video-data/sports-video-data/test_images\"\n",
        "subfolders = [f.path for f in os.scandir(folder) if f.is_dir()]\n",
        "data_test=pd.DataFrame(columns=[\"image_path\",\"class\"])\n",
        "print(subfolders)\n",
        "for sub in subfolders:\n",
        "    for f in os.listdir(sub):\n",
        "      if sub=='/content/drive/My Drive/Colab Notebooks/Datasets/sports-video-data/sports-video-data/test_images/volleyball':\n",
        "        f1='/content/drive/My Drive/Colab Notebooks/Datasets/sports-video-data/sports-video-data/test_images/volleyball'+'/'+f\n",
        "        df1_test=pd.DataFrame([[f1,'volleyball']],columns=[\"image_path\",\"class\"])\n",
        "        data_test=data_test.append(df1_test)\n",
        "\n",
        "      elif sub=='/content/drive/My Drive/Colab Notebooks/Datasets/sports-video-data/sports-video-data/test_images/basketball':\n",
        "        f2='/content/drive/My Drive/Colab Notebooks/Datasets/sports-video-data/sports-video-data/test_images/basketball'+'/'+f\n",
        "        df1_test=pd.DataFrame([[f2,'basketball']],columns=[\"image_path\",\"class\"])\n",
        "        data_test=data_test.append(df1)\n",
        "\n",
        "      elif sub=='/content/drive/My Drive/Colab Notebooks/Datasets/sports-video-data/sports-video-data/test_images/baseball':\n",
        "        f3='/content/drive/My Drive/Colab Notebooks/Datasets/sports-video-data/sports-video-data/test_images/baseball'+'/'+f\n",
        "        df1_test=pd.DataFrame([[f3,'baseball']],columns=[\"image_path\",\"class\"])\n",
        "        data_test=data_test.append(df1_test)\n",
        "        \n",
        "      elif sub=='/content/drive/My Drive/Colab Notebooks/Datasets/sports-video-data/sports-video-data/test_images/football':\n",
        "        f4= '/content/drive/My Drive/Colab Notebooks/Datasets/sports-video-data/sports-video-data/test_images/football'+'/'+f\n",
        "        df1_test=pd.DataFrame([[f4,'football']],columns=[\"image_path\",\"class\"])\n",
        "        data_test=data_test.append(df1)\n",
        "\n",
        "      elif sub=='/content/drive/My Drive/Colab Notebooks/Datasets/sports-video-data/sports-video-data/test_images/boxing':\n",
        "        f5='/content/drive/My Drive/Colab Notebooks/Datasets/sports-video-data/sports-video-data/test_images/boxing'+'/'+f\n",
        "        df1_test=pd.DataFrame([[f5,'boxing']],columns=[\"image_path\",\"class\"])\n",
        "        data_test=data_test.append(df1)"
      ],
      "metadata": {
        "colab": {
          "base_uri": "https://localhost:8080/"
        },
        "id": "1m6ObX3YovC7",
        "outputId": "5721fef7-ebcf-45bb-a395-05633f0519f3"
      },
      "execution_count": null,
      "outputs": [
        {
          "output_type": "stream",
          "name": "stdout",
          "text": [
            "['/content/drive/My Drive/Colab Notebooks/Datasets/sports-video-data/sports-video-data/test_images/baseball', '/content/drive/My Drive/Colab Notebooks/Datasets/sports-video-data/sports-video-data/test_images/football', '/content/drive/My Drive/Colab Notebooks/Datasets/sports-video-data/sports-video-data/test_images/boxing', '/content/drive/My Drive/Colab Notebooks/Datasets/sports-video-data/sports-video-data/test_images/basketball', '/content/drive/My Drive/Colab Notebooks/Datasets/sports-video-data/sports-video-data/test_images/volleyball']\n"
          ]
        }
      ]
    },
    {
      "cell_type": "code",
      "source": [
        "data_test.shape"
      ],
      "metadata": {
        "colab": {
          "base_uri": "https://localhost:8080/"
        },
        "id": "mUc9dwoIpftX",
        "outputId": "bc538951-d267-498d-c344-61f06bd045b2"
      },
      "execution_count": null,
      "outputs": [
        {
          "output_type": "execute_result",
          "data": {
            "text/plain": [
              "(2398, 2)"
            ]
          },
          "metadata": {},
          "execution_count": 28
        }
      ]
    },
    {
      "cell_type": "code",
      "source": [
        "from sklearn.utils import shuffle\n",
        "data_test = shuffle(data_test)\n",
        "data_test.head()"
      ],
      "metadata": {
        "colab": {
          "base_uri": "https://localhost:8080/",
          "height": 206
        },
        "id": "NQB4wSkPpnFD",
        "outputId": "779dcbdc-3062-4ab8-91e3-b3d056aaf859"
      },
      "execution_count": null,
      "outputs": [
        {
          "output_type": "execute_result",
          "data": {
            "text/plain": [
              "                                          image_path       class\n",
              "0  /content/drive/My Drive/Colab Notebooks/Datase...    baseball\n",
              "0  /content/drive/My Drive/Colab Notebooks/Datase...    football\n",
              "0  /content/drive/My Drive/Colab Notebooks/Datase...    baseball\n",
              "0  /content/drive/My Drive/Colab Notebooks/Datase...    football\n",
              "0  /content/drive/My Drive/Colab Notebooks/Datase...  volleyball"
            ],
            "text/html": [
              "\n",
              "  <div id=\"df-22cb6e51-d3ce-4300-a75c-ba5993e3607c\">\n",
              "    <div class=\"colab-df-container\">\n",
              "      <div>\n",
              "<style scoped>\n",
              "    .dataframe tbody tr th:only-of-type {\n",
              "        vertical-align: middle;\n",
              "    }\n",
              "\n",
              "    .dataframe tbody tr th {\n",
              "        vertical-align: top;\n",
              "    }\n",
              "\n",
              "    .dataframe thead th {\n",
              "        text-align: right;\n",
              "    }\n",
              "</style>\n",
              "<table border=\"1\" class=\"dataframe\">\n",
              "  <thead>\n",
              "    <tr style=\"text-align: right;\">\n",
              "      <th></th>\n",
              "      <th>image_path</th>\n",
              "      <th>class</th>\n",
              "    </tr>\n",
              "  </thead>\n",
              "  <tbody>\n",
              "    <tr>\n",
              "      <th>0</th>\n",
              "      <td>/content/drive/My Drive/Colab Notebooks/Datase...</td>\n",
              "      <td>baseball</td>\n",
              "    </tr>\n",
              "    <tr>\n",
              "      <th>0</th>\n",
              "      <td>/content/drive/My Drive/Colab Notebooks/Datase...</td>\n",
              "      <td>football</td>\n",
              "    </tr>\n",
              "    <tr>\n",
              "      <th>0</th>\n",
              "      <td>/content/drive/My Drive/Colab Notebooks/Datase...</td>\n",
              "      <td>baseball</td>\n",
              "    </tr>\n",
              "    <tr>\n",
              "      <th>0</th>\n",
              "      <td>/content/drive/My Drive/Colab Notebooks/Datase...</td>\n",
              "      <td>football</td>\n",
              "    </tr>\n",
              "    <tr>\n",
              "      <th>0</th>\n",
              "      <td>/content/drive/My Drive/Colab Notebooks/Datase...</td>\n",
              "      <td>volleyball</td>\n",
              "    </tr>\n",
              "  </tbody>\n",
              "</table>\n",
              "</div>\n",
              "      <button class=\"colab-df-convert\" onclick=\"convertToInteractive('df-22cb6e51-d3ce-4300-a75c-ba5993e3607c')\"\n",
              "              title=\"Convert this dataframe to an interactive table.\"\n",
              "              style=\"display:none;\">\n",
              "        \n",
              "  <svg xmlns=\"http://www.w3.org/2000/svg\" height=\"24px\"viewBox=\"0 0 24 24\"\n",
              "       width=\"24px\">\n",
              "    <path d=\"M0 0h24v24H0V0z\" fill=\"none\"/>\n",
              "    <path d=\"M18.56 5.44l.94 2.06.94-2.06 2.06-.94-2.06-.94-.94-2.06-.94 2.06-2.06.94zm-11 1L8.5 8.5l.94-2.06 2.06-.94-2.06-.94L8.5 2.5l-.94 2.06-2.06.94zm10 10l.94 2.06.94-2.06 2.06-.94-2.06-.94-.94-2.06-.94 2.06-2.06.94z\"/><path d=\"M17.41 7.96l-1.37-1.37c-.4-.4-.92-.59-1.43-.59-.52 0-1.04.2-1.43.59L10.3 9.45l-7.72 7.72c-.78.78-.78 2.05 0 2.83L4 21.41c.39.39.9.59 1.41.59.51 0 1.02-.2 1.41-.59l7.78-7.78 2.81-2.81c.8-.78.8-2.07 0-2.86zM5.41 20L4 18.59l7.72-7.72 1.47 1.35L5.41 20z\"/>\n",
              "  </svg>\n",
              "      </button>\n",
              "      \n",
              "  <style>\n",
              "    .colab-df-container {\n",
              "      display:flex;\n",
              "      flex-wrap:wrap;\n",
              "      gap: 12px;\n",
              "    }\n",
              "\n",
              "    .colab-df-convert {\n",
              "      background-color: #E8F0FE;\n",
              "      border: none;\n",
              "      border-radius: 50%;\n",
              "      cursor: pointer;\n",
              "      display: none;\n",
              "      fill: #1967D2;\n",
              "      height: 32px;\n",
              "      padding: 0 0 0 0;\n",
              "      width: 32px;\n",
              "    }\n",
              "\n",
              "    .colab-df-convert:hover {\n",
              "      background-color: #E2EBFA;\n",
              "      box-shadow: 0px 1px 2px rgba(60, 64, 67, 0.3), 0px 1px 3px 1px rgba(60, 64, 67, 0.15);\n",
              "      fill: #174EA6;\n",
              "    }\n",
              "\n",
              "    [theme=dark] .colab-df-convert {\n",
              "      background-color: #3B4455;\n",
              "      fill: #D2E3FC;\n",
              "    }\n",
              "\n",
              "    [theme=dark] .colab-df-convert:hover {\n",
              "      background-color: #434B5C;\n",
              "      box-shadow: 0px 1px 3px 1px rgba(0, 0, 0, 0.15);\n",
              "      filter: drop-shadow(0px 1px 2px rgba(0, 0, 0, 0.3));\n",
              "      fill: #FFFFFF;\n",
              "    }\n",
              "  </style>\n",
              "\n",
              "      <script>\n",
              "        const buttonEl =\n",
              "          document.querySelector('#df-22cb6e51-d3ce-4300-a75c-ba5993e3607c button.colab-df-convert');\n",
              "        buttonEl.style.display =\n",
              "          google.colab.kernel.accessAllowed ? 'block' : 'none';\n",
              "\n",
              "        async function convertToInteractive(key) {\n",
              "          const element = document.querySelector('#df-22cb6e51-d3ce-4300-a75c-ba5993e3607c');\n",
              "          const dataTable =\n",
              "            await google.colab.kernel.invokeFunction('convertToInteractive',\n",
              "                                                     [key], {});\n",
              "          if (!dataTable) return;\n",
              "\n",
              "          const docLinkHtml = 'Like what you see? Visit the ' +\n",
              "            '<a target=\"_blank\" href=https://colab.research.google.com/notebooks/data_table.ipynb>data table notebook</a>'\n",
              "            + ' to learn more about interactive tables.';\n",
              "          element.innerHTML = '';\n",
              "          dataTable['output_type'] = 'display_data';\n",
              "          await google.colab.output.renderOutput(dataTable, element);\n",
              "          const docLink = document.createElement('div');\n",
              "          docLink.innerHTML = docLinkHtml;\n",
              "          element.appendChild(docLink);\n",
              "        }\n",
              "      </script>\n",
              "    </div>\n",
              "  </div>\n",
              "  "
            ]
          },
          "metadata": {},
          "execution_count": 29
        }
      ]
    },
    {
      "cell_type": "code",
      "source": [
        "data_test['class'].replace(['volleyball', 'basketball','baseball','football','boxing'],\n",
        "                        [0, 1,2,3,4], inplace=True)\n",
        "data_test.head()"
      ],
      "metadata": {
        "colab": {
          "base_uri": "https://localhost:8080/",
          "height": 206
        },
        "id": "XJXfaEAfptRL",
        "outputId": "74f2ec61-2f02-49db-a20a-c3f34a79665a"
      },
      "execution_count": null,
      "outputs": [
        {
          "output_type": "execute_result",
          "data": {
            "text/plain": [
              "                                          image_path  class\n",
              "0  /content/drive/My Drive/Colab Notebooks/Datase...      2\n",
              "0  /content/drive/My Drive/Colab Notebooks/Datase...      3\n",
              "0  /content/drive/My Drive/Colab Notebooks/Datase...      2\n",
              "0  /content/drive/My Drive/Colab Notebooks/Datase...      3\n",
              "0  /content/drive/My Drive/Colab Notebooks/Datase...      0"
            ],
            "text/html": [
              "\n",
              "  <div id=\"df-7567a2d7-d042-411d-8b3c-8edbf75ddd1c\">\n",
              "    <div class=\"colab-df-container\">\n",
              "      <div>\n",
              "<style scoped>\n",
              "    .dataframe tbody tr th:only-of-type {\n",
              "        vertical-align: middle;\n",
              "    }\n",
              "\n",
              "    .dataframe tbody tr th {\n",
              "        vertical-align: top;\n",
              "    }\n",
              "\n",
              "    .dataframe thead th {\n",
              "        text-align: right;\n",
              "    }\n",
              "</style>\n",
              "<table border=\"1\" class=\"dataframe\">\n",
              "  <thead>\n",
              "    <tr style=\"text-align: right;\">\n",
              "      <th></th>\n",
              "      <th>image_path</th>\n",
              "      <th>class</th>\n",
              "    </tr>\n",
              "  </thead>\n",
              "  <tbody>\n",
              "    <tr>\n",
              "      <th>0</th>\n",
              "      <td>/content/drive/My Drive/Colab Notebooks/Datase...</td>\n",
              "      <td>2</td>\n",
              "    </tr>\n",
              "    <tr>\n",
              "      <th>0</th>\n",
              "      <td>/content/drive/My Drive/Colab Notebooks/Datase...</td>\n",
              "      <td>3</td>\n",
              "    </tr>\n",
              "    <tr>\n",
              "      <th>0</th>\n",
              "      <td>/content/drive/My Drive/Colab Notebooks/Datase...</td>\n",
              "      <td>2</td>\n",
              "    </tr>\n",
              "    <tr>\n",
              "      <th>0</th>\n",
              "      <td>/content/drive/My Drive/Colab Notebooks/Datase...</td>\n",
              "      <td>3</td>\n",
              "    </tr>\n",
              "    <tr>\n",
              "      <th>0</th>\n",
              "      <td>/content/drive/My Drive/Colab Notebooks/Datase...</td>\n",
              "      <td>0</td>\n",
              "    </tr>\n",
              "  </tbody>\n",
              "</table>\n",
              "</div>\n",
              "      <button class=\"colab-df-convert\" onclick=\"convertToInteractive('df-7567a2d7-d042-411d-8b3c-8edbf75ddd1c')\"\n",
              "              title=\"Convert this dataframe to an interactive table.\"\n",
              "              style=\"display:none;\">\n",
              "        \n",
              "  <svg xmlns=\"http://www.w3.org/2000/svg\" height=\"24px\"viewBox=\"0 0 24 24\"\n",
              "       width=\"24px\">\n",
              "    <path d=\"M0 0h24v24H0V0z\" fill=\"none\"/>\n",
              "    <path d=\"M18.56 5.44l.94 2.06.94-2.06 2.06-.94-2.06-.94-.94-2.06-.94 2.06-2.06.94zm-11 1L8.5 8.5l.94-2.06 2.06-.94-2.06-.94L8.5 2.5l-.94 2.06-2.06.94zm10 10l.94 2.06.94-2.06 2.06-.94-2.06-.94-.94-2.06-.94 2.06-2.06.94z\"/><path d=\"M17.41 7.96l-1.37-1.37c-.4-.4-.92-.59-1.43-.59-.52 0-1.04.2-1.43.59L10.3 9.45l-7.72 7.72c-.78.78-.78 2.05 0 2.83L4 21.41c.39.39.9.59 1.41.59.51 0 1.02-.2 1.41-.59l7.78-7.78 2.81-2.81c.8-.78.8-2.07 0-2.86zM5.41 20L4 18.59l7.72-7.72 1.47 1.35L5.41 20z\"/>\n",
              "  </svg>\n",
              "      </button>\n",
              "      \n",
              "  <style>\n",
              "    .colab-df-container {\n",
              "      display:flex;\n",
              "      flex-wrap:wrap;\n",
              "      gap: 12px;\n",
              "    }\n",
              "\n",
              "    .colab-df-convert {\n",
              "      background-color: #E8F0FE;\n",
              "      border: none;\n",
              "      border-radius: 50%;\n",
              "      cursor: pointer;\n",
              "      display: none;\n",
              "      fill: #1967D2;\n",
              "      height: 32px;\n",
              "      padding: 0 0 0 0;\n",
              "      width: 32px;\n",
              "    }\n",
              "\n",
              "    .colab-df-convert:hover {\n",
              "      background-color: #E2EBFA;\n",
              "      box-shadow: 0px 1px 2px rgba(60, 64, 67, 0.3), 0px 1px 3px 1px rgba(60, 64, 67, 0.15);\n",
              "      fill: #174EA6;\n",
              "    }\n",
              "\n",
              "    [theme=dark] .colab-df-convert {\n",
              "      background-color: #3B4455;\n",
              "      fill: #D2E3FC;\n",
              "    }\n",
              "\n",
              "    [theme=dark] .colab-df-convert:hover {\n",
              "      background-color: #434B5C;\n",
              "      box-shadow: 0px 1px 3px 1px rgba(0, 0, 0, 0.15);\n",
              "      filter: drop-shadow(0px 1px 2px rgba(0, 0, 0, 0.3));\n",
              "      fill: #FFFFFF;\n",
              "    }\n",
              "  </style>\n",
              "\n",
              "      <script>\n",
              "        const buttonEl =\n",
              "          document.querySelector('#df-7567a2d7-d042-411d-8b3c-8edbf75ddd1c button.colab-df-convert');\n",
              "        buttonEl.style.display =\n",
              "          google.colab.kernel.accessAllowed ? 'block' : 'none';\n",
              "\n",
              "        async function convertToInteractive(key) {\n",
              "          const element = document.querySelector('#df-7567a2d7-d042-411d-8b3c-8edbf75ddd1c');\n",
              "          const dataTable =\n",
              "            await google.colab.kernel.invokeFunction('convertToInteractive',\n",
              "                                                     [key], {});\n",
              "          if (!dataTable) return;\n",
              "\n",
              "          const docLinkHtml = 'Like what you see? Visit the ' +\n",
              "            '<a target=\"_blank\" href=https://colab.research.google.com/notebooks/data_table.ipynb>data table notebook</a>'\n",
              "            + ' to learn more about interactive tables.';\n",
              "          element.innerHTML = '';\n",
              "          dataTable['output_type'] = 'display_data';\n",
              "          await google.colab.output.renderOutput(dataTable, element);\n",
              "          const docLink = document.createElement('div');\n",
              "          docLink.innerHTML = docLinkHtml;\n",
              "          element.appendChild(docLink);\n",
              "        }\n",
              "      </script>\n",
              "    </div>\n",
              "  </div>\n",
              "  "
            ]
          },
          "metadata": {},
          "execution_count": 30
        }
      ]
    },
    {
      "cell_type": "code",
      "source": [
        "test_imgs = data_test['image_path'].tolist()\n",
        "test_labels = data_test['class'].tolist()"
      ],
      "metadata": {
        "id": "vjzAlG8Zp3QU"
      },
      "execution_count": null,
      "outputs": []
    },
    {
      "cell_type": "code",
      "source": [
        "X_test, Y_test = read_and_process_image(test_imgs, test_labels)\n",
        "\n",
        "X_test = np.array(X_test)\n",
        "Y_test = np.array(Y_test)\n",
        "\n",
        "print('Shape of image is: {}'.format(X_test.shape))\n",
        "print('Shape of labels is: {}'.format(Y_test.shape))\n"
      ],
      "metadata": {
        "colab": {
          "base_uri": "https://localhost:8080/"
        },
        "id": "lKlI3T5uqAFr",
        "outputId": "d5b92efe-1e6d-423b-a44b-fc2400674101"
      },
      "execution_count": null,
      "outputs": [
        {
          "output_type": "stream",
          "name": "stdout",
          "text": [
            "0\n",
            "1000\n",
            "2000\n",
            "Shape of image is: (2398, 178, 178, 3)\n",
            "Shape of labels is: (2398, 5)\n"
          ]
        }
      ]
    },
    {
      "cell_type": "code",
      "source": [
        "test_datagen = X_test/255.0"
      ],
      "metadata": {
        "id": "KGu-0cA_wzix"
      },
      "execution_count": null,
      "outputs": []
    },
    {
      "cell_type": "code",
      "source": [
        "prediction = model.predict(test_datagen)\n",
        "#print(prediction)\n",
        "pred=np.argmax(prediction,axis=1)\n",
        "print(pred)"
      ],
      "metadata": {
        "colab": {
          "base_uri": "https://localhost:8080/"
        },
        "id": "MRaLTytsqfJb",
        "outputId": "f3e7f5d8-3f6a-473a-a923-1c304a70cdba"
      },
      "execution_count": null,
      "outputs": [
        {
          "output_type": "stream",
          "name": "stdout",
          "text": [
            "[2 3 3 ... 3 3 3]\n"
          ]
        }
      ]
    },
    {
      "cell_type": "code",
      "source": [
        "Y_test\n",
        "true=np.argmax(Y_test,axis=1)"
      ],
      "metadata": {
        "id": "6VSqDK_jr0CT"
      },
      "execution_count": null,
      "outputs": []
    },
    {
      "cell_type": "code",
      "source": [
        "true"
      ],
      "metadata": {
        "colab": {
          "base_uri": "https://localhost:8080/"
        },
        "id": "HcZGHdxjwV2q",
        "outputId": "7a2f7bdc-e265-4bf0-8232-6bd2b8cc3e4c"
      },
      "execution_count": null,
      "outputs": [
        {
          "output_type": "execute_result",
          "data": {
            "text/plain": [
              "array([2, 3, 2, ..., 3, 3, 3])"
            ]
          },
          "metadata": {},
          "execution_count": 36
        }
      ]
    },
    {
      "cell_type": "code",
      "source": [
        "correct = (true == pred)\n",
        "accuracy = correct.sum() / correct.size"
      ],
      "metadata": {
        "id": "u4F1wYxbsTT6"
      },
      "execution_count": null,
      "outputs": []
    },
    {
      "cell_type": "code",
      "source": [
        "accuracy"
      ],
      "metadata": {
        "colab": {
          "base_uri": "https://localhost:8080/"
        },
        "id": "oGudmw_YwmiS",
        "outputId": "0f8b0d0e-ce46-4c5f-d71b-5d7135160b2a"
      },
      "execution_count": null,
      "outputs": [
        {
          "output_type": "execute_result",
          "data": {
            "text/plain": [
              "0.8869891576313594"
            ]
          },
          "metadata": {},
          "execution_count": 38
        }
      ]
    },
    {
      "cell_type": "markdown",
      "source": [
        "**We get a test accuracy of approximately 89 % !!!**"
      ],
      "metadata": {
        "id": "cN64vibcyVNg"
      }
    },
    {
      "cell_type": "code",
      "source": [
        "dir = r'/content/drive/My Drive/Colab Notebooks/Datasets/sports-video-data/sports-video-data/ext_img'"
      ],
      "metadata": {
        "id": "V1hgDJIn1IwS"
      },
      "execution_count": null,
      "outputs": []
    },
    {
      "cell_type": "code",
      "source": [
        "import cv2\n",
        "def getFrame(sec):\n",
        "  vidcap.set(cv2.CAP_PROP_POS_MSEC,sec*1000)\n",
        "  hasFrames,image = vidcap.read()\n",
        "  if hasFrames:\n",
        "    cv2.imwrite(f+\"image\"+str(count)+\".jpg\", image)     # save frame as JPG file\n",
        "  return hasFrames\n",
        "folder = r\"/content/drive/My Drive/Colab Notebooks/Datasets/sports-video-data/sports-video-data/test_videos\"\n",
        "for f in os.listdir(folder):\n",
        "  print(f)\n",
        "  vidcap = cv2.VideoCapture(f)\n",
        "  sec = 0\n",
        "  frameRate = 1 #//it will capture image in each 0.5 second\n",
        "  count=1\n",
        "  success = getFrame(sec)\n",
        "  while success:\n",
        "    count = count + 1\n",
        "    sec = sec + frameRate\n",
        "    sec = round(sec, 2)\n",
        "    success = getFrame(sec)"
      ],
      "metadata": {
        "colab": {
          "base_uri": "https://localhost:8080/"
        },
        "id": "G4sxGV8kyecA",
        "outputId": "c45d650d-5020-4c3b-a2b0-ea20f9777855"
      },
      "execution_count": null,
      "outputs": [
        {
          "output_type": "stream",
          "name": "stdout",
          "text": [
            "basketball_1.mp4\n",
            "baseball_1.mp4\n",
            "basketball_2.mp4\n",
            "baseball_2.mp4\n",
            "boxing_1.mp4\n",
            "boxing_2.mp4\n",
            "volleyball_1.mp4\n",
            "volleyball_2.mp4\n",
            "football_2.mp4\n",
            "football_1.mp4\n"
          ]
        }
      ]
    },
    {
      "cell_type": "code",
      "source": [
        ""
      ],
      "metadata": {
        "id": "QsP-m5BgAqfk"
      },
      "execution_count": null,
      "outputs": []
    },
    {
      "cell_type": "markdown",
      "source": [
        "We now predict the accuracy for extracted images"
      ],
      "metadata": {
        "id": "9X5fz8H6Arnk"
      }
    },
    {
      "cell_type": "code",
      "source": [
        "folder = r\"/content/drive/My Drive/Colab Notebooks/Datasets/sports-video-data/sports-video-data/ext_img\"\n",
        "subfolders = [f.path for f in os.scandir(folder) if f.is_dir()]\n",
        "data_test=pd.DataFrame(columns=[\"image_path\",\"class\"])\n",
        "print(subfolders)\n",
        "for sub in subfolders:\n",
        "    for f in os.listdir(sub):\n",
        "      if sub=='/content/drive/My Drive/Colab Notebooks/Datasets/sports-video-data/sports-video-data/ext_img/volleyball':\n",
        "        f1='/content/drive/My Drive/Colab Notebooks/Datasets/sports-video-data/sports-video-data/ext_img/volleyball'+'/'+f\n",
        "        df1_test=pd.DataFrame([[f1,'volleyball']],columns=[\"image_path\",\"class\"])\n",
        "        data_test=data_test.append(df1_test)\n",
        "\n",
        "      elif sub=='/content/drive/My Drive/Colab Notebooks/Datasets/sports-video-data/sports-video-data/ext_img/basketball':\n",
        "        f2='/content/drive/My Drive/Colab Notebooks/Datasets/sports-video-data/sports-video-data/ext_img/basketball'+'/'+f\n",
        "        df1_test=pd.DataFrame([[f2,'basketball']],columns=[\"image_path\",\"class\"])\n",
        "        data_test=data_test.append(df1)\n",
        "\n",
        "      elif sub=='/content/drive/My Drive/Colab Notebooks/Datasets/sports-video-data/sports-video-data/ext_img/baseball':\n",
        "        f3='/content/drive/My Drive/Colab Notebooks/Datasets/sports-video-data/sports-video-data/ext_img/baseball'+'/'+f\n",
        "        df1_test=pd.DataFrame([[f3,'baseball']],columns=[\"image_path\",\"class\"])\n",
        "        data_test=data_test.append(df1_test)\n",
        "        \n",
        "      elif sub=='/content/drive/My Drive/Colab Notebooks/Datasets/sports-video-data/sports-video-data/ext_img/football':\n",
        "        f4= '/content/drive/My Drive/Colab Notebooks/Datasets/sports-video-data/sports-video-data/ext_img/football'+'/'+f\n",
        "        df1_test=pd.DataFrame([[f4,'football']],columns=[\"image_path\",\"class\"])\n",
        "        data_test=data_test.append(df1)\n",
        "\n",
        "      elif sub=='/content/drive/My Drive/Colab Notebooks/Datasets/sports-video-data/sports-video-data/ext_img/boxing':\n",
        "        f5='/content/drive/My Drive/Colab Notebooks/Datasets/sports-video-data/sports-video-data/ext_img/boxing'+'/'+f\n",
        "        df1_test=pd.DataFrame([[f5,'boxing']],columns=[\"image_path\",\"class\"])\n",
        "        data_test=data_test.append(df1)"
      ],
      "metadata": {
        "colab": {
          "base_uri": "https://localhost:8080/"
        },
        "id": "OsL41-siAvQk",
        "outputId": "79d7a4e5-709a-41dc-a343-77e0e620912f"
      },
      "execution_count": null,
      "outputs": [
        {
          "output_type": "stream",
          "name": "stdout",
          "text": [
            "['/content/drive/My Drive/Colab Notebooks/Datasets/sports-video-data/sports-video-data/ext_img/baseball', '/content/drive/My Drive/Colab Notebooks/Datasets/sports-video-data/sports-video-data/ext_img/basketball', '/content/drive/My Drive/Colab Notebooks/Datasets/sports-video-data/sports-video-data/ext_img/boxing', '/content/drive/My Drive/Colab Notebooks/Datasets/sports-video-data/sports-video-data/ext_img/volleyball', '/content/drive/My Drive/Colab Notebooks/Datasets/sports-video-data/sports-video-data/ext_img/football']\n"
          ]
        }
      ]
    },
    {
      "cell_type": "code",
      "source": [
        "from sklearn.utils import shuffle\n",
        "data_test = shuffle(data_test)\n",
        "data_test.head()"
      ],
      "metadata": {
        "colab": {
          "base_uri": "https://localhost:8080/",
          "height": 206
        },
        "id": "jh0Cjiw-BNa9",
        "outputId": "f77861cf-777c-4adf-ce60-ff554ba74d96"
      },
      "execution_count": null,
      "outputs": [
        {
          "output_type": "execute_result",
          "data": {
            "text/plain": [
              "                                          image_path     class\n",
              "0  /content/drive/My Drive/Colab Notebooks/Datase...  football\n",
              "0  /content/drive/My Drive/Colab Notebooks/Datase...  baseball\n",
              "0  /content/drive/My Drive/Colab Notebooks/Datase...  football\n",
              "0  /content/drive/My Drive/Colab Notebooks/Datase...  football\n",
              "0  /content/drive/My Drive/Colab Notebooks/Datase...  football"
            ],
            "text/html": [
              "\n",
              "  <div id=\"df-3895bd18-936d-46cb-86a6-6710a466d9d0\">\n",
              "    <div class=\"colab-df-container\">\n",
              "      <div>\n",
              "<style scoped>\n",
              "    .dataframe tbody tr th:only-of-type {\n",
              "        vertical-align: middle;\n",
              "    }\n",
              "\n",
              "    .dataframe tbody tr th {\n",
              "        vertical-align: top;\n",
              "    }\n",
              "\n",
              "    .dataframe thead th {\n",
              "        text-align: right;\n",
              "    }\n",
              "</style>\n",
              "<table border=\"1\" class=\"dataframe\">\n",
              "  <thead>\n",
              "    <tr style=\"text-align: right;\">\n",
              "      <th></th>\n",
              "      <th>image_path</th>\n",
              "      <th>class</th>\n",
              "    </tr>\n",
              "  </thead>\n",
              "  <tbody>\n",
              "    <tr>\n",
              "      <th>0</th>\n",
              "      <td>/content/drive/My Drive/Colab Notebooks/Datase...</td>\n",
              "      <td>football</td>\n",
              "    </tr>\n",
              "    <tr>\n",
              "      <th>0</th>\n",
              "      <td>/content/drive/My Drive/Colab Notebooks/Datase...</td>\n",
              "      <td>baseball</td>\n",
              "    </tr>\n",
              "    <tr>\n",
              "      <th>0</th>\n",
              "      <td>/content/drive/My Drive/Colab Notebooks/Datase...</td>\n",
              "      <td>football</td>\n",
              "    </tr>\n",
              "    <tr>\n",
              "      <th>0</th>\n",
              "      <td>/content/drive/My Drive/Colab Notebooks/Datase...</td>\n",
              "      <td>football</td>\n",
              "    </tr>\n",
              "    <tr>\n",
              "      <th>0</th>\n",
              "      <td>/content/drive/My Drive/Colab Notebooks/Datase...</td>\n",
              "      <td>football</td>\n",
              "    </tr>\n",
              "  </tbody>\n",
              "</table>\n",
              "</div>\n",
              "      <button class=\"colab-df-convert\" onclick=\"convertToInteractive('df-3895bd18-936d-46cb-86a6-6710a466d9d0')\"\n",
              "              title=\"Convert this dataframe to an interactive table.\"\n",
              "              style=\"display:none;\">\n",
              "        \n",
              "  <svg xmlns=\"http://www.w3.org/2000/svg\" height=\"24px\"viewBox=\"0 0 24 24\"\n",
              "       width=\"24px\">\n",
              "    <path d=\"M0 0h24v24H0V0z\" fill=\"none\"/>\n",
              "    <path d=\"M18.56 5.44l.94 2.06.94-2.06 2.06-.94-2.06-.94-.94-2.06-.94 2.06-2.06.94zm-11 1L8.5 8.5l.94-2.06 2.06-.94-2.06-.94L8.5 2.5l-.94 2.06-2.06.94zm10 10l.94 2.06.94-2.06 2.06-.94-2.06-.94-.94-2.06-.94 2.06-2.06.94z\"/><path d=\"M17.41 7.96l-1.37-1.37c-.4-.4-.92-.59-1.43-.59-.52 0-1.04.2-1.43.59L10.3 9.45l-7.72 7.72c-.78.78-.78 2.05 0 2.83L4 21.41c.39.39.9.59 1.41.59.51 0 1.02-.2 1.41-.59l7.78-7.78 2.81-2.81c.8-.78.8-2.07 0-2.86zM5.41 20L4 18.59l7.72-7.72 1.47 1.35L5.41 20z\"/>\n",
              "  </svg>\n",
              "      </button>\n",
              "      \n",
              "  <style>\n",
              "    .colab-df-container {\n",
              "      display:flex;\n",
              "      flex-wrap:wrap;\n",
              "      gap: 12px;\n",
              "    }\n",
              "\n",
              "    .colab-df-convert {\n",
              "      background-color: #E8F0FE;\n",
              "      border: none;\n",
              "      border-radius: 50%;\n",
              "      cursor: pointer;\n",
              "      display: none;\n",
              "      fill: #1967D2;\n",
              "      height: 32px;\n",
              "      padding: 0 0 0 0;\n",
              "      width: 32px;\n",
              "    }\n",
              "\n",
              "    .colab-df-convert:hover {\n",
              "      background-color: #E2EBFA;\n",
              "      box-shadow: 0px 1px 2px rgba(60, 64, 67, 0.3), 0px 1px 3px 1px rgba(60, 64, 67, 0.15);\n",
              "      fill: #174EA6;\n",
              "    }\n",
              "\n",
              "    [theme=dark] .colab-df-convert {\n",
              "      background-color: #3B4455;\n",
              "      fill: #D2E3FC;\n",
              "    }\n",
              "\n",
              "    [theme=dark] .colab-df-convert:hover {\n",
              "      background-color: #434B5C;\n",
              "      box-shadow: 0px 1px 3px 1px rgba(0, 0, 0, 0.15);\n",
              "      filter: drop-shadow(0px 1px 2px rgba(0, 0, 0, 0.3));\n",
              "      fill: #FFFFFF;\n",
              "    }\n",
              "  </style>\n",
              "\n",
              "      <script>\n",
              "        const buttonEl =\n",
              "          document.querySelector('#df-3895bd18-936d-46cb-86a6-6710a466d9d0 button.colab-df-convert');\n",
              "        buttonEl.style.display =\n",
              "          google.colab.kernel.accessAllowed ? 'block' : 'none';\n",
              "\n",
              "        async function convertToInteractive(key) {\n",
              "          const element = document.querySelector('#df-3895bd18-936d-46cb-86a6-6710a466d9d0');\n",
              "          const dataTable =\n",
              "            await google.colab.kernel.invokeFunction('convertToInteractive',\n",
              "                                                     [key], {});\n",
              "          if (!dataTable) return;\n",
              "\n",
              "          const docLinkHtml = 'Like what you see? Visit the ' +\n",
              "            '<a target=\"_blank\" href=https://colab.research.google.com/notebooks/data_table.ipynb>data table notebook</a>'\n",
              "            + ' to learn more about interactive tables.';\n",
              "          element.innerHTML = '';\n",
              "          dataTable['output_type'] = 'display_data';\n",
              "          await google.colab.output.renderOutput(dataTable, element);\n",
              "          const docLink = document.createElement('div');\n",
              "          docLink.innerHTML = docLinkHtml;\n",
              "          element.appendChild(docLink);\n",
              "        }\n",
              "      </script>\n",
              "    </div>\n",
              "  </div>\n",
              "  "
            ]
          },
          "metadata": {},
          "execution_count": 42
        }
      ]
    },
    {
      "cell_type": "code",
      "source": [
        "data_test['class'].replace(['volleyball', 'basketball','baseball','football','boxing'],\n",
        "                        [0, 1,2,3,4], inplace=True)\n",
        "data_test.head()"
      ],
      "metadata": {
        "colab": {
          "base_uri": "https://localhost:8080/",
          "height": 206
        },
        "id": "lfgm9NF8BN6H",
        "outputId": "f0b1fbfd-a890-416e-ee9a-d9edf599b00b"
      },
      "execution_count": null,
      "outputs": [
        {
          "output_type": "execute_result",
          "data": {
            "text/plain": [
              "                                          image_path  class\n",
              "0  /content/drive/My Drive/Colab Notebooks/Datase...      3\n",
              "0  /content/drive/My Drive/Colab Notebooks/Datase...      2\n",
              "0  /content/drive/My Drive/Colab Notebooks/Datase...      3\n",
              "0  /content/drive/My Drive/Colab Notebooks/Datase...      3\n",
              "0  /content/drive/My Drive/Colab Notebooks/Datase...      3"
            ],
            "text/html": [
              "\n",
              "  <div id=\"df-9610a0d9-f9d9-473a-8e38-5062f5fb87d1\">\n",
              "    <div class=\"colab-df-container\">\n",
              "      <div>\n",
              "<style scoped>\n",
              "    .dataframe tbody tr th:only-of-type {\n",
              "        vertical-align: middle;\n",
              "    }\n",
              "\n",
              "    .dataframe tbody tr th {\n",
              "        vertical-align: top;\n",
              "    }\n",
              "\n",
              "    .dataframe thead th {\n",
              "        text-align: right;\n",
              "    }\n",
              "</style>\n",
              "<table border=\"1\" class=\"dataframe\">\n",
              "  <thead>\n",
              "    <tr style=\"text-align: right;\">\n",
              "      <th></th>\n",
              "      <th>image_path</th>\n",
              "      <th>class</th>\n",
              "    </tr>\n",
              "  </thead>\n",
              "  <tbody>\n",
              "    <tr>\n",
              "      <th>0</th>\n",
              "      <td>/content/drive/My Drive/Colab Notebooks/Datase...</td>\n",
              "      <td>3</td>\n",
              "    </tr>\n",
              "    <tr>\n",
              "      <th>0</th>\n",
              "      <td>/content/drive/My Drive/Colab Notebooks/Datase...</td>\n",
              "      <td>2</td>\n",
              "    </tr>\n",
              "    <tr>\n",
              "      <th>0</th>\n",
              "      <td>/content/drive/My Drive/Colab Notebooks/Datase...</td>\n",
              "      <td>3</td>\n",
              "    </tr>\n",
              "    <tr>\n",
              "      <th>0</th>\n",
              "      <td>/content/drive/My Drive/Colab Notebooks/Datase...</td>\n",
              "      <td>3</td>\n",
              "    </tr>\n",
              "    <tr>\n",
              "      <th>0</th>\n",
              "      <td>/content/drive/My Drive/Colab Notebooks/Datase...</td>\n",
              "      <td>3</td>\n",
              "    </tr>\n",
              "  </tbody>\n",
              "</table>\n",
              "</div>\n",
              "      <button class=\"colab-df-convert\" onclick=\"convertToInteractive('df-9610a0d9-f9d9-473a-8e38-5062f5fb87d1')\"\n",
              "              title=\"Convert this dataframe to an interactive table.\"\n",
              "              style=\"display:none;\">\n",
              "        \n",
              "  <svg xmlns=\"http://www.w3.org/2000/svg\" height=\"24px\"viewBox=\"0 0 24 24\"\n",
              "       width=\"24px\">\n",
              "    <path d=\"M0 0h24v24H0V0z\" fill=\"none\"/>\n",
              "    <path d=\"M18.56 5.44l.94 2.06.94-2.06 2.06-.94-2.06-.94-.94-2.06-.94 2.06-2.06.94zm-11 1L8.5 8.5l.94-2.06 2.06-.94-2.06-.94L8.5 2.5l-.94 2.06-2.06.94zm10 10l.94 2.06.94-2.06 2.06-.94-2.06-.94-.94-2.06-.94 2.06-2.06.94z\"/><path d=\"M17.41 7.96l-1.37-1.37c-.4-.4-.92-.59-1.43-.59-.52 0-1.04.2-1.43.59L10.3 9.45l-7.72 7.72c-.78.78-.78 2.05 0 2.83L4 21.41c.39.39.9.59 1.41.59.51 0 1.02-.2 1.41-.59l7.78-7.78 2.81-2.81c.8-.78.8-2.07 0-2.86zM5.41 20L4 18.59l7.72-7.72 1.47 1.35L5.41 20z\"/>\n",
              "  </svg>\n",
              "      </button>\n",
              "      \n",
              "  <style>\n",
              "    .colab-df-container {\n",
              "      display:flex;\n",
              "      flex-wrap:wrap;\n",
              "      gap: 12px;\n",
              "    }\n",
              "\n",
              "    .colab-df-convert {\n",
              "      background-color: #E8F0FE;\n",
              "      border: none;\n",
              "      border-radius: 50%;\n",
              "      cursor: pointer;\n",
              "      display: none;\n",
              "      fill: #1967D2;\n",
              "      height: 32px;\n",
              "      padding: 0 0 0 0;\n",
              "      width: 32px;\n",
              "    }\n",
              "\n",
              "    .colab-df-convert:hover {\n",
              "      background-color: #E2EBFA;\n",
              "      box-shadow: 0px 1px 2px rgba(60, 64, 67, 0.3), 0px 1px 3px 1px rgba(60, 64, 67, 0.15);\n",
              "      fill: #174EA6;\n",
              "    }\n",
              "\n",
              "    [theme=dark] .colab-df-convert {\n",
              "      background-color: #3B4455;\n",
              "      fill: #D2E3FC;\n",
              "    }\n",
              "\n",
              "    [theme=dark] .colab-df-convert:hover {\n",
              "      background-color: #434B5C;\n",
              "      box-shadow: 0px 1px 3px 1px rgba(0, 0, 0, 0.15);\n",
              "      filter: drop-shadow(0px 1px 2px rgba(0, 0, 0, 0.3));\n",
              "      fill: #FFFFFF;\n",
              "    }\n",
              "  </style>\n",
              "\n",
              "      <script>\n",
              "        const buttonEl =\n",
              "          document.querySelector('#df-9610a0d9-f9d9-473a-8e38-5062f5fb87d1 button.colab-df-convert');\n",
              "        buttonEl.style.display =\n",
              "          google.colab.kernel.accessAllowed ? 'block' : 'none';\n",
              "\n",
              "        async function convertToInteractive(key) {\n",
              "          const element = document.querySelector('#df-9610a0d9-f9d9-473a-8e38-5062f5fb87d1');\n",
              "          const dataTable =\n",
              "            await google.colab.kernel.invokeFunction('convertToInteractive',\n",
              "                                                     [key], {});\n",
              "          if (!dataTable) return;\n",
              "\n",
              "          const docLinkHtml = 'Like what you see? Visit the ' +\n",
              "            '<a target=\"_blank\" href=https://colab.research.google.com/notebooks/data_table.ipynb>data table notebook</a>'\n",
              "            + ' to learn more about interactive tables.';\n",
              "          element.innerHTML = '';\n",
              "          dataTable['output_type'] = 'display_data';\n",
              "          await google.colab.output.renderOutput(dataTable, element);\n",
              "          const docLink = document.createElement('div');\n",
              "          docLink.innerHTML = docLinkHtml;\n",
              "          element.appendChild(docLink);\n",
              "        }\n",
              "      </script>\n",
              "    </div>\n",
              "  </div>\n",
              "  "
            ]
          },
          "metadata": {},
          "execution_count": 43
        }
      ]
    },
    {
      "cell_type": "code",
      "source": [
        "test_imgs = data_test['image_path'].tolist()\n",
        "test_labels = data_test['class'].tolist()"
      ],
      "metadata": {
        "id": "8zoVf3H9BRQ9"
      },
      "execution_count": null,
      "outputs": []
    },
    {
      "cell_type": "code",
      "source": [
        "X_test, Y_test = read_and_process_image(test_imgs, test_labels)\n",
        "\n",
        "X_test = np.array(X_test)\n",
        "Y_test = np.array(Y_test)\n",
        "\n",
        "print('Shape of image is: {}'.format(X_test.shape))\n",
        "print('Shape of labels is: {}'.format(Y_test.shape))"
      ],
      "metadata": {
        "colab": {
          "base_uri": "https://localhost:8080/"
        },
        "id": "23svM7BqBT4V",
        "outputId": "54036de4-30bd-4801-c67f-8d825f6b3201"
      },
      "execution_count": null,
      "outputs": [
        {
          "output_type": "stream",
          "name": "stdout",
          "text": [
            "0\n",
            "Shape of image is: (109, 178, 178, 3)\n",
            "Shape of labels is: (109, 5)\n"
          ]
        }
      ]
    },
    {
      "cell_type": "code",
      "source": [
        "test_datagen = X_test/255.0"
      ],
      "metadata": {
        "id": "_ggnzaR5BXsl"
      },
      "execution_count": null,
      "outputs": []
    },
    {
      "cell_type": "code",
      "source": [
        "prediction = model.predict(test_datagen)\n",
        "#print(prediction)\n",
        "pred=np.argmax(prediction,axis=1)\n",
        "print(pred)"
      ],
      "metadata": {
        "colab": {
          "base_uri": "https://localhost:8080/"
        },
        "id": "aiia1XRuBajN",
        "outputId": "933ee302-82e1-4eb3-f044-939a0e580e78"
      },
      "execution_count": null,
      "outputs": [
        {
          "output_type": "stream",
          "name": "stdout",
          "text": [
            "[3 2 3 3 3 2 1 3 2 3 3 3 4 3 3 3 4 2 4 3 3 1 2 3 3 3 4 3 3 2 3 3 3 2 2 1 3\n",
            " 1 3 3 3 3 1 3 2 3 3 3 3 2 2 3 2 3 2 3 3 1 3 1 1 1 2 2 4 4 3 3 4 3 3 2 1 2\n",
            " 3 3 3 3 3 3 3 3 3 3 3 3 3 3 3 3 3 3 1 3 3 2 3 2 4 2 3 4 3 3 4 4 3 2 2]\n"
          ]
        }
      ]
    },
    {
      "cell_type": "code",
      "source": [
        "Y_test\n",
        "true=np.argmax(Y_test,axis=1)"
      ],
      "metadata": {
        "id": "N2tyhal4Bc17"
      },
      "execution_count": null,
      "outputs": []
    },
    {
      "cell_type": "code",
      "source": [
        "correct = (true == pred)\n",
        "accuracy = correct.sum() / correct.size"
      ],
      "metadata": {
        "id": "_2mS43M8BgSW"
      },
      "execution_count": null,
      "outputs": []
    },
    {
      "cell_type": "code",
      "source": [
        "accuracy"
      ],
      "metadata": {
        "colab": {
          "base_uri": "https://localhost:8080/"
        },
        "id": "w2ZygnFhBjj1",
        "outputId": "6c9e4619-c2ce-4f20-9774-96d14dd740d6"
      },
      "execution_count": null,
      "outputs": [
        {
          "output_type": "execute_result",
          "data": {
            "text/plain": [
              "0.7981651376146789"
            ]
          },
          "metadata": {},
          "execution_count": 50
        }
      ]
    },
    {
      "cell_type": "code",
      "source": [
        ""
      ],
      "metadata": {
        "id": "4LmwlVD-Bk8d"
      },
      "execution_count": null,
      "outputs": []
    },
    {
      "cell_type": "markdown",
      "source": [
        "**We get a 80 % accuracy for extracted images from test videos**"
      ],
      "metadata": {
        "id": "zJDH_xIN08QT"
      }
    },
    {
      "cell_type": "code",
      "source": [
        ""
      ],
      "metadata": {
        "id": "h5U9V_as1EAM"
      },
      "execution_count": null,
      "outputs": []
    }
  ]
}